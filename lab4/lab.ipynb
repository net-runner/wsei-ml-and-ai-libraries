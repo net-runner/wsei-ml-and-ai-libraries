{
 "cells": [
  {
   "cell_type": "markdown",
   "metadata": {},
   "source": [
    "# Zadanie\n",
    "\n",
    "1. Zbuduj regresyjny model bazowy\n",
    "\n",
    "2. Dokonaj optymalizacji regresji. Celem jest wybór najlepszego modelu,\n",
    "dostrojenie jego hiperparametrów, ocena jakości predykcji oraz analiza wyników.\n",
    "\n",
    "W pierwszym etapie należy przetestować różne modele regresyjne na przygotowanym zbiorze\n",
    "danych, porównując ich skuteczność na podstawie wybranych metryk regresyjnych (np. MAE,\n",
    "RMSE, R²). Po identyfikacji najlepszego modelu należy przeprowadzić dostrajanie jego\n",
    "hiperparametrów.\n",
    "\n",
    "Po zakończeniu optymalizacji należy przeanalizować jakość przewidywań, a także – w miarę\n",
    "możliwości – zweryfikować założenia modelu i rozkład reszt. W kolejnym kroku należy\n",
    "przeprowadzić analizę istotności cech, jeśli model na to pozwala.\n",
    "\n",
    "3. Sformułuj wnioski i obserwacje dotyczące działania modelu i jego\n",
    "dopasowania do danych.\n"
   ]
  },
  {
   "cell_type": "code",
   "execution_count": 9,
   "metadata": {},
   "outputs": [],
   "source": [
    "import polars as pl\n",
    "import numpy as np\n",
    "import plotly.express as px\n",
    "import plotly.graph_objects as go\n",
    "from sklearn.model_selection import train_test_split, TimeSeriesSplit\n",
    "from sklearn.linear_model import LinearRegression\n",
    "from sklearn.ensemble import RandomForestRegressor\n",
    "from xgboost import XGBRegressor\n",
    "from sklearn.metrics import mean_absolute_error, mean_squared_error, r2_score\n",
    "import warnings\n",
    "\n",
    "\n",
    "import load_data as dataLoader\n",
    "\n",
    "warnings.filterwarnings('ignore')\n",
    "px.defaults.template = \"plotly_dark\""
   ]
  },
  {
   "cell_type": "code",
   "execution_count": null,
   "metadata": {},
   "outputs": [
    {
     "name": "stdout",
     "output_type": "stream",
     "text": [
      "Currency Data Shape: (234156, 7)\n",
      "Leagues Data Shape: (11, 5)\n",
      "Players Data Shape: (5815, 3)\n"
     ]
    }
   ],
   "source": [
    "# Ładowanie danych\n",
    "df_currency = dataLoader.load_data_pl()\n",
    "df_leagues = dataLoader.load_league_info_pl()\n",
    "\n",
    "print(\"Currency Data Shape:\", df_currency.shape)\n",
    "print(\"Leagues Data Shape:\", df_leagues.shape)\n",
    "print(\"Players Data Shape:\", df_players.shape)\n"
   ]
  },
  {
   "cell_type": "code",
   "execution_count": 11,
   "metadata": {},
   "outputs": [
    {
     "name": "stdout",
     "output_type": "stream",
     "text": [
      "Feature DataFrame after creating index:\n",
      "shape: (5, 8)\n",
      "┌────────────┬──────────┬────────────┬────────────┬────────────┬───────────┬───────────┬───────────┐\n",
      "│ Date       ┆ League   ┆ Hunter's   ┆ Warlord's  ┆ Crusader's ┆ Redeemer' ┆ Blessing  ┆ economic_ │\n",
      "│ ---        ┆ ---      ┆ Exalted    ┆ Exalted    ┆ Exalted    ┆ s Exalted ┆ of        ┆ index     │\n",
      "│ date       ┆ str      ┆ Orb        ┆ Orb        ┆ Orb        ┆ Orb       ┆ Chayula   ┆ ---       │\n",
      "│            ┆          ┆ ---        ┆ ---        ┆ ---        ┆ ---       ┆ ---       ┆ f64       │\n",
      "│            ┆          ┆ f64        ┆ f64        ┆ f64        ┆ f64       ┆ f64       ┆           │\n",
      "╞════════════╪══════════╪════════════╪════════════╪════════════╪═══════════╪═══════════╪═══════════╡\n",
      "│ 2022-08-20 ┆ Kalandra ┆ 76.77758   ┆ 49.34123   ┆ 49.32625   ┆ 65.0      ┆ 109.3     ┆ 69.949012 │\n",
      "│ 2022-08-21 ┆ Kalandra ┆ 89.27368   ┆ 44.87255   ┆ 35.09      ┆ 49.19549  ┆ 95.0      ┆ 62.686344 │\n",
      "│ 2022-08-22 ┆ Kalandra ┆ 120.0      ┆ 50.0       ┆ 28.0       ┆ 34.0      ┆ 70.0      ┆ 60.4      │\n",
      "│ 2022-08-23 ┆ Kalandra ┆ 179.02895  ┆ 49.0       ┆ 33.45083   ┆ 30.0      ┆ 57.01144  ┆ 69.698244 │\n",
      "│ 2022-08-24 ┆ Kalandra ┆ 220.04117  ┆ 73.0       ┆ 39.0       ┆ 35.0      ┆ 40.0      ┆ 81.408234 │\n",
      "└────────────┴──────────┴────────────┴────────────┴────────────┴───────────┴───────────┴───────────┘\n"
     ]
    }
   ],
   "source": [
    "# Budowa indeksu ekonomicznego na bazie kluczowych walut\n",
    "currency_basket = ['Redeemer\\'s Exalted Orb','Crusader\\'s Exalted Orb','Hunter\\'s Exalted Orb', 'Warlord\\'s Exalted Orb', \"Blessing of Chayula\"]\n",
    "\n",
    "\n",
    "df_prices = df_currency.filter(\n",
    "    (pl.col('Pay') == 'Chaos Orb') & (pl.col('Get').is_in(currency_basket))\n",
    ")\n",
    "\n",
    "\n",
    "df_pivot = df_prices.pivot(\n",
    "    values='Value',\n",
    "    index=['Date', 'League'],\n",
    "    columns='Get'\n",
    ").sort('Date')\n",
    "\n",
    "\n",
    "for currency in currency_basket:\n",
    "    if currency not in df_pivot.columns:\n",
    "        df_pivot = df_pivot.with_columns(pl.lit(None, dtype=pl.Float64).alias(currency))\n",
    "        \n",
    "df_pivot = df_pivot.with_columns(\n",
    "    pl.mean_horizontal([pl.col(c).fill_null(0) for c in currency_basket]).alias('economic_index')\n",
    ")\n",
    "\n",
    "df_features = df_pivot.filter(pl.col('economic_index') > 0)\n",
    "\n",
    "df_features.rename({\"League\": \"Challenge League\"})\n",
    "\n",
    "print(\"Feature DataFrame after creating index:\")\n",
    "print(df_features.head())"
   ]
  },
  {
   "cell_type": "code",
   "execution_count": 12,
   "metadata": {},
   "outputs": [
    {
     "name": "stdout",
     "output_type": "stream",
     "text": [
      "shape: (5, 9)\n",
      "┌───────────┬──────────┬───────────┬───────────┬───┬───────────┬───────────┬───────────┬───────────┐\n",
      "│ Date      ┆ League   ┆ Hunter's  ┆ Warlord's ┆ … ┆ Redeemer' ┆ Blessing  ┆ economic_ ┆ Release   │\n",
      "│ ---       ┆ ---      ┆ Exalted   ┆ Exalted   ┆   ┆ s Exalted ┆ of        ┆ index     ┆ Date      │\n",
      "│ date      ┆ str      ┆ Orb       ┆ Orb       ┆   ┆ Orb       ┆ Chayula   ┆ ---       ┆ ---       │\n",
      "│           ┆          ┆ ---       ┆ ---       ┆   ┆ ---       ┆ ---       ┆ f64       ┆ datetime[ │\n",
      "│           ┆          ┆ f64       ┆ f64       ┆   ┆ f64       ┆ f64       ┆           ┆ μs]       │\n",
      "╞═══════════╪══════════╪═══════════╪═══════════╪═══╪═══════════╪═══════════╪═══════════╪═══════════╡\n",
      "│ 2022-08-2 ┆ Kalandra ┆ 76.77758  ┆ 49.34123  ┆ … ┆ 65.0      ┆ 109.3     ┆ 69.949012 ┆ 2022-08-1 │\n",
      "│ 0         ┆          ┆           ┆           ┆   ┆           ┆           ┆           ┆ 9         │\n",
      "│           ┆          ┆           ┆           ┆   ┆           ┆           ┆           ┆ 20:00:00  │\n",
      "│ 2022-08-2 ┆ Kalandra ┆ 89.27368  ┆ 44.87255  ┆ … ┆ 49.19549  ┆ 95.0      ┆ 62.686344 ┆ 2022-08-1 │\n",
      "│ 1         ┆          ┆           ┆           ┆   ┆           ┆           ┆           ┆ 9         │\n",
      "│           ┆          ┆           ┆           ┆   ┆           ┆           ┆           ┆ 20:00:00  │\n",
      "│ 2022-08-2 ┆ Kalandra ┆ 120.0     ┆ 50.0      ┆ … ┆ 34.0      ┆ 70.0      ┆ 60.4      ┆ 2022-08-1 │\n",
      "│ 2         ┆          ┆           ┆           ┆   ┆           ┆           ┆           ┆ 9         │\n",
      "│           ┆          ┆           ┆           ┆   ┆           ┆           ┆           ┆ 20:00:00  │\n",
      "│ 2022-08-2 ┆ Kalandra ┆ 179.02895 ┆ 49.0      ┆ … ┆ 30.0      ┆ 57.01144  ┆ 69.698244 ┆ 2022-08-1 │\n",
      "│ 3         ┆          ┆           ┆           ┆   ┆           ┆           ┆           ┆ 9         │\n",
      "│           ┆          ┆           ┆           ┆   ┆           ┆           ┆           ┆ 20:00:00  │\n",
      "│ 2022-08-2 ┆ Kalandra ┆ 220.04117 ┆ 73.0      ┆ … ┆ 35.0      ┆ 40.0      ┆ 81.408234 ┆ 2022-08-1 │\n",
      "│ 4         ┆          ┆           ┆           ┆   ┆           ┆           ┆           ┆ 9         │\n",
      "│           ┆          ┆           ┆           ┆   ┆           ┆           ┆           ┆ 20:00:00  │\n",
      "└───────────┴──────────┴───────────┴───────────┴───┴───────────┴───────────┴───────────┴───────────┘\n",
      "Final DataFrame with all features:\n",
      "shape: (5, 11)\n",
      "┌───────────┬──────────┬───────────┬───────────┬───┬───────────┬───────────┬───────────┬───────────┐\n",
      "│ Date      ┆ League   ┆ Hunter's  ┆ Warlord's ┆ … ┆ economic_ ┆ Release   ┆ days_sinc ┆ avg_playe │\n",
      "│ ---       ┆ ---      ┆ Exalted   ┆ Exalted   ┆   ┆ index     ┆ Date      ┆ e_start   ┆ rs        │\n",
      "│ date      ┆ str      ┆ Orb       ┆ Orb       ┆   ┆ ---       ┆ ---       ┆ ---       ┆ ---       │\n",
      "│           ┆          ┆ ---       ┆ ---       ┆   ┆ f64       ┆ datetime[ ┆ i64       ┆ f64       │\n",
      "│           ┆          ┆ f64       ┆ f64       ┆   ┆           ┆ μs]       ┆           ┆           │\n",
      "╞═══════════╪══════════╪═══════════╪═══════════╪═══╪═══════════╪═══════════╪═══════════╪═══════════╡\n",
      "│ 2022-09-2 ┆ Kalandra ┆ 100.0     ┆ 38.0      ┆ … ┆ 47.0401   ┆ 2022-08-1 ┆ 34        ┆ 22558.0   │\n",
      "│ 3         ┆          ┆           ┆           ┆   ┆           ┆ 9         ┆           ┆           │\n",
      "│           ┆          ┆           ┆           ┆   ┆           ┆ 20:00:00  ┆           ┆           │\n",
      "│ 2022-09-2 ┆ Kalandra ┆ 99.75021  ┆ 37.35003  ┆ … ┆ 46.595986 ┆ 2022-08-1 ┆ 35        ┆ 25775.0   │\n",
      "│ 4         ┆          ┆           ┆           ┆   ┆           ┆ 9         ┆           ┆           │\n",
      "│           ┆          ┆           ┆           ┆   ┆           ┆ 20:00:00  ┆           ┆           │\n",
      "│ 2022-09-2 ┆ Kalandra ┆ 99.0      ┆ 37.0      ┆ … ┆ 44.743208 ┆ 2022-08-1 ┆ 36        ┆ 26128.0   │\n",
      "│ 5         ┆          ┆           ┆           ┆   ┆           ┆ 9         ┆           ┆           │\n",
      "│           ┆          ┆           ┆           ┆   ┆           ┆ 20:00:00  ┆           ┆           │\n",
      "│ 2022-09-2 ┆ Kalandra ┆ 98.0      ┆ 35.0      ┆ … ┆ 44.842202 ┆ 2022-08-1 ┆ 37        ┆ 20654.0   │\n",
      "│ 6         ┆          ┆           ┆           ┆   ┆           ┆ 9         ┆           ┆           │\n",
      "│           ┆          ┆           ┆           ┆   ┆           ┆ 20:00:00  ┆           ┆           │\n",
      "│ 2022-09-2 ┆ Kalandra ┆ 98.94133  ┆ 35.0      ┆ … ┆ 44.827194 ┆ 2022-08-1 ┆ 38        ┆ 19462.0   │\n",
      "│ 7         ┆          ┆           ┆           ┆   ┆           ┆ 9         ┆           ┆           │\n",
      "│           ┆          ┆           ┆           ┆   ┆           ┆ 20:00:00  ┆           ┆           │\n",
      "└───────────┴──────────┴───────────┴───────────┴───┴───────────┴───────────┴───────────┴───────────┘\n"
     ]
    }
   ],
   "source": [
    "# Inżynieria cech\n",
    "\n",
    "df_features = df_features.join(\n",
    "    df_leagues.select(['League', 'Release Date']), on='League', how='left'\n",
    ")\n",
    "print(df_features.head())\n",
    "\n",
    "df_features = df_features.with_columns(\n",
    "    (pl.col('Date') - pl.col('Release Date')).dt.total_days().alias('days_since_start')\n",
    ")\n",
    "\n",
    "df_players = df_players.with_columns(\n",
    "    pl.col('DateTime').dt.date().alias('Date')\n",
    ").group_by('Date').agg(\n",
    "    pl.mean('Average Players').alias('avg_players') # Aggregate player counts per day\n",
    ")\n",
    "\n",
    "df_final = df_features.join(df_players, on='Date', how='left')\n",
    "\n",
    "df_final = df_final.sort('Date').fill_null(strategy='forward')\n",
    "df_final = df_final.drop_nulls()\n",
    "\n",
    "\n",
    "print(\"Final DataFrame with all features:\")\n",
    "print(df_final.head())"
   ]
  },
  {
   "cell_type": "code",
   "execution_count": 13,
   "metadata": {},
   "outputs": [
    {
     "name": "stdout",
     "output_type": "stream",
     "text": [
      "--- Baseline Model (Linear Regression) ---\n",
      "Mean Absolute Error (MAE): 41.37\n",
      "Root Mean Squared Error (RMSE): 60.38\n",
      "R-squared (R²): 0.14\n"
     ]
    }
   ],
   "source": [
    "# Budowa i ocena modelu bazowego\n",
    "\n",
    "features = ['days_since_start', 'avg_players']\n",
    "target = 'economic_index'\n",
    "\n",
    "X = df_final.select(features)\n",
    "y = df_final.select(target)\n",
    "\n",
    "\n",
    "X_train, X_test, y_train, y_test = train_test_split(X, y, test_size=0.2, shuffle=False)\n",
    "\n",
    "\n",
    "linear_model = LinearRegression()\n",
    "linear_model.fit(X_train, y_train)\n",
    "\n",
    "\n",
    "y_pred_linear = linear_model.predict(X_test)\n",
    "\n",
    "\n",
    "mae_linear = mean_absolute_error(y_test, y_pred_linear)\n",
    "rmse_linear = np.sqrt(mean_squared_error(y_test, y_pred_linear))\n",
    "r2_linear = r2_score(y_test, y_pred_linear)\n",
    "\n",
    "print(\"--- Baseline Model (Linear Regression) ---\")\n",
    "print(f\"(MAE): {mae_linear:.2f}\")\n",
    "print(f\"(RMSE): {rmse_linear:.2f}\")\n",
    "print(f\"(R²): {r2_linear:.2f}\")"
   ]
  },
  {
   "cell_type": "code",
   "execution_count": 14,
   "metadata": {},
   "outputs": [
    {
     "name": "stdout",
     "output_type": "stream",
     "text": [
      "--- Linear Regression ---\n",
      "MAE: 41.37\n",
      "RMSE: 60.38\n",
      "R²: 0.14\n",
      "\n",
      "--- Random Forest ---\n",
      "MAE: 56.46\n",
      "RMSE: 76.27\n",
      "R²: -0.38\n",
      "\n",
      "--- XGBoost ---\n",
      "MAE: 62.97\n",
      "RMSE: 80.76\n",
      "R²: -0.54\n",
      "\n"
     ]
    }
   ],
   "source": [
    "# Dictionary to store models for iteration\n",
    "models = {\n",
    "    \"Linear Regression\": LinearRegression(),\n",
    "    \"Random Forest\": RandomForestRegressor(n_estimators=100, random_state=42),\n",
    "    \"XGBoost\": XGBRegressor(n_estimators=100, random_state=42)\n",
    "}\n",
    "\n",
    "results = {}\n",
    "\n",
    "# Train and evaluate each model\n",
    "for name, model in models.items():\n",
    "    model.fit(X_train, y_train.to_numpy().ravel())\n",
    "    y_pred = model.predict(X_test)\n",
    "    \n",
    "    mae = mean_absolute_error(y_test, y_pred)\n",
    "    rmse = np.sqrt(mean_squared_error(y_test, y_pred))\n",
    "    r2 = r2_score(y_test, y_pred)\n",
    "    \n",
    "    results[name] = {'MAE': mae, 'RMSE': rmse, 'R²': r2, 'model': model}\n",
    "\n",
    "# Print the results\n",
    "for name, metrics in results.items():\n",
    "    print(f\"--- {name} ---\")\n",
    "    print(f\"MAE: {metrics['MAE']:.2f}\")\n",
    "    print(f\"RMSE: {metrics['RMSE']:.2f}\")\n",
    "    print(f\"R²: {metrics['R²']:.2f}\\n\")"
   ]
  },
  {
   "cell_type": "code",
   "execution_count": 15,
   "metadata": {},
   "outputs": [
    {
     "data": {
      "application/vnd.plotly.v1+json": {
       "config": {
        "plotlyServerURL": "https://plot.ly"
       },
       "data": [
        {
         "mode": "lines",
         "name": "Wartości Rzeczywiste (Actual)",
         "type": "scatter",
         "x": [
          "2024-03-12T00:00:00",
          "2024-03-13T00:00:00",
          "2024-03-14T00:00:00",
          "2024-03-15T00:00:00",
          "2024-03-16T00:00:00",
          "2024-03-17T00:00:00",
          "2024-03-18T00:00:00",
          "2024-03-19T00:00:00",
          "2024-03-20T00:00:00",
          "2024-03-21T00:00:00",
          "2024-03-22T00:00:00",
          "2024-03-23T00:00:00",
          "2024-03-24T00:00:00",
          "2024-03-25T00:00:00",
          "2024-03-26T00:00:00",
          "2024-03-30T00:00:00",
          "2024-03-31T00:00:00",
          "2024-04-01T00:00:00",
          "2024-04-02T00:00:00",
          "2024-04-03T00:00:00",
          "2024-04-04T00:00:00",
          "2024-04-05T00:00:00",
          "2024-04-06T00:00:00",
          "2024-04-07T00:00:00",
          "2024-04-08T00:00:00",
          "2024-04-09T00:00:00",
          "2024-04-10T00:00:00",
          "2024-04-11T00:00:00",
          "2024-04-12T00:00:00",
          "2024-04-13T00:00:00",
          "2024-04-14T00:00:00",
          "2024-04-15T00:00:00",
          "2024-04-16T00:00:00",
          "2024-04-17T00:00:00",
          "2024-04-18T00:00:00",
          "2024-04-19T00:00:00",
          "2024-04-20T00:00:00",
          "2024-04-21T00:00:00",
          "2024-04-22T00:00:00",
          "2024-04-23T00:00:00",
          "2024-04-24T00:00:00",
          "2024-04-25T00:00:00",
          "2024-04-26T00:00:00",
          "2024-04-27T00:00:00",
          "2024-04-28T00:00:00",
          "2024-04-29T00:00:00",
          "2024-04-30T00:00:00",
          "2024-05-01T00:00:00",
          "2024-05-02T00:00:00",
          "2024-05-03T00:00:00",
          "2024-05-04T00:00:00",
          "2024-05-05T00:00:00",
          "2024-05-06T00:00:00",
          "2024-05-07T00:00:00",
          "2024-05-08T00:00:00",
          "2024-05-09T00:00:00",
          "2024-05-10T00:00:00",
          "2024-05-11T00:00:00",
          "2024-05-12T00:00:00",
          "2024-05-13T00:00:00",
          "2024-05-14T00:00:00",
          "2024-05-15T00:00:00",
          "2024-05-16T00:00:00",
          "2024-05-17T00:00:00",
          "2024-05-18T00:00:00",
          "2024-05-19T00:00:00",
          "2024-05-20T00:00:00",
          "2024-05-21T00:00:00",
          "2024-05-22T00:00:00",
          "2024-05-23T00:00:00",
          "2024-05-24T00:00:00",
          "2024-05-25T00:00:00",
          "2024-05-26T00:00:00",
          "2024-05-27T00:00:00",
          "2024-05-28T00:00:00",
          "2024-05-29T00:00:00",
          "2024-05-30T00:00:00",
          "2024-05-31T00:00:00",
          "2024-06-01T00:00:00",
          "2024-06-02T00:00:00",
          "2024-06-03T00:00:00",
          "2024-06-04T00:00:00",
          "2024-06-05T00:00:00",
          "2024-06-06T00:00:00",
          "2024-06-07T00:00:00",
          "2024-06-08T00:00:00",
          "2024-06-09T00:00:00",
          "2024-06-10T00:00:00",
          "2024-06-11T00:00:00",
          "2024-06-12T00:00:00",
          "2024-06-13T00:00:00",
          "2024-06-14T00:00:00",
          "2024-06-15T00:00:00",
          "2024-06-16T00:00:00",
          "2024-06-17T00:00:00",
          "2024-06-18T00:00:00",
          "2024-06-19T00:00:00",
          "2024-06-20T00:00:00",
          "2024-06-21T00:00:00",
          "2024-06-22T00:00:00",
          "2024-06-23T00:00:00",
          "2024-06-24T00:00:00",
          "2024-06-25T00:00:00",
          "2024-06-26T00:00:00",
          "2024-06-27T00:00:00",
          "2024-06-28T00:00:00",
          "2024-06-29T00:00:00",
          "2024-06-30T00:00:00",
          "2024-07-01T00:00:00",
          "2024-07-02T00:00:00",
          "2024-07-03T00:00:00",
          "2024-07-04T00:00:00",
          "2024-07-05T00:00:00",
          "2024-07-06T00:00:00",
          "2024-07-07T00:00:00",
          "2024-07-08T00:00:00",
          "2024-07-09T00:00:00",
          "2024-07-10T00:00:00",
          "2024-07-11T00:00:00",
          "2024-07-12T00:00:00",
          "2024-07-13T00:00:00",
          "2024-07-14T00:00:00",
          "2024-07-15T00:00:00",
          "2024-07-16T00:00:00",
          "2024-07-17T00:00:00",
          "2024-07-18T00:00:00",
          "2024-07-19T00:00:00",
          "2024-07-20T00:00:00",
          "2024-07-21T00:00:00",
          "2024-07-22T00:00:00",
          "2024-07-23T00:00:00"
         ],
         "y": {
          "bdata": "MzMzMzODcUAAAAAAAJBxQAAAAAAAkHFAzczMzMzMcUBd3hyu1bdxQH9o5sk12HFAMzMzMzPDcUBmZmZmZn5xQPYGX5jM5HBA8pnsnyeDcEDGEAAc+01xQG2umucIbHFA83NDU3ZCcUDSj4ZTZqZxQBNgWP78GnJAAAAAAAAAXEC+UMB2MCdiQHsUrkfhumZAx0s3iUF4aUBKDAIrh+ZqQDMzMzMzc21AFtnO91M7bEBeQ3BcxnJuQEjhehSux2lAmpmZmZmpaED6fmq8dBtqQNu7Bn3pMmlAwvUoXI8iaEDNzMzMzFxnQDMzMzMzU2RAjpduEoP5YUCPwvUoXJ9gQD0K16NwfV9AzczMzMzMXkAK16NwPVJdQG3n+6nxWFxAAAAAAADwWUAzMzMzM7NYQKHBps6jsFRACtejcD3KU0CF61G4HkVTQCeCOA8n0FJAmpmZmZn5UUAAAAAAAOBRQHWtvU9V1VFAMzMzMzNzUkAAAAAAAABTQAAAAAAAgFNAZmZmZmYmVEBmZmZmZiZUQGZmZmZmJlRAZmZmZmYmVEBmZmZmZiZUQML1KFyPQlRAcT0K16NQVECF61G4HuVUQClcj8L1CFVAMzMzMzMzVUDiehSuR0FVQBDLZg5Ja1VA61G4HoXrVUD2KFyPwhVWQFK4HoXr8VZAKENVTKXZV0CQwvUoXA9ZQJDC9ShcT1pASOF6FK6HWkAqXI/C9ShbQI7C9ShcL1tAhutRuB4lW0AAAAAAAOBaQGZmZmZmslpAAAAAAABgW0AVrkfhelxZQBWuR+F6FFlAFa5H4XoUWUDC9ShcjwJZQML1KFyPQlhA+gj84edBWEDVAntMpBJYQDq0yHa+b1dA3SQGgZWDV0BzaJHtfE9XQHsUrkfh+lZAUrgeheuRV0Ai2/l+alxXQDMzMzMz81ZAmpmZmZm5VkDNzMzMzOxWQOJ6FK5HYVZAZmZmZmYmVkBmZmZmZiZWQGZmZmZmJlZAMzMzMzOzVkBI4XoUrodWQOhILv8hPVZAAAAAAABAVkDXo3A9ChdWQIXrUbgeBVZA4noUrkcBVkDidf2C3ZBWQCGwcmiRBVZA61G4HoXrVUAAAAAAAMBVQOtRuB6F61VAAoQPJVrcVUAAAAAAAIBVQExPWOIB8VVAUdobfGEiVkDT+IVXkpJWQBBYObTIllZAHoXrUbheWUDoaiv2l4VZQGpnmNpSPVlAAizy64faW0CIaHQHsStcQH5qvHSTCFxAjZduEoOgWECjcD0K16NbQF2PwvUovFtAgEi/fR0QXEDWo3A9ClddQLgehetRWFtAZmZmZmaWWkB4eqUsQ7JbQG6jAbwFEl1AzRDHurglX0AK16NwPUpcQD0K16NwnVlAkML1KFxPWUCy9+KL9mhXQA==",
          "dtype": "f8"
         }
        },
        {
         "line": {
          "dash": "dash"
         },
         "mode": "lines",
         "name": "Wartości Przewidywane (Predicted)",
         "type": "scatter",
         "x": [
          "2024-03-12T00:00:00",
          "2024-03-13T00:00:00",
          "2024-03-14T00:00:00",
          "2024-03-15T00:00:00",
          "2024-03-16T00:00:00",
          "2024-03-17T00:00:00",
          "2024-03-18T00:00:00",
          "2024-03-19T00:00:00",
          "2024-03-20T00:00:00",
          "2024-03-21T00:00:00",
          "2024-03-22T00:00:00",
          "2024-03-23T00:00:00",
          "2024-03-24T00:00:00",
          "2024-03-25T00:00:00",
          "2024-03-26T00:00:00",
          "2024-03-30T00:00:00",
          "2024-03-31T00:00:00",
          "2024-04-01T00:00:00",
          "2024-04-02T00:00:00",
          "2024-04-03T00:00:00",
          "2024-04-04T00:00:00",
          "2024-04-05T00:00:00",
          "2024-04-06T00:00:00",
          "2024-04-07T00:00:00",
          "2024-04-08T00:00:00",
          "2024-04-09T00:00:00",
          "2024-04-10T00:00:00",
          "2024-04-11T00:00:00",
          "2024-04-12T00:00:00",
          "2024-04-13T00:00:00",
          "2024-04-14T00:00:00",
          "2024-04-15T00:00:00",
          "2024-04-16T00:00:00",
          "2024-04-17T00:00:00",
          "2024-04-18T00:00:00",
          "2024-04-19T00:00:00",
          "2024-04-20T00:00:00",
          "2024-04-21T00:00:00",
          "2024-04-22T00:00:00",
          "2024-04-23T00:00:00",
          "2024-04-24T00:00:00",
          "2024-04-25T00:00:00",
          "2024-04-26T00:00:00",
          "2024-04-27T00:00:00",
          "2024-04-28T00:00:00",
          "2024-04-29T00:00:00",
          "2024-04-30T00:00:00",
          "2024-05-01T00:00:00",
          "2024-05-02T00:00:00",
          "2024-05-03T00:00:00",
          "2024-05-04T00:00:00",
          "2024-05-05T00:00:00",
          "2024-05-06T00:00:00",
          "2024-05-07T00:00:00",
          "2024-05-08T00:00:00",
          "2024-05-09T00:00:00",
          "2024-05-10T00:00:00",
          "2024-05-11T00:00:00",
          "2024-05-12T00:00:00",
          "2024-05-13T00:00:00",
          "2024-05-14T00:00:00",
          "2024-05-15T00:00:00",
          "2024-05-16T00:00:00",
          "2024-05-17T00:00:00",
          "2024-05-18T00:00:00",
          "2024-05-19T00:00:00",
          "2024-05-20T00:00:00",
          "2024-05-21T00:00:00",
          "2024-05-22T00:00:00",
          "2024-05-23T00:00:00",
          "2024-05-24T00:00:00",
          "2024-05-25T00:00:00",
          "2024-05-26T00:00:00",
          "2024-05-27T00:00:00",
          "2024-05-28T00:00:00",
          "2024-05-29T00:00:00",
          "2024-05-30T00:00:00",
          "2024-05-31T00:00:00",
          "2024-06-01T00:00:00",
          "2024-06-02T00:00:00",
          "2024-06-03T00:00:00",
          "2024-06-04T00:00:00",
          "2024-06-05T00:00:00",
          "2024-06-06T00:00:00",
          "2024-06-07T00:00:00",
          "2024-06-08T00:00:00",
          "2024-06-09T00:00:00",
          "2024-06-10T00:00:00",
          "2024-06-11T00:00:00",
          "2024-06-12T00:00:00",
          "2024-06-13T00:00:00",
          "2024-06-14T00:00:00",
          "2024-06-15T00:00:00",
          "2024-06-16T00:00:00",
          "2024-06-17T00:00:00",
          "2024-06-18T00:00:00",
          "2024-06-19T00:00:00",
          "2024-06-20T00:00:00",
          "2024-06-21T00:00:00",
          "2024-06-22T00:00:00",
          "2024-06-23T00:00:00",
          "2024-06-24T00:00:00",
          "2024-06-25T00:00:00",
          "2024-06-26T00:00:00",
          "2024-06-27T00:00:00",
          "2024-06-28T00:00:00",
          "2024-06-29T00:00:00",
          "2024-06-30T00:00:00",
          "2024-07-01T00:00:00",
          "2024-07-02T00:00:00",
          "2024-07-03T00:00:00",
          "2024-07-04T00:00:00",
          "2024-07-05T00:00:00",
          "2024-07-06T00:00:00",
          "2024-07-07T00:00:00",
          "2024-07-08T00:00:00",
          "2024-07-09T00:00:00",
          "2024-07-10T00:00:00",
          "2024-07-11T00:00:00",
          "2024-07-12T00:00:00",
          "2024-07-13T00:00:00",
          "2024-07-14T00:00:00",
          "2024-07-15T00:00:00",
          "2024-07-16T00:00:00",
          "2024-07-17T00:00:00",
          "2024-07-18T00:00:00",
          "2024-07-19T00:00:00",
          "2024-07-20T00:00:00",
          "2024-07-21T00:00:00",
          "2024-07-22T00:00:00",
          "2024-07-23T00:00:00"
         ],
         "y": {
          "bdata": "ZbFQQ0WKmkJFippC8L8uQ1xKSUOyhUdDLvhkQs8AaELu8V5C2e5iQlzDXEL4Zj9DMv5BQyJgmUKGmmhCJbkDQ4kRt0IIuu5CMgwAQ7hfCkPnVxBDajQdQx+nHEOJiRpDjOoiQyrSqEIq0qhCc1wUQ2hO+UI+zyVD3D0wQ6xhiULi6I9CbGVQQjuth0In1oZCwYoPQyUIJ0NoVYRCizmhQWHToUF8dMdAPFyzQFGQz0GiVx9CXTlyQmI4YUIiC6BCly9OQvHcMkKQIZpCkCGaQqD5iUIqSGFCXktMQgOMZELevKxCQWfRQskwVEK1BwdDSDQqQvoID0K/HudBmaS2P8MLNELk+SlCJsxmQia7CUFKqwDAkBw5QrMsMUK7QwXCu0MFwqTvOULZ3EBC2dxAQnZ8PkJ2fD5CeIdYQtX8fUKi1aZC7PAfQugyTELG+zJCwHYbQjU7/UKuRQJDoVM0Qj0OPkI9Dj5CPQ4+Qj0OPkKmNrBC97e2Qm+hNUJZ5EZC6qZSQlzsWEJc7FhCoRJfQm7nbkJlk3xCtmiFQnlng0L+I4JCf9KMQsT5ZELE+WRCss9rQk8xhEIvm4FCL5uBQuQeeUKnFXRCefBmQhgRYkLwFmJC5ihXQupdY0J3mFhCu61YQgHRU0L3O1NCnVJQQlYgWUFPkQPBT5EDwdplGUG4nytBbDGaQWwxmkE=",
          "dtype": "f4"
         }
        }
       ],
       "layout": {
        "legend": {
         "orientation": "h",
         "title": {
          "text": "Legenda"
         },
         "x": 1,
         "xanchor": "right",
         "y": -0.5,
         "yanchor": "bottom"
        },
        "template": {
         "data": {
          "bar": [
           {
            "error_x": {
             "color": "#2a3f5f"
            },
            "error_y": {
             "color": "#2a3f5f"
            },
            "marker": {
             "line": {
              "color": "#E5ECF6",
              "width": 0.5
             },
             "pattern": {
              "fillmode": "overlay",
              "size": 10,
              "solidity": 0.2
             }
            },
            "type": "bar"
           }
          ],
          "barpolar": [
           {
            "marker": {
             "line": {
              "color": "#E5ECF6",
              "width": 0.5
             },
             "pattern": {
              "fillmode": "overlay",
              "size": 10,
              "solidity": 0.2
             }
            },
            "type": "barpolar"
           }
          ],
          "carpet": [
           {
            "aaxis": {
             "endlinecolor": "#2a3f5f",
             "gridcolor": "white",
             "linecolor": "white",
             "minorgridcolor": "white",
             "startlinecolor": "#2a3f5f"
            },
            "baxis": {
             "endlinecolor": "#2a3f5f",
             "gridcolor": "white",
             "linecolor": "white",
             "minorgridcolor": "white",
             "startlinecolor": "#2a3f5f"
            },
            "type": "carpet"
           }
          ],
          "choropleth": [
           {
            "colorbar": {
             "outlinewidth": 0,
             "ticks": ""
            },
            "type": "choropleth"
           }
          ],
          "contour": [
           {
            "colorbar": {
             "outlinewidth": 0,
             "ticks": ""
            },
            "colorscale": [
             [
              0,
              "#0d0887"
             ],
             [
              0.1111111111111111,
              "#46039f"
             ],
             [
              0.2222222222222222,
              "#7201a8"
             ],
             [
              0.3333333333333333,
              "#9c179e"
             ],
             [
              0.4444444444444444,
              "#bd3786"
             ],
             [
              0.5555555555555556,
              "#d8576b"
             ],
             [
              0.6666666666666666,
              "#ed7953"
             ],
             [
              0.7777777777777778,
              "#fb9f3a"
             ],
             [
              0.8888888888888888,
              "#fdca26"
             ],
             [
              1,
              "#f0f921"
             ]
            ],
            "type": "contour"
           }
          ],
          "contourcarpet": [
           {
            "colorbar": {
             "outlinewidth": 0,
             "ticks": ""
            },
            "type": "contourcarpet"
           }
          ],
          "heatmap": [
           {
            "colorbar": {
             "outlinewidth": 0,
             "ticks": ""
            },
            "colorscale": [
             [
              0,
              "#0d0887"
             ],
             [
              0.1111111111111111,
              "#46039f"
             ],
             [
              0.2222222222222222,
              "#7201a8"
             ],
             [
              0.3333333333333333,
              "#9c179e"
             ],
             [
              0.4444444444444444,
              "#bd3786"
             ],
             [
              0.5555555555555556,
              "#d8576b"
             ],
             [
              0.6666666666666666,
              "#ed7953"
             ],
             [
              0.7777777777777778,
              "#fb9f3a"
             ],
             [
              0.8888888888888888,
              "#fdca26"
             ],
             [
              1,
              "#f0f921"
             ]
            ],
            "type": "heatmap"
           }
          ],
          "histogram": [
           {
            "marker": {
             "pattern": {
              "fillmode": "overlay",
              "size": 10,
              "solidity": 0.2
             }
            },
            "type": "histogram"
           }
          ],
          "histogram2d": [
           {
            "colorbar": {
             "outlinewidth": 0,
             "ticks": ""
            },
            "colorscale": [
             [
              0,
              "#0d0887"
             ],
             [
              0.1111111111111111,
              "#46039f"
             ],
             [
              0.2222222222222222,
              "#7201a8"
             ],
             [
              0.3333333333333333,
              "#9c179e"
             ],
             [
              0.4444444444444444,
              "#bd3786"
             ],
             [
              0.5555555555555556,
              "#d8576b"
             ],
             [
              0.6666666666666666,
              "#ed7953"
             ],
             [
              0.7777777777777778,
              "#fb9f3a"
             ],
             [
              0.8888888888888888,
              "#fdca26"
             ],
             [
              1,
              "#f0f921"
             ]
            ],
            "type": "histogram2d"
           }
          ],
          "histogram2dcontour": [
           {
            "colorbar": {
             "outlinewidth": 0,
             "ticks": ""
            },
            "colorscale": [
             [
              0,
              "#0d0887"
             ],
             [
              0.1111111111111111,
              "#46039f"
             ],
             [
              0.2222222222222222,
              "#7201a8"
             ],
             [
              0.3333333333333333,
              "#9c179e"
             ],
             [
              0.4444444444444444,
              "#bd3786"
             ],
             [
              0.5555555555555556,
              "#d8576b"
             ],
             [
              0.6666666666666666,
              "#ed7953"
             ],
             [
              0.7777777777777778,
              "#fb9f3a"
             ],
             [
              0.8888888888888888,
              "#fdca26"
             ],
             [
              1,
              "#f0f921"
             ]
            ],
            "type": "histogram2dcontour"
           }
          ],
          "mesh3d": [
           {
            "colorbar": {
             "outlinewidth": 0,
             "ticks": ""
            },
            "type": "mesh3d"
           }
          ],
          "parcoords": [
           {
            "line": {
             "colorbar": {
              "outlinewidth": 0,
              "ticks": ""
             }
            },
            "type": "parcoords"
           }
          ],
          "pie": [
           {
            "automargin": true,
            "type": "pie"
           }
          ],
          "scatter": [
           {
            "fillpattern": {
             "fillmode": "overlay",
             "size": 10,
             "solidity": 0.2
            },
            "type": "scatter"
           }
          ],
          "scatter3d": [
           {
            "line": {
             "colorbar": {
              "outlinewidth": 0,
              "ticks": ""
             }
            },
            "marker": {
             "colorbar": {
              "outlinewidth": 0,
              "ticks": ""
             }
            },
            "type": "scatter3d"
           }
          ],
          "scattercarpet": [
           {
            "marker": {
             "colorbar": {
              "outlinewidth": 0,
              "ticks": ""
             }
            },
            "type": "scattercarpet"
           }
          ],
          "scattergeo": [
           {
            "marker": {
             "colorbar": {
              "outlinewidth": 0,
              "ticks": ""
             }
            },
            "type": "scattergeo"
           }
          ],
          "scattergl": [
           {
            "marker": {
             "colorbar": {
              "outlinewidth": 0,
              "ticks": ""
             }
            },
            "type": "scattergl"
           }
          ],
          "scattermap": [
           {
            "marker": {
             "colorbar": {
              "outlinewidth": 0,
              "ticks": ""
             }
            },
            "type": "scattermap"
           }
          ],
          "scattermapbox": [
           {
            "marker": {
             "colorbar": {
              "outlinewidth": 0,
              "ticks": ""
             }
            },
            "type": "scattermapbox"
           }
          ],
          "scatterpolar": [
           {
            "marker": {
             "colorbar": {
              "outlinewidth": 0,
              "ticks": ""
             }
            },
            "type": "scatterpolar"
           }
          ],
          "scatterpolargl": [
           {
            "marker": {
             "colorbar": {
              "outlinewidth": 0,
              "ticks": ""
             }
            },
            "type": "scatterpolargl"
           }
          ],
          "scatterternary": [
           {
            "marker": {
             "colorbar": {
              "outlinewidth": 0,
              "ticks": ""
             }
            },
            "type": "scatterternary"
           }
          ],
          "surface": [
           {
            "colorbar": {
             "outlinewidth": 0,
             "ticks": ""
            },
            "colorscale": [
             [
              0,
              "#0d0887"
             ],
             [
              0.1111111111111111,
              "#46039f"
             ],
             [
              0.2222222222222222,
              "#7201a8"
             ],
             [
              0.3333333333333333,
              "#9c179e"
             ],
             [
              0.4444444444444444,
              "#bd3786"
             ],
             [
              0.5555555555555556,
              "#d8576b"
             ],
             [
              0.6666666666666666,
              "#ed7953"
             ],
             [
              0.7777777777777778,
              "#fb9f3a"
             ],
             [
              0.8888888888888888,
              "#fdca26"
             ],
             [
              1,
              "#f0f921"
             ]
            ],
            "type": "surface"
           }
          ],
          "table": [
           {
            "cells": {
             "fill": {
              "color": "#EBF0F8"
             },
             "line": {
              "color": "white"
             }
            },
            "header": {
             "fill": {
              "color": "#C8D4E3"
             },
             "line": {
              "color": "white"
             }
            },
            "type": "table"
           }
          ]
         },
         "layout": {
          "annotationdefaults": {
           "arrowcolor": "#2a3f5f",
           "arrowhead": 0,
           "arrowwidth": 1
          },
          "autotypenumbers": "strict",
          "coloraxis": {
           "colorbar": {
            "outlinewidth": 0,
            "ticks": ""
           }
          },
          "colorscale": {
           "diverging": [
            [
             0,
             "#8e0152"
            ],
            [
             0.1,
             "#c51b7d"
            ],
            [
             0.2,
             "#de77ae"
            ],
            [
             0.3,
             "#f1b6da"
            ],
            [
             0.4,
             "#fde0ef"
            ],
            [
             0.5,
             "#f7f7f7"
            ],
            [
             0.6,
             "#e6f5d0"
            ],
            [
             0.7,
             "#b8e186"
            ],
            [
             0.8,
             "#7fbc41"
            ],
            [
             0.9,
             "#4d9221"
            ],
            [
             1,
             "#276419"
            ]
           ],
           "sequential": [
            [
             0,
             "#0d0887"
            ],
            [
             0.1111111111111111,
             "#46039f"
            ],
            [
             0.2222222222222222,
             "#7201a8"
            ],
            [
             0.3333333333333333,
             "#9c179e"
            ],
            [
             0.4444444444444444,
             "#bd3786"
            ],
            [
             0.5555555555555556,
             "#d8576b"
            ],
            [
             0.6666666666666666,
             "#ed7953"
            ],
            [
             0.7777777777777778,
             "#fb9f3a"
            ],
            [
             0.8888888888888888,
             "#fdca26"
            ],
            [
             1,
             "#f0f921"
            ]
           ],
           "sequentialminus": [
            [
             0,
             "#0d0887"
            ],
            [
             0.1111111111111111,
             "#46039f"
            ],
            [
             0.2222222222222222,
             "#7201a8"
            ],
            [
             0.3333333333333333,
             "#9c179e"
            ],
            [
             0.4444444444444444,
             "#bd3786"
            ],
            [
             0.5555555555555556,
             "#d8576b"
            ],
            [
             0.6666666666666666,
             "#ed7953"
            ],
            [
             0.7777777777777778,
             "#fb9f3a"
            ],
            [
             0.8888888888888888,
             "#fdca26"
            ],
            [
             1,
             "#f0f921"
            ]
           ]
          },
          "colorway": [
           "#636efa",
           "#EF553B",
           "#00cc96",
           "#ab63fa",
           "#FFA15A",
           "#19d3f3",
           "#FF6692",
           "#B6E880",
           "#FF97FF",
           "#FECB52"
          ],
          "font": {
           "color": "#2a3f5f"
          },
          "geo": {
           "bgcolor": "white",
           "lakecolor": "white",
           "landcolor": "#E5ECF6",
           "showlakes": true,
           "showland": true,
           "subunitcolor": "white"
          },
          "hoverlabel": {
           "align": "left"
          },
          "hovermode": "closest",
          "mapbox": {
           "style": "light"
          },
          "paper_bgcolor": "white",
          "plot_bgcolor": "#E5ECF6",
          "polar": {
           "angularaxis": {
            "gridcolor": "white",
            "linecolor": "white",
            "ticks": ""
           },
           "bgcolor": "#E5ECF6",
           "radialaxis": {
            "gridcolor": "white",
            "linecolor": "white",
            "ticks": ""
           }
          },
          "scene": {
           "xaxis": {
            "backgroundcolor": "#E5ECF6",
            "gridcolor": "white",
            "gridwidth": 2,
            "linecolor": "white",
            "showbackground": true,
            "ticks": "",
            "zerolinecolor": "white"
           },
           "yaxis": {
            "backgroundcolor": "#E5ECF6",
            "gridcolor": "white",
            "gridwidth": 2,
            "linecolor": "white",
            "showbackground": true,
            "ticks": "",
            "zerolinecolor": "white"
           },
           "zaxis": {
            "backgroundcolor": "#E5ECF6",
            "gridcolor": "white",
            "gridwidth": 2,
            "linecolor": "white",
            "showbackground": true,
            "ticks": "",
            "zerolinecolor": "white"
           }
          },
          "shapedefaults": {
           "line": {
            "color": "#2a3f5f"
           }
          },
          "ternary": {
           "aaxis": {
            "gridcolor": "white",
            "linecolor": "white",
            "ticks": ""
           },
           "baxis": {
            "gridcolor": "white",
            "linecolor": "white",
            "ticks": ""
           },
           "bgcolor": "#E5ECF6",
           "caxis": {
            "gridcolor": "white",
            "linecolor": "white",
            "ticks": ""
           }
          },
          "title": {
           "x": 0.05
          },
          "xaxis": {
           "automargin": true,
           "gridcolor": "white",
           "linecolor": "white",
           "ticks": "",
           "title": {
            "standoff": 15
           },
           "zerolinecolor": "white",
           "zerolinewidth": 2
          },
          "yaxis": {
           "automargin": true,
           "gridcolor": "white",
           "linecolor": "white",
           "ticks": "",
           "title": {
            "standoff": 15
           },
           "zerolinecolor": "white",
           "zerolinewidth": 2
          }
         }
        },
        "title": {
         "text": "Porównanie Wartości Rzeczywistych i Przewidywanych dla modelu XGBoost"
        },
        "xaxis": {
         "title": {
          "text": "Data"
         }
        },
        "yaxis": {
         "title": {
          "text": "Indeks Ekonomiczny"
         }
        }
       }
      }
     },
     "metadata": {},
     "output_type": "display_data"
    }
   ],
   "source": [
    "best_model_name = \"XGBoost\"\n",
    "best_model = results[best_model_name]['model']\n",
    "\n",
    "# Create a dataframe for plotting\n",
    "plot_df = X_test.clone()\n",
    "plot_df = plot_df.with_columns(y_test.rename({'economic_index': 'Actual'}))\n",
    "plot_df = plot_df.with_columns(\n",
    "    pl.Series(name=\"Predicted\", values=best_model.predict(X_test))\n",
    ")\n",
    "\n",
    "# Retrieve the date column for the x-axis\n",
    "dates_test = df_final.select('Date').slice(len(X_train), len(df_final))\n",
    "plot_df = plot_df.with_columns(dates_test)\n",
    "\n",
    "\n",
    "# Create the plot\n",
    "fig = go.Figure()\n",
    "\n",
    "fig.add_trace(go.Scatter(\n",
    "    x=plot_df['Date'], y=plot_df['Actual'],\n",
    "    mode='lines', name='Wartości Rzeczywiste (Actual)'\n",
    "))\n",
    "fig.add_trace(go.Scatter(\n",
    "    x=plot_df['Date'], y=plot_df['Predicted'],\n",
    "    mode='lines', name='Wartości Przewidywane (Predicted)', line=dict(dash='dash')\n",
    "))\n",
    "\n",
    "fig.update_layout(\n",
    "    title=f\"Porównanie Wartości Rzeczywistych i Przewidywanych dla modelu {best_model_name}\",\n",
    "    xaxis_title=\"Data\",\n",
    "    yaxis_title=\"Indeks Ekonomiczny\",\n",
    "    legend_title=\"Legenda\",\n",
    "    legend=dict(\n",
    "        orientation=\"h\",  # \"h\" for horizontal, \"v\" for vertical\n",
    "        yanchor=\"bottom\", # Anchor the legend's bottom to the 'y' position\n",
    "        y=-0.5,           # Position the legend below the plot area (negative values move it down)\n",
    "        xanchor=\"right\",  # Anchor the legend's right to the 'x' position\n",
    "        x=1               # Position the legend at the far right of the plot area\n",
    "    )\n",
    ")\n",
    "fig.show()"
   ]
  },
  {
   "cell_type": "code",
   "execution_count": 16,
   "metadata": {},
   "outputs": [
    {
     "data": {
      "application/vnd.plotly.v1+json": {
       "config": {
        "plotlyServerURL": "https://plot.ly"
       },
       "data": [
        {
         "hovertemplate": "Data=%{x}<br>Reszta (Actual - Predicted)=%{y}<extra></extra>",
         "legendgroup": "",
         "marker": {
          "color": "#636efa",
          "symbol": "circle"
         },
         "mode": "markers",
         "name": "",
         "orientation": "v",
         "showlegend": false,
         "type": "scatter",
         "x": [
          "2024-03-12T00:00:00",
          "2024-03-13T00:00:00",
          "2024-03-14T00:00:00",
          "2024-03-15T00:00:00",
          "2024-03-16T00:00:00",
          "2024-03-17T00:00:00",
          "2024-03-18T00:00:00",
          "2024-03-19T00:00:00",
          "2024-03-20T00:00:00",
          "2024-03-21T00:00:00",
          "2024-03-22T00:00:00",
          "2024-03-23T00:00:00",
          "2024-03-24T00:00:00",
          "2024-03-25T00:00:00",
          "2024-03-26T00:00:00",
          "2024-03-30T00:00:00",
          "2024-03-31T00:00:00",
          "2024-04-01T00:00:00",
          "2024-04-02T00:00:00",
          "2024-04-03T00:00:00",
          "2024-04-04T00:00:00",
          "2024-04-05T00:00:00",
          "2024-04-06T00:00:00",
          "2024-04-07T00:00:00",
          "2024-04-08T00:00:00",
          "2024-04-09T00:00:00",
          "2024-04-10T00:00:00",
          "2024-04-11T00:00:00",
          "2024-04-12T00:00:00",
          "2024-04-13T00:00:00",
          "2024-04-14T00:00:00",
          "2024-04-15T00:00:00",
          "2024-04-16T00:00:00",
          "2024-04-17T00:00:00",
          "2024-04-18T00:00:00",
          "2024-04-19T00:00:00",
          "2024-04-20T00:00:00",
          "2024-04-21T00:00:00",
          "2024-04-22T00:00:00",
          "2024-04-23T00:00:00",
          "2024-04-24T00:00:00",
          "2024-04-25T00:00:00",
          "2024-04-26T00:00:00",
          "2024-04-27T00:00:00",
          "2024-04-28T00:00:00",
          "2024-04-29T00:00:00",
          "2024-04-30T00:00:00",
          "2024-05-01T00:00:00",
          "2024-05-02T00:00:00",
          "2024-05-03T00:00:00",
          "2024-05-04T00:00:00",
          "2024-05-05T00:00:00",
          "2024-05-06T00:00:00",
          "2024-05-07T00:00:00",
          "2024-05-08T00:00:00",
          "2024-05-09T00:00:00",
          "2024-05-10T00:00:00",
          "2024-05-11T00:00:00",
          "2024-05-12T00:00:00",
          "2024-05-13T00:00:00",
          "2024-05-14T00:00:00",
          "2024-05-15T00:00:00",
          "2024-05-16T00:00:00",
          "2024-05-17T00:00:00",
          "2024-05-18T00:00:00",
          "2024-05-19T00:00:00",
          "2024-05-20T00:00:00",
          "2024-05-21T00:00:00",
          "2024-05-22T00:00:00",
          "2024-05-23T00:00:00",
          "2024-05-24T00:00:00",
          "2024-05-25T00:00:00",
          "2024-05-26T00:00:00",
          "2024-05-27T00:00:00",
          "2024-05-28T00:00:00",
          "2024-05-29T00:00:00",
          "2024-05-30T00:00:00",
          "2024-05-31T00:00:00",
          "2024-06-01T00:00:00",
          "2024-06-02T00:00:00",
          "2024-06-03T00:00:00",
          "2024-06-04T00:00:00",
          "2024-06-05T00:00:00",
          "2024-06-06T00:00:00",
          "2024-06-07T00:00:00",
          "2024-06-08T00:00:00",
          "2024-06-09T00:00:00",
          "2024-06-10T00:00:00",
          "2024-06-11T00:00:00",
          "2024-06-12T00:00:00",
          "2024-06-13T00:00:00",
          "2024-06-14T00:00:00",
          "2024-06-15T00:00:00",
          "2024-06-16T00:00:00",
          "2024-06-17T00:00:00",
          "2024-06-18T00:00:00",
          "2024-06-19T00:00:00",
          "2024-06-20T00:00:00",
          "2024-06-21T00:00:00",
          "2024-06-22T00:00:00",
          "2024-06-23T00:00:00",
          "2024-06-24T00:00:00",
          "2024-06-25T00:00:00",
          "2024-06-26T00:00:00",
          "2024-06-27T00:00:00",
          "2024-06-28T00:00:00",
          "2024-06-29T00:00:00",
          "2024-06-30T00:00:00",
          "2024-07-01T00:00:00",
          "2024-07-02T00:00:00",
          "2024-07-03T00:00:00",
          "2024-07-04T00:00:00",
          "2024-07-05T00:00:00",
          "2024-07-06T00:00:00",
          "2024-07-07T00:00:00",
          "2024-07-08T00:00:00",
          "2024-07-09T00:00:00",
          "2024-07-10T00:00:00",
          "2024-07-11T00:00:00",
          "2024-07-12T00:00:00",
          "2024-07-13T00:00:00",
          "2024-07-14T00:00:00",
          "2024-07-15T00:00:00",
          "2024-07-16T00:00:00",
          "2024-07-17T00:00:00",
          "2024-07-18T00:00:00",
          "2024-07-19T00:00:00",
          "2024-07-20T00:00:00",
          "2024-07-21T00:00:00",
          "2024-07-22T00:00:00",
          "2024-07-23T00:00:00"
         ],
         "xaxis": "x",
         "y": {
          "bdata": "zMzMjHPgUUAAAACwW3dpQAAAALBbd2lANDMzMzeDW0B0eXO4v4xUQPyhmadqf1VAZmZm9qRebEDMzMxUxrxrQOwNvsAJ0mpA5DPZd9juaUCMIQBY27VrQLS5ap5l1lVAzM8NzUyKVECkHw2HyrZpQCbAsMwl8WxAAAAAACW5M8D4QgGbX9hKQOxRuB4DPU9AjpduknbtUkCUGARWIDVTQGZmZqZs0FZALLKdb40pUUC8huD4xLtVQCCF69Hz2UlAaGZmZiAxQUD0/dQ4pBxfQLZ3DbqNS11ACNej8ANcRkA0MzMzmR9PQEAzMzMjrQnAyKFFtuE4QMAehevRghJQQHoUrseoAEtAzczMDHbGUUAUrkchLLlIQNrO95NZ/EZAAAAAgGDlQ8DNzMwM1g5RwIQGmzrblzBAFK5HMeKATUAK16NgB21MQCeCOBc+QVFAmpmZIeGSUEAAAADw+sZGQNS19r5sfz9AmJmZGet8KkAAAACA57EzQAAAAACILADAmJmZ2bMNPUDMzMysLvFBQMDMzMyMRgxAwMzMzIxGDEAwMzMzkzknQAjXo/AyuDhAxPUo3LcvPkAUrkchenE6QOB6FK6/1AHANDMzs9PmM8CI61F47Pg/QOBpMmNIrUjA1qNwPYGQRkDsUbjeZUpKQKRwPRrrcU9AKEPV/1J+V0AghevxP51LQCCF69F7X09AkML1aNc1SEAqXI8qCQJZQI7C9XIHsFtADNejcKsmT0AAAACgaZpPQDMzMwtRg2FAAAAA2B3aYUAqXI9CAXtLQCpcj6JaDUpAKlyPoloNSkCE61H4jzVKQITrUfiPtUhA9BH4w+ByRUCqBfb4rWVAQNChRbZRqCRAukkMgg0JS0Dm0CLbnBhFQPYoXM9JlkdApHA9Cv+0S0C8SQxC+JVAwJqZmZlwPEPANDMzE7/oRkCamZn50RdGQMT1KLzHAEVAzMzMLAWLREDMzMwsBYtEQABmZmamkd8/gGZmZtbl4b+QwvVILltGQNCRXN64nUNAAAAAwCIrQkCuR+H6iBBBQArXo/Cx7EBAxPUoPDsgQECI1/WLmok+QITAymFs8ThArEfhern5NEAAAACAQ0w1QKxH4XoVnDZACBA+FCkIMUAAAAAAj8E8QDA9YYmWhT5ARGlvcJmVPUBM4xfeoTE4QEBg5VCLjTlAPArX46RWQkDQ1VZsU+dDQNTOMNXw90NABFjktwDXSkAQ0egOPxVMQPzUeOlIzktAGi/dZOlbRkBG4XrU8NtKQLoehQtDZUxAAJF+m4MKTUDWo3At+hlQQHA9CvckSUxAzMzMLHkiS0B4eqXUwU1YQG6jAfhKIF9AZohj+/6ZYEAK16MIpuRZQD0K18Px7lZAkML1yNB9VECy9+Ira5dSQA==",
          "dtype": "f8"
         },
         "yaxis": "y"
        }
       ],
       "layout": {
        "legend": {
         "tracegroupgap": 0
        },
        "shapes": [
         {
          "line": {
           "color": "red",
           "dash": "dash"
          },
          "type": "line",
          "x0": 0,
          "x1": 1,
          "xref": "x domain",
          "y0": 0,
          "y1": 0,
          "yref": "y"
         }
        ],
        "template": {
         "data": {
          "bar": [
           {
            "error_x": {
             "color": "#f2f5fa"
            },
            "error_y": {
             "color": "#f2f5fa"
            },
            "marker": {
             "line": {
              "color": "rgb(17,17,17)",
              "width": 0.5
             },
             "pattern": {
              "fillmode": "overlay",
              "size": 10,
              "solidity": 0.2
             }
            },
            "type": "bar"
           }
          ],
          "barpolar": [
           {
            "marker": {
             "line": {
              "color": "rgb(17,17,17)",
              "width": 0.5
             },
             "pattern": {
              "fillmode": "overlay",
              "size": 10,
              "solidity": 0.2
             }
            },
            "type": "barpolar"
           }
          ],
          "carpet": [
           {
            "aaxis": {
             "endlinecolor": "#A2B1C6",
             "gridcolor": "#506784",
             "linecolor": "#506784",
             "minorgridcolor": "#506784",
             "startlinecolor": "#A2B1C6"
            },
            "baxis": {
             "endlinecolor": "#A2B1C6",
             "gridcolor": "#506784",
             "linecolor": "#506784",
             "minorgridcolor": "#506784",
             "startlinecolor": "#A2B1C6"
            },
            "type": "carpet"
           }
          ],
          "choropleth": [
           {
            "colorbar": {
             "outlinewidth": 0,
             "ticks": ""
            },
            "type": "choropleth"
           }
          ],
          "contour": [
           {
            "colorbar": {
             "outlinewidth": 0,
             "ticks": ""
            },
            "colorscale": [
             [
              0,
              "#0d0887"
             ],
             [
              0.1111111111111111,
              "#46039f"
             ],
             [
              0.2222222222222222,
              "#7201a8"
             ],
             [
              0.3333333333333333,
              "#9c179e"
             ],
             [
              0.4444444444444444,
              "#bd3786"
             ],
             [
              0.5555555555555556,
              "#d8576b"
             ],
             [
              0.6666666666666666,
              "#ed7953"
             ],
             [
              0.7777777777777778,
              "#fb9f3a"
             ],
             [
              0.8888888888888888,
              "#fdca26"
             ],
             [
              1,
              "#f0f921"
             ]
            ],
            "type": "contour"
           }
          ],
          "contourcarpet": [
           {
            "colorbar": {
             "outlinewidth": 0,
             "ticks": ""
            },
            "type": "contourcarpet"
           }
          ],
          "heatmap": [
           {
            "colorbar": {
             "outlinewidth": 0,
             "ticks": ""
            },
            "colorscale": [
             [
              0,
              "#0d0887"
             ],
             [
              0.1111111111111111,
              "#46039f"
             ],
             [
              0.2222222222222222,
              "#7201a8"
             ],
             [
              0.3333333333333333,
              "#9c179e"
             ],
             [
              0.4444444444444444,
              "#bd3786"
             ],
             [
              0.5555555555555556,
              "#d8576b"
             ],
             [
              0.6666666666666666,
              "#ed7953"
             ],
             [
              0.7777777777777778,
              "#fb9f3a"
             ],
             [
              0.8888888888888888,
              "#fdca26"
             ],
             [
              1,
              "#f0f921"
             ]
            ],
            "type": "heatmap"
           }
          ],
          "histogram": [
           {
            "marker": {
             "pattern": {
              "fillmode": "overlay",
              "size": 10,
              "solidity": 0.2
             }
            },
            "type": "histogram"
           }
          ],
          "histogram2d": [
           {
            "colorbar": {
             "outlinewidth": 0,
             "ticks": ""
            },
            "colorscale": [
             [
              0,
              "#0d0887"
             ],
             [
              0.1111111111111111,
              "#46039f"
             ],
             [
              0.2222222222222222,
              "#7201a8"
             ],
             [
              0.3333333333333333,
              "#9c179e"
             ],
             [
              0.4444444444444444,
              "#bd3786"
             ],
             [
              0.5555555555555556,
              "#d8576b"
             ],
             [
              0.6666666666666666,
              "#ed7953"
             ],
             [
              0.7777777777777778,
              "#fb9f3a"
             ],
             [
              0.8888888888888888,
              "#fdca26"
             ],
             [
              1,
              "#f0f921"
             ]
            ],
            "type": "histogram2d"
           }
          ],
          "histogram2dcontour": [
           {
            "colorbar": {
             "outlinewidth": 0,
             "ticks": ""
            },
            "colorscale": [
             [
              0,
              "#0d0887"
             ],
             [
              0.1111111111111111,
              "#46039f"
             ],
             [
              0.2222222222222222,
              "#7201a8"
             ],
             [
              0.3333333333333333,
              "#9c179e"
             ],
             [
              0.4444444444444444,
              "#bd3786"
             ],
             [
              0.5555555555555556,
              "#d8576b"
             ],
             [
              0.6666666666666666,
              "#ed7953"
             ],
             [
              0.7777777777777778,
              "#fb9f3a"
             ],
             [
              0.8888888888888888,
              "#fdca26"
             ],
             [
              1,
              "#f0f921"
             ]
            ],
            "type": "histogram2dcontour"
           }
          ],
          "mesh3d": [
           {
            "colorbar": {
             "outlinewidth": 0,
             "ticks": ""
            },
            "type": "mesh3d"
           }
          ],
          "parcoords": [
           {
            "line": {
             "colorbar": {
              "outlinewidth": 0,
              "ticks": ""
             }
            },
            "type": "parcoords"
           }
          ],
          "pie": [
           {
            "automargin": true,
            "type": "pie"
           }
          ],
          "scatter": [
           {
            "marker": {
             "line": {
              "color": "#283442"
             }
            },
            "type": "scatter"
           }
          ],
          "scatter3d": [
           {
            "line": {
             "colorbar": {
              "outlinewidth": 0,
              "ticks": ""
             }
            },
            "marker": {
             "colorbar": {
              "outlinewidth": 0,
              "ticks": ""
             }
            },
            "type": "scatter3d"
           }
          ],
          "scattercarpet": [
           {
            "marker": {
             "colorbar": {
              "outlinewidth": 0,
              "ticks": ""
             }
            },
            "type": "scattercarpet"
           }
          ],
          "scattergeo": [
           {
            "marker": {
             "colorbar": {
              "outlinewidth": 0,
              "ticks": ""
             }
            },
            "type": "scattergeo"
           }
          ],
          "scattergl": [
           {
            "marker": {
             "line": {
              "color": "#283442"
             }
            },
            "type": "scattergl"
           }
          ],
          "scattermap": [
           {
            "marker": {
             "colorbar": {
              "outlinewidth": 0,
              "ticks": ""
             }
            },
            "type": "scattermap"
           }
          ],
          "scattermapbox": [
           {
            "marker": {
             "colorbar": {
              "outlinewidth": 0,
              "ticks": ""
             }
            },
            "type": "scattermapbox"
           }
          ],
          "scatterpolar": [
           {
            "marker": {
             "colorbar": {
              "outlinewidth": 0,
              "ticks": ""
             }
            },
            "type": "scatterpolar"
           }
          ],
          "scatterpolargl": [
           {
            "marker": {
             "colorbar": {
              "outlinewidth": 0,
              "ticks": ""
             }
            },
            "type": "scatterpolargl"
           }
          ],
          "scatterternary": [
           {
            "marker": {
             "colorbar": {
              "outlinewidth": 0,
              "ticks": ""
             }
            },
            "type": "scatterternary"
           }
          ],
          "surface": [
           {
            "colorbar": {
             "outlinewidth": 0,
             "ticks": ""
            },
            "colorscale": [
             [
              0,
              "#0d0887"
             ],
             [
              0.1111111111111111,
              "#46039f"
             ],
             [
              0.2222222222222222,
              "#7201a8"
             ],
             [
              0.3333333333333333,
              "#9c179e"
             ],
             [
              0.4444444444444444,
              "#bd3786"
             ],
             [
              0.5555555555555556,
              "#d8576b"
             ],
             [
              0.6666666666666666,
              "#ed7953"
             ],
             [
              0.7777777777777778,
              "#fb9f3a"
             ],
             [
              0.8888888888888888,
              "#fdca26"
             ],
             [
              1,
              "#f0f921"
             ]
            ],
            "type": "surface"
           }
          ],
          "table": [
           {
            "cells": {
             "fill": {
              "color": "#506784"
             },
             "line": {
              "color": "rgb(17,17,17)"
             }
            },
            "header": {
             "fill": {
              "color": "#2a3f5f"
             },
             "line": {
              "color": "rgb(17,17,17)"
             }
            },
            "type": "table"
           }
          ]
         },
         "layout": {
          "annotationdefaults": {
           "arrowcolor": "#f2f5fa",
           "arrowhead": 0,
           "arrowwidth": 1
          },
          "autotypenumbers": "strict",
          "coloraxis": {
           "colorbar": {
            "outlinewidth": 0,
            "ticks": ""
           }
          },
          "colorscale": {
           "diverging": [
            [
             0,
             "#8e0152"
            ],
            [
             0.1,
             "#c51b7d"
            ],
            [
             0.2,
             "#de77ae"
            ],
            [
             0.3,
             "#f1b6da"
            ],
            [
             0.4,
             "#fde0ef"
            ],
            [
             0.5,
             "#f7f7f7"
            ],
            [
             0.6,
             "#e6f5d0"
            ],
            [
             0.7,
             "#b8e186"
            ],
            [
             0.8,
             "#7fbc41"
            ],
            [
             0.9,
             "#4d9221"
            ],
            [
             1,
             "#276419"
            ]
           ],
           "sequential": [
            [
             0,
             "#0d0887"
            ],
            [
             0.1111111111111111,
             "#46039f"
            ],
            [
             0.2222222222222222,
             "#7201a8"
            ],
            [
             0.3333333333333333,
             "#9c179e"
            ],
            [
             0.4444444444444444,
             "#bd3786"
            ],
            [
             0.5555555555555556,
             "#d8576b"
            ],
            [
             0.6666666666666666,
             "#ed7953"
            ],
            [
             0.7777777777777778,
             "#fb9f3a"
            ],
            [
             0.8888888888888888,
             "#fdca26"
            ],
            [
             1,
             "#f0f921"
            ]
           ],
           "sequentialminus": [
            [
             0,
             "#0d0887"
            ],
            [
             0.1111111111111111,
             "#46039f"
            ],
            [
             0.2222222222222222,
             "#7201a8"
            ],
            [
             0.3333333333333333,
             "#9c179e"
            ],
            [
             0.4444444444444444,
             "#bd3786"
            ],
            [
             0.5555555555555556,
             "#d8576b"
            ],
            [
             0.6666666666666666,
             "#ed7953"
            ],
            [
             0.7777777777777778,
             "#fb9f3a"
            ],
            [
             0.8888888888888888,
             "#fdca26"
            ],
            [
             1,
             "#f0f921"
            ]
           ]
          },
          "colorway": [
           "#636efa",
           "#EF553B",
           "#00cc96",
           "#ab63fa",
           "#FFA15A",
           "#19d3f3",
           "#FF6692",
           "#B6E880",
           "#FF97FF",
           "#FECB52"
          ],
          "font": {
           "color": "#f2f5fa"
          },
          "geo": {
           "bgcolor": "rgb(17,17,17)",
           "lakecolor": "rgb(17,17,17)",
           "landcolor": "rgb(17,17,17)",
           "showlakes": true,
           "showland": true,
           "subunitcolor": "#506784"
          },
          "hoverlabel": {
           "align": "left"
          },
          "hovermode": "closest",
          "mapbox": {
           "style": "dark"
          },
          "paper_bgcolor": "rgb(17,17,17)",
          "plot_bgcolor": "rgb(17,17,17)",
          "polar": {
           "angularaxis": {
            "gridcolor": "#506784",
            "linecolor": "#506784",
            "ticks": ""
           },
           "bgcolor": "rgb(17,17,17)",
           "radialaxis": {
            "gridcolor": "#506784",
            "linecolor": "#506784",
            "ticks": ""
           }
          },
          "scene": {
           "xaxis": {
            "backgroundcolor": "rgb(17,17,17)",
            "gridcolor": "#506784",
            "gridwidth": 2,
            "linecolor": "#506784",
            "showbackground": true,
            "ticks": "",
            "zerolinecolor": "#C8D4E3"
           },
           "yaxis": {
            "backgroundcolor": "rgb(17,17,17)",
            "gridcolor": "#506784",
            "gridwidth": 2,
            "linecolor": "#506784",
            "showbackground": true,
            "ticks": "",
            "zerolinecolor": "#C8D4E3"
           },
           "zaxis": {
            "backgroundcolor": "rgb(17,17,17)",
            "gridcolor": "#506784",
            "gridwidth": 2,
            "linecolor": "#506784",
            "showbackground": true,
            "ticks": "",
            "zerolinecolor": "#C8D4E3"
           }
          },
          "shapedefaults": {
           "line": {
            "color": "#f2f5fa"
           }
          },
          "sliderdefaults": {
           "bgcolor": "#C8D4E3",
           "bordercolor": "rgb(17,17,17)",
           "borderwidth": 1,
           "tickwidth": 0
          },
          "ternary": {
           "aaxis": {
            "gridcolor": "#506784",
            "linecolor": "#506784",
            "ticks": ""
           },
           "baxis": {
            "gridcolor": "#506784",
            "linecolor": "#506784",
            "ticks": ""
           },
           "bgcolor": "rgb(17,17,17)",
           "caxis": {
            "gridcolor": "#506784",
            "linecolor": "#506784",
            "ticks": ""
           }
          },
          "title": {
           "x": 0.05
          },
          "updatemenudefaults": {
           "bgcolor": "#506784",
           "borderwidth": 0
          },
          "xaxis": {
           "automargin": true,
           "gridcolor": "#283442",
           "linecolor": "#506784",
           "ticks": "",
           "title": {
            "standoff": 15
           },
           "zerolinecolor": "#283442",
           "zerolinewidth": 2
          },
          "yaxis": {
           "automargin": true,
           "gridcolor": "#283442",
           "linecolor": "#506784",
           "ticks": "",
           "title": {
            "standoff": 15
           },
           "zerolinecolor": "#283442",
           "zerolinewidth": 2
          }
         }
        },
        "title": {
         "text": "Analiza Reszt (Błędów Modelu) w Czasie"
        },
        "xaxis": {
         "anchor": "y",
         "domain": [
          0,
          1
         ],
         "title": {
          "text": "Data"
         }
        },
        "yaxis": {
         "anchor": "x",
         "domain": [
          0,
          1
         ],
         "title": {
          "text": "Reszta (Actual - Predicted)"
         }
        }
       }
      }
     },
     "metadata": {},
     "output_type": "display_data"
    }
   ],
   "source": [
    "# Calculate residuals\n",
    "residuals = plot_df['Actual'] - plot_df['Predicted']\n",
    "\n",
    "# Plot residuals over time\n",
    "fig_residuals = px.scatter(\n",
    "    x=plot_df['Date'], y=residuals,\n",
    "    title=\"Analiza Reszt (Błędów Modelu) w Czasie\",\n",
    "    labels={'x': 'Data', 'y': 'Reszta (Actual - Predicted)'}\n",
    ")\n",
    "fig_residuals.add_hline(y=0, line_dash=\"dash\", line_color=\"red\")\n",
    "fig_residuals.show()"
   ]
  }
 ],
 "metadata": {
  "kernelspec": {
   "display_name": "Python 3",
   "language": "python",
   "name": "python3"
  },
  "language_info": {
   "codemirror_mode": {
    "name": "ipython",
    "version": 3
   },
   "file_extension": ".py",
   "mimetype": "text/x-python",
   "name": "python",
   "nbconvert_exporter": "python",
   "pygments_lexer": "ipython3",
   "version": "3.11.5"
  }
 },
 "nbformat": 4,
 "nbformat_minor": 2
}
