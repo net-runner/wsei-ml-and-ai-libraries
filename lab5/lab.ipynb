{
 "cells": [
  {
   "cell_type": "markdown",
   "metadata": {},
   "source": [
    "# Zadanie\n",
    "\n",
    "Przeprowadź analize skupień klientów na podstawie zbioru ./Online Retail.xlsx\n",
    "Dane pochodzą z brytyjskiego skelpu internetowego i obejmują informacje dotyczące zamówień\n",
    "O kolumnach: \n",
    "InvoiceNo\tStockCode\tDescription\tQuantity\tInvoiceDate\tUnitPrice\tCustomerID\tCountry\n",
    "\n",
    "Należy wczytać zbiór oraz przeprowadzić jego wstępne oczyszczenie. Następnie, na podstawie\n",
    "danych transakcyjnych, należy zbudować zestaw cech opisujących zachowania zakupowe\n",
    "klientów (np. średnia wartość zamówienia, liczba transakcji, liczba unikalnych produktów itd.). Po\n",
    "przekształceniu i przeskalowaniu danych należy zastosować wybrane algorytmy klasteryzacji, a\n",
    "następnie porównać ich wyniki za pomocą metryk wewnętrznych. Wyniki należy zwizualizować w\n",
    "przestrzeni dwuwymiarowej po redukcji wymiarowości. Należy zinterpretować uzyskane klastry\n",
    "oraz wskazać, czym różnią się poszczególne grupy klientów.\n"
   ]
  },
  {
   "cell_type": "markdown",
   "metadata": {},
   "source": []
  }
 ],
 "metadata": {
  "language_info": {
   "name": "python"
  }
 },
 "nbformat": 4,
 "nbformat_minor": 2
}
