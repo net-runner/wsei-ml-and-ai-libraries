{
 "cells": [
  {
   "cell_type": "markdown",
   "metadata": {},
   "source": [
    "# Zadanie\n",
    "\n",
    "Wybierz zbiór danych i zdefiniuj problem regresyjny, określając zmienną docelową oraz cechy\n",
    "objaśniające. \n",
    "\n",
    "1. Przeprowadź przygotowanie danych, obejmujące:\n",
    "    - Usunięcie duplikatów, obsługę braków danych.\n",
    "    - Kodowanie zmiennych kategorycznych oraz detekcję wartości odstających.\n",
    "    - Skalowanie zmiennych numerycznych (jeśli konieczne).\n",
    "\n",
    "2. Podziel dane na zbiór treningowy i testowy oraz zastosuj odpowiednie metody inżynierii cech.\n",
    "\n",
    "3. Zbuduj model regresji liniowej jako benchmark, a następnie przeprowadź predykcję i ocenę jakości\n",
    "modelu przy użyciu metryk: MAE, MSE, RMSE, R². Dane powinny zawierać co najmniej kilkaset\n",
    "obserwacji, aby umożliwić dalsze eksperymenty z optymalizacją modeli regresyjnych w kolejnych\n",
    "laboratoriach"
   ]
  },
  {
   "cell_type": "markdown",
   "metadata": {},
   "source": [
    "Wybrane dane pochodzą z poe.ninja i są bezpośrednim odwzorowaniem ruchu ekonomicznego danej ligi (okresowego etapu rozgrywki) z gry komputerowej Path of Exile.\n",
    "\n",
    "Potencjalne problemy regresyjne:\n",
    "+ przewidywanie przyszłej ceny waluty / przedmiotu\n",
    "+ przewidywanie wpływu popytu/podaży na cene\n",
    "+ przewidywanie zmienności ceny walut/przedmiotów"
   ]
  },
  {
   "cell_type": "markdown",
   "metadata": {},
   "source": []
  }
 ],
 "metadata": {
  "language_info": {
   "name": "python"
  }
 },
 "nbformat": 4,
 "nbformat_minor": 2
}
