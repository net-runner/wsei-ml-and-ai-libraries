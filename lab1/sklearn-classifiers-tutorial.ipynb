{
 "cells": [
  {
   "cell_type": "markdown",
   "metadata": {},
   "source": [
    "# Scikit-learn Classification Algorithms"
   ]
  },
  {
   "cell_type": "markdown",
   "metadata": {},
   "source": [
    "## Introduction\n",
    "\n",
    "According to [Mitchell](http://www.cs.cmu.edu/~tom/mlbook.html), machine learning is ”concerned with the question of how to construct computer programs that automatically improve with experience.” [Machine learning](https://en.wikipedia.org/wiki/Machine_learning) is interdisciplinary in nature, and employs techniques from the fields of computer science, statistics, and artificial intelligence, among others. The main artifacts of machine learning research are algorithms which facilitate this automatic improvement from experience, algorithms which can be applied in such diverse fields as computer vision, artificial intelligence, and data mining.\n",
    "\n",
    "[Classification](https://en.wikipedia.org/wiki/Statistical_classification) is concerned with building a model that separates data into distinct classes. This model is built by inputting a set of training data for which the classes are prelabeled in order for the algorithm to learn from. The model is then used by inputting a different dataset for which the classes are withheld, allowing the model to predict their class membership based on what it has learned from the training set. Well-known classification schemes include decision trees and support vector machines. As this type of algorithm requires explicit class labeling, classification is a form of [supervised learning](https://en.wikipedia.org/wiki/Supervised_learning).\n",
    "\n",
    "Scikit-learn is the _de facto_ official machine learning library in use in the Python ecosystem. As described on [its official website](http://scikit-learn.org/stable/), Scikit-learn is:\n",
    "\n",
    "> * Simple and efficient tools for data mining and data analysis\n",
    "* Accessible to everybody, and reusable in various contexts\n",
    "* Built on NumPy, SciPy, and matplotlib\n",
    "* Open source, commercially usable - BSD license\n",
    "\n",
    "![Scikit-learn](./img/plot_classifier_comparison.jpg)\n",
    "\n",
    "This tutorial is meant to serve as a demonstration of several machine learning classifiers, and { is inspired by | references | incoporates techniques from } the following excellent works:\n",
    "\n",
    "* Randal Olson's [An Example Machine Learning Notebook](http://nbviewer.ipython.org/github/rhiever/Data-Analysis-and-Machine-Learning-Projects/blob/master/example-data-science-notebook/Example%20Machine%20Learning%20Notebook.ipynb)\n",
    "* Analytics Vidhya's [Common Machine Learning Algorithms Cheat Sheet](http://www.analyticsvidhya.com/blog/2015/09/full-cheatsheet-machine-learning-algorithms/)\n",
    "* Scikit-learn's official [Cross-validation Documentation](http://scikit-learn.org/stable/modules/cross_validation.html)\n",
    "* Scikit-learn's official [Iris Dataset Documentation](http://scikit-learn.org/stable/auto_examples/datasets/plot_iris_dataset.html)\n",
    "* Likely includes influence of the various referenced tutorials included in this [KDnuggets Python Machine Learning](http://www.kdnuggets.com/2015/11/seven-steps-machine-learning-python.html) article I recently wrote\n",
    "\n",
    "We will use the well-known [Iris](https://archive.ics.uci.edu/ml/datasets/Iris) and [Digits](http://archive.ics.uci.edu/ml/datasets/Pen-Based+Recognition+of+Handwritten+Digits) datasets to build models with the following machine learning [classification](https://en.wikipedia.org/wiki/Statistical_classification) algorithms:\n",
    "\n",
    "* [Logistic Regression](https://en.wikipedia.org/wiki/Logistic_regression)\n",
    "* [Decision Tree](https://en.wikipedia.org/wiki/Decision_tree)\n",
    "* [Support Vector Machine](https://en.wikipedia.org/wiki/Support_vector_machine)\n",
    "* [Naive Bayes](https://en.wikipedia.org/wiki/Naive_Bayes_classifier)\n",
    "* [k-nearest Neighbors](https://en.wikipedia.org/wiki/K-nearest_neighbors_algorithm)\n",
    "* [Random Forests](https://en.wikipedia.org/wiki/Random_forest)\n",
    "\n",
    "We also use different strategies for evaluating models:\n",
    "\n",
    "* [Separate testing and training datasets](https://en.wikipedia.org/wiki/Test_set)\n",
    "* [k-fold Cross-validation](https://en.wikipedia.org/wiki/Cross-validation_(statistics)\n",
    "\n",
    "Some simple data investigation methods and tools will be undertaken as well, including:\n",
    "\n",
    "* Plotting data with [Matplotlib](http://matplotlib.org/)\n",
    "* Building and data via [Pandas](http://pandas.pydata.org/) dataframes\n",
    "* Constructing and operating on multi-dimensional arrays and matrices with [Numpy](http://www.numpy.org/)\n",
    "\n",
    "This tutorial is brief, non-verbose, and to the point. Please [alert me](https://twitter.com/mattmayo13) if you find inaccuracies. Also, if you find it at all useful, and believe it to be worth doing so, please feel free to share it far and wide."
   ]
  },
  {
   "cell_type": "markdown",
   "metadata": {},
   "source": [
    "## Investigating and Visualizing the Data\n",
    "\n",
    "Investigating data is a principal component of machine learning tasks, and there are numerous methods for pursuing such investigation depending on what our goals are. There are numerous resources which devote more energy to data investigaion (such as Randal Olson's [An Example Machine Learning Notebook](http://nbviewer.ipython.org/github/rhiever/Data-Analysis-and-Machine-Learning-Projects/blob/master/example-data-science-notebook/Example%20Machine%20Learning%20Notebook.ipynb)), and as this tutorial is focused on demonstrating various machine learning classifiers, as opposed to constructing end-to-end machine learning pipelines, we will devote comparatively less time to such tasks.\n",
    "\n",
    "First we must import the necessary libraries (they must reside on your computer) and load the required dataset.  We will then have a quick look at the data structure using the Pandas library. Finally, we look at a few simple visualizations of the data, which are often suitable enough to gain very quick insight and understanding."
   ]
  },
  {
   "cell_type": "code",
   "execution_count": 20,
   "metadata": {
    "collapsed": false
   },
   "outputs": [],
   "source": [
    "# Import pandas for building dataframes\n",
    "import pandas as pd\n",
    "\n",
    "# Import numpy\n",
    "import numpy as np\n",
    "\n",
    "# Import matplotlib for graphs, set inline\n",
    "from matplotlib import pyplot as plt\n",
    "%matplotlib inline\n",
    "\n",
    "# Import datasets for use\n",
    "from sklearn import datasets\n",
    "\n",
    "# We will use the iris & digits datasets\n",
    "iris = datasets.load_iris()\n",
    "digits = datasets.load_digits()"
   ]
  },
  {
   "cell_type": "markdown",
   "metadata": {},
   "source": [
    "### Exploring the Iris Dataset"
   ]
  },
  {
   "cell_type": "code",
   "execution_count": 7,
   "metadata": {
    "collapsed": false
   },
   "outputs": [
    {
     "data": {
      "text/html": [
       "<div>\n",
       "<table border=\"1\" class=\"dataframe\">\n",
       "  <thead>\n",
       "    <tr style=\"text-align: right;\">\n",
       "      <th></th>\n",
       "      <th>sepal length (cm)</th>\n",
       "      <th>sepal width (cm)</th>\n",
       "      <th>petal length (cm)</th>\n",
       "      <th>petal width (cm)</th>\n",
       "      <th>class</th>\n",
       "    </tr>\n",
       "  </thead>\n",
       "  <tbody>\n",
       "    <tr>\n",
       "      <th>0</th>\n",
       "      <td>5.1</td>\n",
       "      <td>3.5</td>\n",
       "      <td>1.4</td>\n",
       "      <td>0.2</td>\n",
       "      <td>0</td>\n",
       "    </tr>\n",
       "    <tr>\n",
       "      <th>1</th>\n",
       "      <td>4.9</td>\n",
       "      <td>3.0</td>\n",
       "      <td>1.4</td>\n",
       "      <td>0.2</td>\n",
       "      <td>0</td>\n",
       "    </tr>\n",
       "    <tr>\n",
       "      <th>2</th>\n",
       "      <td>4.7</td>\n",
       "      <td>3.2</td>\n",
       "      <td>1.3</td>\n",
       "      <td>0.2</td>\n",
       "      <td>0</td>\n",
       "    </tr>\n",
       "    <tr>\n",
       "      <th>3</th>\n",
       "      <td>4.6</td>\n",
       "      <td>3.1</td>\n",
       "      <td>1.5</td>\n",
       "      <td>0.2</td>\n",
       "      <td>0</td>\n",
       "    </tr>\n",
       "    <tr>\n",
       "      <th>4</th>\n",
       "      <td>5.0</td>\n",
       "      <td>3.6</td>\n",
       "      <td>1.4</td>\n",
       "      <td>0.2</td>\n",
       "      <td>0</td>\n",
       "    </tr>\n",
       "  </tbody>\n",
       "</table>\n",
       "</div>"
      ],
      "text/plain": [
       "   sepal length (cm)  sepal width (cm)  petal length (cm)  petal width (cm)  \\\n",
       "0                5.1               3.5                1.4               0.2   \n",
       "1                4.9               3.0                1.4               0.2   \n",
       "2                4.7               3.2                1.3               0.2   \n",
       "3                4.6               3.1                1.5               0.2   \n",
       "4                5.0               3.6                1.4               0.2   \n",
       "\n",
       "   class  \n",
       "0      0  \n",
       "1      0  \n",
       "2      0  \n",
       "3      0  \n",
       "4      0  "
      ]
     },
     "execution_count": 7,
     "metadata": {},
     "output_type": "execute_result"
    }
   ],
   "source": [
    "# Load iris dataset into a dataframe for exploration\n",
    "iris_df = pd.DataFrame(iris.data, columns=iris.feature_names)\n",
    "iris_df['class'] = iris.target\n",
    "\n",
    "# Output head of iris dataframe for instance inspection\n",
    "iris_df.head()"
   ]
  },
  {
   "cell_type": "code",
   "execution_count": 18,
   "metadata": {
    "collapsed": false
   },
   "outputs": [
    {
     "data": {
      "text/html": [
       "<div>\n",
       "<table border=\"1\" class=\"dataframe\">\n",
       "  <thead>\n",
       "    <tr style=\"text-align: right;\">\n",
       "      <th></th>\n",
       "      <th>sepal length (cm)</th>\n",
       "      <th>sepal width (cm)</th>\n",
       "      <th>petal length (cm)</th>\n",
       "      <th>petal width (cm)</th>\n",
       "      <th>class</th>\n",
       "    </tr>\n",
       "  </thead>\n",
       "  <tbody>\n",
       "    <tr>\n",
       "      <th>count</th>\n",
       "      <td>150.000000</td>\n",
       "      <td>150.000000</td>\n",
       "      <td>150.000000</td>\n",
       "      <td>150.000000</td>\n",
       "      <td>150.000000</td>\n",
       "    </tr>\n",
       "    <tr>\n",
       "      <th>mean</th>\n",
       "      <td>5.843333</td>\n",
       "      <td>3.054000</td>\n",
       "      <td>3.758667</td>\n",
       "      <td>1.198667</td>\n",
       "      <td>1.000000</td>\n",
       "    </tr>\n",
       "    <tr>\n",
       "      <th>std</th>\n",
       "      <td>0.828066</td>\n",
       "      <td>0.433594</td>\n",
       "      <td>1.764420</td>\n",
       "      <td>0.763161</td>\n",
       "      <td>0.819232</td>\n",
       "    </tr>\n",
       "    <tr>\n",
       "      <th>min</th>\n",
       "      <td>4.300000</td>\n",
       "      <td>2.000000</td>\n",
       "      <td>1.000000</td>\n",
       "      <td>0.100000</td>\n",
       "      <td>0.000000</td>\n",
       "    </tr>\n",
       "    <tr>\n",
       "      <th>25%</th>\n",
       "      <td>5.100000</td>\n",
       "      <td>2.800000</td>\n",
       "      <td>1.600000</td>\n",
       "      <td>0.300000</td>\n",
       "      <td>0.000000</td>\n",
       "    </tr>\n",
       "    <tr>\n",
       "      <th>50%</th>\n",
       "      <td>5.800000</td>\n",
       "      <td>3.000000</td>\n",
       "      <td>4.350000</td>\n",
       "      <td>1.300000</td>\n",
       "      <td>1.000000</td>\n",
       "    </tr>\n",
       "    <tr>\n",
       "      <th>75%</th>\n",
       "      <td>6.400000</td>\n",
       "      <td>3.300000</td>\n",
       "      <td>5.100000</td>\n",
       "      <td>1.800000</td>\n",
       "      <td>2.000000</td>\n",
       "    </tr>\n",
       "    <tr>\n",
       "      <th>max</th>\n",
       "      <td>7.900000</td>\n",
       "      <td>4.400000</td>\n",
       "      <td>6.900000</td>\n",
       "      <td>2.500000</td>\n",
       "      <td>2.000000</td>\n",
       "    </tr>\n",
       "  </tbody>\n",
       "</table>\n",
       "</div>"
      ],
      "text/plain": [
       "       sepal length (cm)  sepal width (cm)  petal length (cm)  \\\n",
       "count         150.000000        150.000000         150.000000   \n",
       "mean            5.843333          3.054000           3.758667   \n",
       "std             0.828066          0.433594           1.764420   \n",
       "min             4.300000          2.000000           1.000000   \n",
       "25%             5.100000          2.800000           1.600000   \n",
       "50%             5.800000          3.000000           4.350000   \n",
       "75%             6.400000          3.300000           5.100000   \n",
       "max             7.900000          4.400000           6.900000   \n",
       "\n",
       "       petal width (cm)       class  \n",
       "count        150.000000  150.000000  \n",
       "mean           1.198667    1.000000  \n",
       "std            0.763161    0.819232  \n",
       "min            0.100000    0.000000  \n",
       "25%            0.300000    0.000000  \n",
       "50%            1.300000    1.000000  \n",
       "75%            1.800000    2.000000  \n",
       "max            2.500000    2.000000  "
      ]
     },
     "execution_count": 18,
     "metadata": {},
     "output_type": "execute_result"
    }
   ],
   "source": [
    "# Display a description of the iris dataset as summary\n",
    "iris_df.describe()"
   ]
  },
  {
   "cell_type": "code",
   "execution_count": 218,
   "metadata": {
    "collapsed": false
   },
   "outputs": [
    {
     "data": {
      "text/plain": [
       "<matplotlib.axes._subplots.AxesSubplot at 0x7f16632320d0>"
      ]
     },
     "execution_count": 218,
     "metadata": {},
     "output_type": "execute_result"
    },
    {
     "data": {
      "image/png": "[encoded data removed]",
      "text/plain": [
       "<matplotlib.figure.Figure at 0x7f1662b9dbd0>"
      ]
     },
     "metadata": {},
     "output_type": "display_data"
    }
   ],
   "source": [
    "# Sepal length histogram\n",
    "iris_df['sepal length (cm)'].hist()"
   ]
  },
  {
   "cell_type": "code",
   "execution_count": 219,
   "metadata": {
    "collapsed": false
   },
   "outputs": [
    {
     "data": {
      "text/plain": [
       "<matplotlib.axes._subplots.AxesSubplot at 0x7f1661968ad0>"
      ]
     },
     "execution_count": 219,
     "metadata": {},
     "output_type": "execute_result"
    },
    {
     "data": {
      "image/png": "[encoded data removed]",
      "text/plain": [
       "<matplotlib.figure.Figure at 0x7f16619718d0>"
      ]
     },
     "metadata": {},
     "output_type": "display_data"
    }
   ],
   "source": [
    "# Sepal width histogram\n",
    "iris_df['sepal width (cm)'].hist()"
   ]
  },
  {
   "cell_type": "code",
   "execution_count": 217,
   "metadata": {
    "collapsed": false
   },
   "outputs": [
    {
     "data": {
      "text/plain": [
       "<matplotlib.axes._subplots.AxesSubplot at 0x7f1662b11e50>"
      ]
     },
     "execution_count": 217,
     "metadata": {},
     "output_type": "execute_result"
    },
    {
     "data": {
      "image/png": "[encoded data removed]",
      "text/plain": [
       "<matplotlib.figure.Figure at 0x7f16628d2390>"
      ]
     },
     "metadata": {},
     "output_type": "display_data"
    }
   ],
   "source": [
    "# Petal length histogram\n",
    "iris_df['petal length (cm)'].hist()"
   ]
  },
  {
   "cell_type": "code",
   "execution_count": 220,
   "metadata": {
    "collapsed": false
   },
   "outputs": [
    {
     "data": {
      "text/plain": [
       "<matplotlib.axes._subplots.AxesSubplot at 0x7f166197b110>"
      ]
     },
     "execution_count": 220,
     "metadata": {},
     "output_type": "execute_result"
    },
    {
     "data": {
      "image/png": "[encoded data removed]",
      "text/plain": [
       "<matplotlib.figure.Figure at 0x7f16680ce810>"
      ]
     },
     "metadata": {},
     "output_type": "display_data"
    }
   ],
   "source": [
    "# Petal width histogram\n",
    "iris_df['petal width (cm)'].hist()"
   ]
  },
  {
   "cell_type": "code",
   "execution_count": 51,
   "metadata": {
    "collapsed": false
   },
   "outputs": [
    {
     "data": {
      "text/plain": [
       "<matplotlib.axes._subplots.AxesSubplot at 0x7f166a396510>"
      ]
     },
     "execution_count": 51,
     "metadata": {},
     "output_type": "execute_result"
    },
    {
     "data": {
      "image/png": "[encoded data removed]",
      "text/plain": [
       "<matplotlib.figure.Figure at 0x7f166a2a1d50>"
      ]
     },
     "metadata": {},
     "output_type": "display_data"
    }
   ],
   "source": [
    "# Dataset boxplot\n",
    "iris_df.plot(kind='box', vert=False)"
   ]
  },
  {
   "cell_type": "code",
   "execution_count": 55,
   "metadata": {
    "collapsed": false
   },
   "outputs": [
    {
     "data": {
      "text/plain": [
       "<matplotlib.axes._subplots.AxesSubplot at 0x7f166a35db50>"
      ]
     },
     "execution_count": 55,
     "metadata": {},
     "output_type": "execute_result"
    },
    {
     "data": {
      "image/png": "[encoded data removed]",
      "text/plain": [
       "<matplotlib.figure.Figure at 0x7f166c6cd7d0>"
      ]
     },
     "metadata": {},
     "output_type": "display_data"
    }
   ],
   "source": [
    "# Dataset area plot\n",
    "iris_df.plot(kind='area')"
   ]
  },
  {
   "cell_type": "code",
   "execution_count": 62,
   "metadata": {
    "collapsed": false
   },
   "outputs": [
    {
     "data": {
      "text/plain": [
       "<matplotlib.axes._subplots.AxesSubplot at 0x7f166c573590>"
      ]
     },
     "execution_count": 62,
     "metadata": {},
     "output_type": "execute_result"
    },
    {
     "data": {
      "image/png": "[encoded data removed]",
      "text/plain": [
       "<matplotlib.figure.Figure at 0x7f1669e11150>"
      ]
     },
     "metadata": {},
     "output_type": "display_data"
    }
   ],
   "source": [
    "# Dataset density plot\n",
    "iris_df.plot(kind='kde')"
   ]
  },
  {
   "cell_type": "markdown",
   "metadata": {},
   "source": [
    "The following uses [Principal Component Analysis (PCA)](https://en.wikipedia.org/wiki/Principal_component_analysis), converting the dataset's variables into a set of principal components, which will then be plotted in both 2 and 3 dimensions.\n",
    "\n",
    "This code has been taken in totality from Scikit-learn's official [Iris Dataset Documentation](http://scikit-learn.org/stable/auto_examples/datasets/plot_iris_dataset.html\n",
    ")."
   ]
  },
  {
   "cell_type": "code",
   "execution_count": 64,
   "metadata": {
    "collapsed": false
   },
   "outputs": [
    {
     "data": {
      "image/png": "[encoded data removed]",
      "text/plain": [
       "<matplotlib.figure.Figure at 0x7f1669aaeb10>"
      ]
     },
     "metadata": {},
     "output_type": "display_data"
    },
    {
     "data": {
      "image/png": "[encoded data removed]",
      "text/plain": [
       "<matplotlib.figure.Figure at 0x7f1669b35910>"
      ]
     },
     "metadata": {},
     "output_type": "display_data"
    }
   ],
   "source": [
    "from mpl_toolkits.mplot3d import Axes3D\n",
    "from sklearn.decomposition import PCA\n",
    "\n",
    "# import some data to play with\n",
    "X = iris.data[:, :2]  # we only take the first two features.\n",
    "Y = iris.target\n",
    "\n",
    "x_min, x_max = X[:, 0].min() - .5, X[:, 0].max() + .5\n",
    "y_min, y_max = X[:, 1].min() - .5, X[:, 1].max() + .5\n",
    "\n",
    "plt.figure(2, figsize=(8, 6))\n",
    "plt.clf()\n",
    "\n",
    "# Plot the training points\n",
    "plt.scatter(X[:, 0], X[:, 1], c=Y, cmap=plt.cm.Paired)\n",
    "plt.xlabel('Sepal length')\n",
    "plt.ylabel('Sepal width')\n",
    "\n",
    "plt.xlim(x_min, x_max)\n",
    "plt.ylim(y_min, y_max)\n",
    "plt.xticks(())\n",
    "plt.yticks(())\n",
    "\n",
    "# To getter a better understanding of interaction of the dimensions\n",
    "# plot the first three PCA dimensions\n",
    "fig = plt.figure(1, figsize=(8, 6))\n",
    "ax = Axes3D(fig, elev=-150, azim=110)\n",
    "X_reduced = PCA(n_components=3).fit_transform(iris.data)\n",
    "ax.scatter(X_reduced[:, 0], X_reduced[:, 1], X_reduced[:, 2], c=Y,\n",
    "           cmap=plt.cm.Paired)\n",
    "ax.set_title(\"First three PCA directions\")\n",
    "ax.set_xlabel(\"1st eigenvector\")\n",
    "ax.w_xaxis.set_ticklabels([])\n",
    "ax.set_ylabel(\"2nd eigenvector\")\n",
    "ax.w_yaxis.set_ticklabels([])\n",
    "ax.set_zlabel(\"3rd eigenvector\")\n",
    "ax.w_zaxis.set_ticklabels([])\n",
    "\n",
    "plt.show()"
   ]
  },
  {
   "cell_type": "markdown",
   "metadata": {},
   "source": [
    "### Exploring the Digits Dataset\n",
    "\n",
    "_Note that much of the above exploration is not relevant or useful to the Digits dataset._"
   ]
  },
  {
   "cell_type": "code",
   "execution_count": 30,
   "metadata": {
    "collapsed": false
   },
   "outputs": [
    {
     "data": {
      "text/html": [
       "<div>\n",
       "<table border=\"1\" class=\"dataframe\">\n",
       "  <thead>\n",
       "    <tr style=\"text-align: right;\">\n",
       "      <th></th>\n",
       "      <th>0</th>\n",
       "      <th>1</th>\n",
       "      <th>2</th>\n",
       "      <th>3</th>\n",
       "      <th>4</th>\n",
       "      <th>5</th>\n",
       "      <th>6</th>\n",
       "      <th>7</th>\n",
       "      <th>8</th>\n",
       "      <th>9</th>\n",
       "      <th>...</th>\n",
       "      <th>55</th>\n",
       "      <th>56</th>\n",
       "      <th>57</th>\n",
       "      <th>58</th>\n",
       "      <th>59</th>\n",
       "      <th>60</th>\n",
       "      <th>61</th>\n",
       "      <th>62</th>\n",
       "      <th>63</th>\n",
       "      <th>class</th>\n",
       "    </tr>\n",
       "  </thead>\n",
       "  <tbody>\n",
       "    <tr>\n",
       "      <th>0</th>\n",
       "      <td>0</td>\n",
       "      <td>0</td>\n",
       "      <td>5</td>\n",
       "      <td>13</td>\n",
       "      <td>9</td>\n",
       "      <td>1</td>\n",
       "      <td>0</td>\n",
       "      <td>0</td>\n",
       "      <td>0</td>\n",
       "      <td>0</td>\n",
       "      <td>...</td>\n",
       "      <td>0</td>\n",
       "      <td>0</td>\n",
       "      <td>0</td>\n",
       "      <td>6</td>\n",
       "      <td>13</td>\n",
       "      <td>10</td>\n",
       "      <td>0</td>\n",
       "      <td>0</td>\n",
       "      <td>0</td>\n",
       "      <td>0</td>\n",
       "    </tr>\n",
       "    <tr>\n",
       "      <th>1</th>\n",
       "      <td>0</td>\n",
       "      <td>0</td>\n",
       "      <td>0</td>\n",
       "      <td>12</td>\n",
       "      <td>13</td>\n",
       "      <td>5</td>\n",
       "      <td>0</td>\n",
       "      <td>0</td>\n",
       "      <td>0</td>\n",
       "      <td>0</td>\n",
       "      <td>...</td>\n",
       "      <td>0</td>\n",
       "      <td>0</td>\n",
       "      <td>0</td>\n",
       "      <td>0</td>\n",
       "      <td>11</td>\n",
       "      <td>16</td>\n",
       "      <td>10</td>\n",
       "      <td>0</td>\n",
       "      <td>0</td>\n",
       "      <td>1</td>\n",
       "    </tr>\n",
       "    <tr>\n",
       "      <th>2</th>\n",
       "      <td>0</td>\n",
       "      <td>0</td>\n",
       "      <td>0</td>\n",
       "      <td>4</td>\n",
       "      <td>15</td>\n",
       "      <td>12</td>\n",
       "      <td>0</td>\n",
       "      <td>0</td>\n",
       "      <td>0</td>\n",
       "      <td>0</td>\n",
       "      <td>...</td>\n",
       "      <td>0</td>\n",
       "      <td>0</td>\n",
       "      <td>0</td>\n",
       "      <td>0</td>\n",
       "      <td>3</td>\n",
       "      <td>11</td>\n",
       "      <td>16</td>\n",
       "      <td>9</td>\n",
       "      <td>0</td>\n",
       "      <td>2</td>\n",
       "    </tr>\n",
       "    <tr>\n",
       "      <th>3</th>\n",
       "      <td>0</td>\n",
       "      <td>0</td>\n",
       "      <td>7</td>\n",
       "      <td>15</td>\n",
       "      <td>13</td>\n",
       "      <td>1</td>\n",
       "      <td>0</td>\n",
       "      <td>0</td>\n",
       "      <td>0</td>\n",
       "      <td>8</td>\n",
       "      <td>...</td>\n",
       "      <td>0</td>\n",
       "      <td>0</td>\n",
       "      <td>0</td>\n",
       "      <td>7</td>\n",
       "      <td>13</td>\n",
       "      <td>13</td>\n",
       "      <td>9</td>\n",
       "      <td>0</td>\n",
       "      <td>0</td>\n",
       "      <td>3</td>\n",
       "    </tr>\n",
       "    <tr>\n",
       "      <th>4</th>\n",
       "      <td>0</td>\n",
       "      <td>0</td>\n",
       "      <td>0</td>\n",
       "      <td>1</td>\n",
       "      <td>11</td>\n",
       "      <td>0</td>\n",
       "      <td>0</td>\n",
       "      <td>0</td>\n",
       "      <td>0</td>\n",
       "      <td>0</td>\n",
       "      <td>...</td>\n",
       "      <td>0</td>\n",
       "      <td>0</td>\n",
       "      <td>0</td>\n",
       "      <td>0</td>\n",
       "      <td>2</td>\n",
       "      <td>16</td>\n",
       "      <td>4</td>\n",
       "      <td>0</td>\n",
       "      <td>0</td>\n",
       "      <td>4</td>\n",
       "    </tr>\n",
       "  </tbody>\n",
       "</table>\n",
       "<p>5 rows × 65 columns</p>\n",
       "</div>"
      ],
      "text/plain": [
       "   0  1  2   3   4   5  6  7  8  9  ...    55  56  57  58  59  60  61  62  63  \\\n",
       "0  0  0  5  13   9   1  0  0  0  0  ...     0   0   0   6  13  10   0   0   0   \n",
       "1  0  0  0  12  13   5  0  0  0  0  ...     0   0   0   0  11  16  10   0   0   \n",
       "2  0  0  0   4  15  12  0  0  0  0  ...     0   0   0   0   3  11  16   9   0   \n",
       "3  0  0  7  15  13   1  0  0  0  8  ...     0   0   0   7  13  13   9   0   0   \n",
       "4  0  0  0   1  11   0  0  0  0  0  ...     0   0   0   0   2  16   4   0   0   \n",
       "\n",
       "   class  \n",
       "0      0  \n",
       "1      1  \n",
       "2      2  \n",
       "3      3  \n",
       "4      4  \n",
       "\n",
       "[5 rows x 65 columns]"
      ]
     },
     "execution_count": 30,
     "metadata": {},
     "output_type": "execute_result"
    }
   ],
   "source": [
    "# Load digits dataset into a dataframe for exploration\n",
    "digits_df = pd.DataFrame(digits.data)\n",
    "digits_df['class'] = digits.target\n",
    "\n",
    "# Output head of iris dataframe for instance inspection\n",
    "digits_df.head()"
   ]
  },
  {
   "cell_type": "code",
   "execution_count": 33,
   "metadata": {
    "collapsed": false
   },
   "outputs": [
    {
     "data": {
      "image/png": "[encoded data removed]",
      "text/plain": [
       "<matplotlib.figure.Figure at 0x7f2a697dae10>"
      ]
     },
     "metadata": {},
     "output_type": "display_data"
    }
   ],
   "source": [
    "# Display the first digit\n",
    "plt.figure(1, figsize=(3, 3))\n",
    "plt.imshow(digits.images[-1], cmap=plt.cm.gray_r, interpolation='nearest')\n",
    "plt.show()"
   ]
  },
  {
   "cell_type": "markdown",
   "metadata": {},
   "source": [
    "## Preparing the Data\n",
    "\n",
    "With some preliminary understanding of the dataset, we can move to preparing the data for analysis.\n",
    "\n",
    "We must prepare the datasets we will use for testing (fitting) the algorithms. Since we already have the Iris dataset loaded, we will go on to setting our predictor and target appropriately, creating testing and training sets to use repeatedly moving forward."
   ]
  },
  {
   "cell_type": "markdown",
   "metadata": {},
   "source": [
    "### Preparing the Iris Dataset"
   ]
  },
  {
   "cell_type": "code",
   "execution_count": 39,
   "metadata": {
    "collapsed": false
   },
   "outputs": [
    {
     "name": "stderr",
     "output_type": "stream",
     "text": [
      "/home/matt/bin/anaconda/lib/python2.7/site-packages/ipykernel/__main__.py:15: DeprecationWarning: using a non-integer number instead of an integer will result in an error in the future\n",
      "/home/matt/bin/anaconda/lib/python2.7/site-packages/ipykernel/__main__.py:16: DeprecationWarning: using a non-integer number instead of an integer will result in an error in the future\n",
      "/home/matt/bin/anaconda/lib/python2.7/site-packages/ipykernel/__main__.py:17: DeprecationWarning: using a non-integer number instead of an integer will result in an error in the future\n",
      "/home/matt/bin/anaconda/lib/python2.7/site-packages/ipykernel/__main__.py:18: DeprecationWarning: using a non-integer number instead of an integer will result in an error in the future\n"
     ]
    }
   ],
   "source": [
    "# X and y are the predictor and target, respectively\n",
    "X = iris.data\n",
    "y = iris.target\n",
    "\n",
    "# Number of samples in the iris dataset\n",
    "n_sample = len(X)\n",
    "\n",
    "# Split training/testing sets\n",
    "np.random.seed(0)\n",
    "order = np.random.permutation(n_sample)\n",
    "\n",
    "X = X[order]\n",
    "y = y[order].astype(np.float)\n",
    "\n",
    "X_train = X[:.9 * n_sample]\n",
    "y_train = y[:.9 * n_sample]\n",
    "X_test = X[.9 * n_sample:]\n",
    "y_test = y[.9 * n_sample:]"
   ]
  },
  {
   "cell_type": "markdown",
   "metadata": {},
   "source": [
    "### Preparing the Digits Dataset"
   ]
  },
  {
   "cell_type": "code",
   "execution_count": 41,
   "metadata": {
    "collapsed": false
   },
   "outputs": [
    {
     "name": "stderr",
     "output_type": "stream",
     "text": [
      "/home/matt/bin/anaconda/lib/python2.7/site-packages/ipykernel/__main__.py:15: DeprecationWarning: using a non-integer number instead of an integer will result in an error in the future\n",
      "/home/matt/bin/anaconda/lib/python2.7/site-packages/ipykernel/__main__.py:16: DeprecationWarning: using a non-integer number instead of an integer will result in an error in the future\n",
      "/home/matt/bin/anaconda/lib/python2.7/site-packages/ipykernel/__main__.py:17: DeprecationWarning: using a non-integer number instead of an integer will result in an error in the future\n",
      "/home/matt/bin/anaconda/lib/python2.7/site-packages/ipykernel/__main__.py:18: DeprecationWarning: using a non-integer number instead of an integer will result in an error in the future\n"
     ]
    }
   ],
   "source": [
    "# X_dig and y_dig are the predictor and target, respectively\n",
    "X_dig = digits.data\n",
    "y_dig = digits.target\n",
    "\n",
    "# Number of samples in the digits dataset\n",
    "n_sample_dig = len(X_dig)\n",
    "\n",
    "# Split training/testing sets\n",
    "np.random.seed(0)\n",
    "order = np.random.permutation(n_sample_dig)\n",
    "\n",
    "X_dig = X_dig[order]\n",
    "y_dig = y_dig[order].astype(np.float)\n",
    "\n",
    "X_dig_train = X_dig[:.9 * n_sample_dig]\n",
    "y_dig_train = y_dig[:.9 * n_sample_dig]\n",
    "X_dig_test = X_dig[.9 * n_sample_dig:]\n",
    "y_dig_test = y_dig[.9 * n_sample_dig:]"
   ]
  },
  {
   "cell_type": "markdown",
   "metadata": {},
   "source": [
    "## Some Useful Functions\n",
    "\n",
    "What follows are auxiliary functions used throughout the tutorial:\n",
    "\n",
    "* Function `conf_matrix()` is used to build, beautify, and return a [confusion matrix](https://en.wikipedia.org/wiki/Confusion_matrix)"
   ]
  },
  {
   "cell_type": "code",
   "execution_count": 47,
   "metadata": {
    "collapsed": true
   },
   "outputs": [],
   "source": [
    "# Import confusion matrix functionality\n",
    "from sklearn.metrics import confusion_matrix as sk_confusion_matrix\n",
    "\n",
    "# Create and format a confusion matrix\n",
    "def conf_matrix(y_test, y_predict):\n",
    "\n",
    "    # Create the raw confusion matrix\n",
    "    conf = sk_confusion_matrix(y_test, y_predict)\n",
    "\n",
    "    # Format the confusion matrix nicely\n",
    "    conf = pd.DataFrame(data=conf)\n",
    "    conf.columns.name = 'Predicted label'\n",
    "    conf.index.name = 'Actual label'\n",
    "\n",
    "    # Return the confusion matrix\n",
    "    return conf"
   ]
  },
  {
   "cell_type": "markdown",
   "metadata": {},
   "source": [
    "## Logistic Regression\n",
    "\n",
    "The first classification algorithm we will look at is [Logistic Regression](https://en.wikipedia.org/wiki/Logistic_regression)."
   ]
  },
  {
   "cell_type": "markdown",
   "metadata": {},
   "source": [
    "### The Iris Dataset"
   ]
  },
  {
   "cell_type": "code",
   "execution_count": 37,
   "metadata": {
    "collapsed": false
   },
   "outputs": [
    {
     "data": {
      "text/plain": [
       "0.97037037037037033"
      ]
     },
     "execution_count": 37,
     "metadata": {},
     "output_type": "execute_result"
    }
   ],
   "source": [
    "# Import logistic regression library\n",
    "from sklearn.linear_model import LogisticRegression\n",
    "\n",
    "# Create the logistic regression model object\n",
    "logistic = LogisticRegression()\n",
    "\n",
    "# Train the model\n",
    "logistic.fit(X_train, y_train)\n",
    "\n",
    "# Check the score\n",
    "logistic.score(X_train, y_train)"
   ]
  },
  {
   "cell_type": "code",
   "execution_count": 80,
   "metadata": {
    "collapsed": false
   },
   "outputs": [
    {
     "name": "stdout",
     "output_type": "stream",
     "text": [
      "Logistic Model Coefficient:  [[ 0.4058485   1.42729388 -2.20620154 -1.01595183]\n",
      " [ 0.38233758 -1.49909611  0.53402104 -1.26826587]\n",
      " [-1.64410594 -1.43709915  2.35022066  2.50254717]]\n",
      "Logistic Model Intercept:  [ 0.26102942  0.97789476 -1.15656835]\n"
     ]
    }
   ],
   "source": [
    "# Output the equation coefficient and intercept\n",
    "print 'Logistic Model Coefficient: ', logistic.coef_\n",
    "print 'Logistic Model Intercept: ', logistic.intercept_"
   ]
  },
  {
   "cell_type": "code",
   "execution_count": 81,
   "metadata": {
    "collapsed": false
   },
   "outputs": [
    {
     "data": {
      "text/plain": [
       "array([ 1.,  2.,  2.,  0.,  1.,  1.,  2.,  1.,  0.,  0.,  0.,  2.,  1.,\n",
       "        2.,  0.])"
      ]
     },
     "execution_count": 81,
     "metadata": {},
     "output_type": "execute_result"
    }
   ],
   "source": [
    "# Predict the class of test set\n",
    "y_predict = logistic.predict(X_test)\n",
    "y_predict"
   ]
  },
  {
   "cell_type": "code",
   "execution_count": 82,
   "metadata": {
    "collapsed": false
   },
   "outputs": [
    {
     "data": {
      "text/plain": [
       "array([ 1.,  2.,  2.,  0.,  1.,  1.,  1.,  1.,  0.,  0.,  0.,  2.,  1.,\n",
       "        2.,  0.])"
      ]
     },
     "execution_count": 82,
     "metadata": {},
     "output_type": "execute_result"
    }
   ],
   "source": [
    "# The *actual* class of test set\n",
    "y_test"
   ]
  },
  {
   "cell_type": "code",
   "execution_count": 83,
   "metadata": {
    "collapsed": false
   },
   "outputs": [
    {
     "data": {
      "text/html": [
       "<div>\n",
       "<table border=\"1\" class=\"dataframe\">\n",
       "  <thead>\n",
       "    <tr style=\"text-align: right;\">\n",
       "      <th>Predicted label</th>\n",
       "      <th>0</th>\n",
       "      <th>1</th>\n",
       "      <th>2</th>\n",
       "    </tr>\n",
       "    <tr>\n",
       "      <th>Actual label</th>\n",
       "      <th></th>\n",
       "      <th></th>\n",
       "      <th></th>\n",
       "    </tr>\n",
       "  </thead>\n",
       "  <tbody>\n",
       "    <tr>\n",
       "      <th>0</th>\n",
       "      <td>5</td>\n",
       "      <td>0</td>\n",
       "      <td>0</td>\n",
       "    </tr>\n",
       "    <tr>\n",
       "      <th>1</th>\n",
       "      <td>0</td>\n",
       "      <td>5</td>\n",
       "      <td>1</td>\n",
       "    </tr>\n",
       "    <tr>\n",
       "      <th>2</th>\n",
       "      <td>0</td>\n",
       "      <td>0</td>\n",
       "      <td>4</td>\n",
       "    </tr>\n",
       "  </tbody>\n",
       "</table>\n",
       "</div>"
      ],
      "text/plain": [
       "Predicted label  0  1  2\n",
       "Actual label            \n",
       "0                5  0  0\n",
       "1                0  5  1\n",
       "2                0  0  4"
      ]
     },
     "execution_count": 83,
     "metadata": {},
     "output_type": "execute_result"
    }
   ],
   "source": [
    "# Create the confusion matrix\n",
    "conf = conf_matrix(y_test, y_predict)\n",
    "\n",
    "# Output the confusion matrix\n",
    "conf"
   ]
  },
  {
   "cell_type": "code",
   "execution_count": 84,
   "metadata": {
    "collapsed": false
   },
   "outputs": [
    {
     "name": "stdout",
     "output_type": "stream",
     "text": [
      "Logistic Model Error Rate: 0.07\n"
     ]
    }
   ],
   "source": [
    "# When we were wrong, how wrong were we?\n",
    "# Error rate is the mean of how wrong our incorrect predictions were\n",
    "err_rate = (y_predict != y_test).mean()\n",
    "print('Logistic Model Error Rate: %.2f' % err_rate)"
   ]
  },
  {
   "cell_type": "markdown",
   "metadata": {},
   "source": [
    "### The Digits Dataset"
   ]
  },
  {
   "cell_type": "code",
   "execution_count": 58,
   "metadata": {
    "collapsed": false
   },
   "outputs": [
    {
     "data": {
      "text/plain": [
       "0.99443413729128016"
      ]
     },
     "execution_count": 58,
     "metadata": {},
     "output_type": "execute_result"
    }
   ],
   "source": [
    "# Create the logistic regression model object\n",
    "logistic_dig = LogisticRegression()\n",
    "\n",
    "# Train the model\n",
    "logistic_dig.fit(X_dig_train, y_dig_train)\n",
    "\n",
    "# Check the score\n",
    "logistic_dig.score(X_dig_train, y_dig_train)"
   ]
  },
  {
   "cell_type": "code",
   "execution_count": 59,
   "metadata": {
    "collapsed": false
   },
   "outputs": [
    {
     "name": "stdout",
     "output_type": "stream",
     "text": [
      "Logistic Model Coefficient:  [[  0.00000000e+00  -3.21915085e-02  -1.64057182e-02   5.32675842e-02\n",
      "   -8.23640118e-02  -3.54845620e-01  -2.82424884e-01  -3.37622892e-02\n",
      "   -1.42336507e-05  -7.99843831e-02  -8.59344272e-03   1.76114969e-01\n",
      "    1.79833885e-01   2.85924319e-01  -1.53284978e-02  -3.68534690e-02\n",
      "   -4.52253204e-03   7.26817826e-02   2.16286250e-01  -3.06707417e-02\n",
      "   -4.36300803e-01   3.23477586e-01  -1.11681407e-02  -1.41645538e-02\n",
      "   -2.25892134e-03   2.64241699e-02  -6.21057658e-02  -1.59788799e-01\n",
      "   -6.39744190e-01   1.00424432e-03   4.38405813e-02  -1.95988778e-04\n",
      "    0.00000000e+00   2.07861466e-01   1.45096264e-01  -1.45344017e-01\n",
      "   -6.10838656e-01  -3.11363816e-02  -5.50335833e-02   0.00000000e+00\n",
      "   -1.23724908e-03  -5.03737508e-02   2.29284678e-01  -3.08967312e-01\n",
      "   -2.54463657e-01   2.94773955e-03   1.16029387e-01  -8.54728057e-05\n",
      "   -1.51057988e-03  -1.25189478e-01   1.74301001e-02  -8.76335724e-02\n",
      "    4.35926131e-02  -3.61559701e-02  -2.37121946e-01  -7.78902471e-02\n",
      "   -3.96765798e-06  -4.70984640e-02  -2.64415233e-01   1.02870273e-01\n",
      "   -2.97817495e-01  -9.23842294e-02  -1.67792873e-01  -7.28837880e-02]\n",
      " [  0.00000000e+00   1.13976543e-01   4.91119844e-01   1.02193619e-01\n",
      "   -6.40667311e-01   4.75845047e-01  -3.49033981e-01  -2.76039317e-01\n",
      "   -4.09418954e-05  -1.33765015e+00  -5.26454955e-01  -3.62342676e-01\n",
      "    2.77411582e-02   2.30252896e-01  -4.12705683e-01  -2.80297672e-02\n",
      "    2.28530831e-01   7.75480415e-01   3.78740717e-02   7.26542739e-01\n",
      "    2.86339460e-01  -3.81071791e-01   4.27515665e-01  -1.39884041e-01\n",
      "    1.14289971e-01  -3.44749609e-01   1.94741214e-02   4.43092166e-02\n",
      "    1.67751351e-01   1.14775051e-01  -4.82899868e-01  -3.79152411e-06\n",
      "    0.00000000e+00   4.89890433e-02  -2.06918845e-02  -5.32793038e-02\n",
      "    1.27805752e-01   3.07547589e-03  -3.26610313e-01   0.00000000e+00\n",
      "   -1.27385634e-05  -9.61941946e-01   7.64455112e-02  -5.31388967e-02\n",
      "   -9.35673972e-02  -4.15383844e-01  -2.24636337e-01  -1.94694178e-01\n",
      "   -2.53964821e-02   2.38839873e-01  -1.91998630e-01   2.11827181e-01\n",
      "   -3.12962071e-03   4.53943086e-02  -4.38997582e-01   6.83241636e-01\n",
      "   -8.46384204e-03  -1.06142211e+00  -4.79594588e-01  -5.66032268e-02\n",
      "    9.22071794e-02   1.39209869e-01  -1.67660212e-01   9.38947966e-02]\n",
      " [  0.00000000e+00   4.92117554e-02  -6.03183988e-02   1.20813024e-02\n",
      "   -3.99864728e-02  -2.49100191e-01  -1.41019367e-01  -1.62604623e-02\n",
      "   -3.81485938e-04   1.35619199e-01   2.24615290e-01  -1.67016451e-01\n",
      "    2.25666636e-01  -3.81005487e-02  -2.73201150e-02  -3.99713942e-03\n",
      "   -9.19441742e-05  -1.10508019e-01   8.38537426e-02  -2.16977728e-01\n",
      "    1.98753055e-01   1.18901672e-02   8.84220715e-02  -2.33219471e-04\n",
      "   -2.66164210e-05  -2.82830343e-01  -6.12001125e-01  -5.38443673e-01\n",
      "   -3.36614773e-01   1.82038408e-01  -1.10101589e-01  -9.71896724e-06\n",
      "    0.00000000e+00  -3.02672452e-01  -5.40675700e-01  -1.46657722e-01\n",
      "   -2.32062662e-01  -3.43790542e-01  -5.47972669e-01   0.00000000e+00\n",
      "   -5.99738541e-05   7.51580194e-02   1.10531602e-01   4.51498653e-01\n",
      "   -4.51758411e-01  -4.58812258e-01  -4.18649460e-01   1.16560037e-02\n",
      "    3.69892231e-03   2.57342650e-01  -2.89271722e-02   4.30659579e-01\n",
      "    2.63890506e-01   2.65315220e-01   2.10885317e-01   1.22751116e-02\n",
      "    1.24486172e-03   1.05218424e-01   7.82855522e-03  -4.36562120e-02\n",
      "   -4.61813580e-02   2.22502654e-01   3.67075200e-01   1.91112814e-02]\n",
      " [  0.00000000e+00   1.00155545e-01  -8.39543283e-01   1.60447685e-01\n",
      "    5.04845289e-01  -1.26924513e-01  -1.31085629e-01   1.29644415e-01\n",
      "   -1.10992739e-02  -3.56722290e-02   3.42357851e-01   4.96431042e-02\n",
      "    2.68346231e-02   6.49243692e-01   6.98296558e-01  -3.69790715e-01\n",
      "   -1.30638263e-04   1.49377550e-01  -7.39115168e-01  -3.50648547e-01\n",
      "    2.02124163e-01  -4.35215274e-01   3.61406375e-01  -7.13738816e-04\n",
      "   -1.66404168e-07  -3.91058752e-01  -5.85987300e-01   1.61569493e-01\n",
      "    8.07445662e-02  -7.19595524e-01  -1.98690341e+00  -6.44584753e-07\n",
      "    0.00000000e+00  -3.27051047e-01  -3.23431445e-01  -1.58618741e-01\n",
      "   -1.46186521e-01   4.22405991e-02   1.84696798e-01   0.00000000e+00\n",
      "   -1.97220476e-06  -4.98957886e-02  -2.34314880e-01  -1.06931419e+00\n",
      "    3.75015583e-01   2.15129172e-01   3.82146352e-01  -9.71209553e-04\n",
      "   -2.54764834e-06  -1.32475459e-01  -5.58340390e-02  -2.51356538e-01\n",
      "   -4.43551563e-02   3.82333222e-01   6.99772106e-01  -8.56535215e-01\n",
      "   -3.45998840e-07   4.86033707e-01   3.45717285e-01  -4.52758266e-01\n",
      "    1.18074952e-01  -3.03453161e-01   1.78393101e-02  -1.10929418e+00]\n",
      " [  0.00000000e+00  -2.04116415e-02  -2.98279881e-01  -5.56785931e-01\n",
      "   -2.43071244e-01  -3.92644820e-01  -4.63926799e-01   1.16047222e-01\n",
      "   -3.18073782e-05   2.07364717e-02  -2.70772810e-02  -2.97876811e-01\n",
      "   -4.53615073e-01  -2.81735974e-01  -2.99150133e-01   1.38647088e-01\n",
      "   -6.41692851e-04  -1.93025246e-02   3.91605346e-01   6.06994701e-02\n",
      "    4.88912230e-02   2.54265694e-01   2.01971482e-02   8.72347844e-02\n",
      "   -3.18721584e-04  -9.80090680e-02   3.60582347e-01   1.04792147e-01\n",
      "   -2.09546521e-01  -4.23344764e-03   5.26815972e-01   3.00710710e-03\n",
      "    0.00000000e+00   1.71019642e-01   2.07723943e-02   9.82892617e-02\n",
      "    3.29015657e-01   9.89238202e-02   4.01917649e-01   0.00000000e+00\n",
      "    1.22640431e-03   5.86317617e-01  -1.04109419e-01   3.45529873e-01\n",
      "    1.11226112e-01   1.65817725e-01   3.78889534e-02  -1.29663431e-03\n",
      "    2.19561257e-03   3.59905863e-01  -1.52680291e-01   7.40743358e-02\n",
      "    1.22842335e-01  -3.79148091e-01  -5.00722945e-01  -4.56813374e-03\n",
      "   -3.64926491e-05  -1.03225304e-01  -2.05643110e-01  -3.62565368e-01\n",
      "   -2.96715805e-01  -1.99620807e-01  -1.05216484e-01  -2.55464225e-03]\n",
      " [  0.00000000e+00   8.91427353e-03   7.33303509e-01  -4.45255526e-01\n",
      "   -2.48133037e-02   3.68093900e-01   6.46177399e-01  -1.57326469e-01\n",
      "    3.78389212e-03  -4.65979768e-03   7.95749567e-02   9.01543984e-03\n",
      "    7.42419085e-02  -1.54926314e-01  -3.74883720e-01  -8.62198624e-02\n",
      "   -2.77073619e-02  -2.78468439e-01   4.19841350e-01   2.19427759e-01\n",
      "   -6.06523355e-01  -6.83367613e-01  -1.05607170e+00  -9.93409065e-03\n",
      "   -1.38513129e-02   4.77609116e-02   3.92739563e-01  -1.57239022e-01\n",
      "    3.28501945e-01  -1.30520300e-01  -1.17674110e+00  -6.11930571e-06\n",
      "    0.00000000e+00  -2.99350690e-01   1.16748265e-01  -2.64011335e-01\n",
      "   -3.76107151e-01  -1.78058583e-01   4.33207061e-01   0.00000000e+00\n",
      "   -1.19744396e-06  -3.09633701e-01  -3.68730744e-01  -3.43328630e-01\n",
      "   -2.12288620e-01   1.79723361e-01  -3.02046703e-02  -8.73709634e-04\n",
      "    9.35231410e-06   8.26530838e-02  -3.68848926e-01   1.49814498e-01\n",
      "   -6.73453761e-02  -1.24565419e-01  -6.18316149e-01  -1.75216924e-02\n",
      "    1.36886389e-06  -1.41447407e-01   2.29129712e-01   2.86192359e-01\n",
      "    9.61801909e-03  -1.99700958e-02  -5.66433737e-01  -9.41372578e-02]\n",
      " [  0.00000000e+00  -3.73477442e-02  -2.50790708e-01  -1.43158183e-01\n",
      "   -2.15724969e-01  -3.21636609e-01  -2.00120979e-01  -2.64216276e-04\n",
      "   -3.66135747e-05  -3.53037251e-01  -6.50944913e-02  -2.46450870e-01\n",
      "   -4.51405660e-01   1.46833179e-01   1.37999234e-01  -4.12114011e-04\n",
      "   -1.55962196e-02  -1.15471114e-01   8.53920885e-02   1.87737028e-01\n",
      "   -5.62469767e-01  -9.06411423e-01  -3.21082361e-01  -3.57797944e-04\n",
      "   -7.79436320e-03   4.19602348e-01  -2.25886784e-02   2.88238267e-01\n",
      "   -7.67403681e-02  -8.25855389e-02  -6.67922921e-01  -2.87170133e-05\n",
      "    0.00000000e+00   2.10041849e-01   1.47294889e-01   1.97781299e-01\n",
      "   -7.88962446e-02   1.52825041e-02  -5.21838423e-02   0.00000000e+00\n",
      "   -1.02455483e-03  -8.01447076e-01   6.74687476e-01  -1.61213204e-01\n",
      "    2.19036915e-01  -1.85589293e-01   5.01773335e-01   7.37952718e-02\n",
      "   -2.86386711e-04  -3.15282885e-01   3.42141916e-01   2.54043906e-01\n",
      "   -3.23751138e-01   3.56295453e-01   2.67037146e-02  -5.85047800e-01\n",
      "   -1.11103010e-06  -2.41668893e-02  -3.40462333e-01  -3.05645551e-01\n",
      "   -1.61576124e-01   1.15979478e-01  -1.96629207e-01  -2.32675744e-01]\n",
      " [  0.00000000e+00  -2.10658207e-01   2.43573956e-01   2.81688327e-01\n",
      "   -2.12679911e-01   4.28758684e-01   3.39224812e-01   1.90694153e-01\n",
      "   -2.46210414e-05   7.91550341e-02   1.41378232e-01  -1.28432281e-01\n",
      "    8.52317730e-01  -1.56272288e-01  -1.89330808e-01   2.71105475e-01\n",
      "   -1.49962368e-05  -2.41044500e-01  -3.90369873e-01  -4.23223044e-01\n",
      "   -2.75164454e-01   3.57124071e-01   1.32827540e-01   3.32815278e-02\n",
      "   -3.50869624e-06  -5.43276349e-01  -4.41173441e-02  -4.43752961e-01\n",
      "   -6.47752053e-02   8.60717395e-03   2.11838428e-01  -5.05433398e-03\n",
      "    0.00000000e+00   5.06333180e-01  -1.59104529e-01   9.30092596e-02\n",
      "    8.87154514e-02   5.75028562e-02   3.20257459e-01   0.00000000e+00\n",
      "   -1.89197314e-04  -4.17225899e-01   6.80305315e-02  -2.34968053e-02\n",
      "    1.89120615e-01   2.65143568e-01  -2.27029729e-02  -7.48171038e-05\n",
      "   -5.73262758e-05  -2.17749491e-01   1.37982632e-01   1.25435446e-01\n",
      "   -6.52443548e-01  -1.08390164e+00  -2.36014094e-01  -1.00057700e-03\n",
      "   -1.40858171e-05  -4.18994757e-01  -3.01276371e-01  -3.12427048e-01\n",
      "   -7.17950834e-02  -7.83793444e-01  -2.48229121e-01  -1.51528883e-02]\n",
      " [  0.00000000e+00  -1.79358242e-01   1.99273168e-01  -1.72664409e-01\n",
      "   -3.42423637e-02   2.48612798e-02  -5.86852906e-01  -6.85671996e-02\n",
      "    1.25090398e+00  -2.66766215e-02   1.40768698e-01  -8.18261204e-03\n",
      "   -1.55250600e-01   1.17397352e-01   1.58709278e-01  -2.00902708e-01\n",
      "   -3.35910147e-01   1.33460076e-01   1.60680856e-01   7.14341350e-02\n",
      "   -3.83670412e-03   1.22708825e-01   1.66900412e-01  -1.20280126e-01\n",
      "   -4.79022512e-01  -1.28007769e-01  -5.16770814e-02   1.59920883e-01\n",
      "   -1.03424127e-01   7.59204318e-03  -1.60561426e-01  -2.51205644e-03\n",
      "    0.00000000e+00  -4.06947810e-01  -9.27404141e-02   2.67172436e-01\n",
      "    6.77209253e-03  -7.91194536e-02  -9.34343306e-01   0.00000000e+00\n",
      "   -5.95261747e-04   1.79176787e-01   1.21652108e-01   2.45291047e-02\n",
      "    8.45451058e-03   5.43475699e-02   9.99523572e-03  -1.36127444e-01\n",
      "   -4.61680704e-02  -6.08488874e-02   1.71687396e-01  -2.31701248e-01\n",
      "   -1.74763527e-01   7.38181011e-02   1.90457099e-02  -3.97526114e-02\n",
      "   -1.53497713e-02  -2.45877190e-02  -5.07807339e-01  -4.14743434e-02\n",
      "    5.38597500e-02  -1.95782098e-01  -1.83180645e-01  -9.91218264e-02]\n",
      " [  0.00000000e+00  -9.70298329e-01   1.56337849e-01   1.33979388e-01\n",
      "    1.15101109e-01  -2.93697392e-01  -1.83636211e-01  -1.88115658e-01\n",
      "   -4.49826163e-03   1.16287278e-01  -1.20848885e-03   2.46607620e-01\n",
      "   -1.16782118e-01  -1.42521938e-01   4.04016579e-01  -4.55880937e-01\n",
      "   -9.56097265e-02   2.35764081e-01   3.34948682e-01   1.36063517e-01\n",
      "    1.63228631e-01   6.96317334e-01  -1.39508209e-01  -4.57561695e-01\n",
      "   -4.63952752e-02  -2.60352456e-01   1.86800907e-01   3.49837549e-01\n",
      "   -2.57459371e-01   2.45224777e-01  -3.13224815e-02  -4.22946065e-02\n",
      "    0.00000000e+00  -6.31193186e-01  -3.22368745e-01   5.70493011e-01\n",
      "   -2.53656787e-01  -3.26841683e-02   1.81079075e-01   0.00000000e+00\n",
      "   -1.70901712e-06  -1.36075012e-01  -6.91064084e-01  -1.38237446e+00\n",
      "   -5.26692824e-01  -3.19400630e-01  -5.24283130e-01   3.08782392e-05\n",
      "   -2.04823523e-06   1.68940504e-02  -2.87930767e-02  -2.03527776e-02\n",
      "   -3.20545631e-01  -2.93471502e-01  -1.17186702e-01   7.95796644e-01\n",
      "   -2.25939668e-07  -6.20398953e-01  -2.18571042e-01  -7.22444712e-02\n",
      "   -2.19294974e-02  -9.61207979e-02  -6.85181613e-02  -3.77440516e-01]]\n",
      "Logistic Model Intercept:  [-0.01943198 -2.24414524 -0.0359581  -0.33811924  0.01443993 -0.10700609\n",
      " -0.07197064 -0.02320032 -2.6808876  -1.08720675]\n"
     ]
    }
   ],
   "source": [
    "# Output the equation coefficient and intercept\n",
    "print 'Logistic Model Coefficient: ', logistic_dig.coef_\n",
    "print 'Logistic Model Intercept: ', logistic_dig.intercept_"
   ]
  },
  {
   "cell_type": "code",
   "execution_count": 60,
   "metadata": {
    "collapsed": false
   },
   "outputs": [
    {
     "data": {
      "text/plain": [
       "array([ 8.,  6.,  1.,  7.,  4.,  1.,  4.,  7.,  0.,  1.,  5.,  6.,  2.,\n",
       "        7.,  8.,  4.,  8.,  0.,  9.,  0.,  5.,  2.,  2.,  4.,  1.,  8.,\n",
       "        8.,  7.,  2.,  9.,  7.,  0.,  0.,  6.,  0.,  5.,  0.,  5.,  1.,\n",
       "        0.,  1.,  6.,  6.,  0.,  3.,  4.,  0.,  3.,  5.,  6.,  9.,  8.,\n",
       "        4.,  8.,  5.,  2.,  7.,  5.,  5.,  1.,  1.,  8.,  9.,  0.,  3.,\n",
       "        4.,  9.,  2.,  9.,  7.,  1.,  7.,  5.,  4.,  9.,  5.,  7.,  7.,\n",
       "        7.,  0.,  1.,  9.,  1.,  9.,  7.,  1.,  3.,  9.,  4.,  9.,  2.,\n",
       "        5.,  3.,  5.,  6.,  2.,  3.,  0.,  7.,  5.,  2.,  3.,  2.,  6.,\n",
       "        1.,  7.,  0.,  2.,  9.,  4.,  2.,  0.,  7.,  4.,  4.,  9.,  0.,\n",
       "        4.,  9.,  6.,  8.,  2.,  6.,  4.,  4.,  9.,  1.,  2.,  4.,  7.,\n",
       "        8.,  1.,  2.,  2.,  5.,  9.,  5.,  4.,  3.,  1.,  4.,  7.,  1.,\n",
       "        5.,  3.,  8.,  6.,  5.,  5.,  2.,  1.,  0.,  9.,  1.,  6.,  9.,\n",
       "        3.,  7.,  1.,  5.,  6.,  3.,  6.,  5.,  2.,  9.,  6.,  3.,  4.,\n",
       "        1.,  8.,  4.,  8.,  4.,  5.,  3.,  3.,  7.,  7.,  8.])"
      ]
     },
     "execution_count": 60,
     "metadata": {},
     "output_type": "execute_result"
    }
   ],
   "source": [
    "# Predict the class of test set\n",
    "y_dig_predict = logistic_dig.predict(X_dig_test)\n",
    "y_dig_predict"
   ]
  },
  {
   "cell_type": "code",
   "execution_count": 61,
   "metadata": {
    "collapsed": false
   },
   "outputs": [
    {
     "data": {
      "text/plain": [
       "array([ 8.,  6.,  1.,  7.,  4.,  1.,  4.,  7.,  0.,  1.,  5.,  6.,  2.,\n",
       "        7.,  8.,  4.,  9.,  0.,  9.,  0.,  5.,  2.,  2.,  4.,  1.,  8.,\n",
       "        8.,  7.,  2.,  9.,  7.,  0.,  0.,  6.,  0.,  5.,  0.,  5.,  1.,\n",
       "        0.,  8.,  6.,  6.,  0.,  3.,  4.,  0.,  3.,  5.,  6.,  9.,  8.,\n",
       "        4.,  8.,  5.,  2.,  7.,  5.,  5.,  1.,  1.,  8.,  9.,  0.,  3.,\n",
       "        4.,  9.,  2.,  9.,  3.,  1.,  7.,  5.,  4.,  9.,  5.,  7.,  7.,\n",
       "        7.,  0.,  1.,  9.,  1.,  9.,  7.,  1.,  3.,  9.,  4.,  9.,  2.,\n",
       "        5.,  3.,  5.,  6.,  2.,  3.,  0.,  7.,  3.,  2.,  5.,  2.,  6.,\n",
       "        1.,  7.,  0.,  2.,  9.,  4.,  2.,  0.,  7.,  4.,  4.,  9.,  0.,\n",
       "        4.,  9.,  6.,  8.,  2.,  6.,  4.,  4.,  9.,  1.,  2.,  4.,  7.,\n",
       "        8.,  8.,  2.,  2.,  5.,  9.,  5.,  4.,  3.,  1.,  4.,  7.,  1.,\n",
       "        5.,  3.,  8.,  6.,  5.,  5.,  2.,  1.,  0.,  9.,  1.,  6.,  9.,\n",
       "        3.,  7.,  4.,  5.,  6.,  3.,  6.,  5.,  2.,  7.,  6.,  3.,  4.,\n",
       "        1.,  1.,  4.,  8.,  4.,  5.,  3.,  3.,  7.,  7.,  8.])"
      ]
     },
     "execution_count": 61,
     "metadata": {},
     "output_type": "execute_result"
    }
   ],
   "source": [
    "# The *actual* class of test set\n",
    "y_dig_test"
   ]
  },
  {
   "cell_type": "code",
   "execution_count": 62,
   "metadata": {
    "collapsed": false
   },
   "outputs": [
    {
     "data": {
      "text/html": [
       "<div>\n",
       "<table border=\"1\" class=\"dataframe\">\n",
       "  <thead>\n",
       "    <tr style=\"text-align: right;\">\n",
       "      <th>Predicted label</th>\n",
       "      <th>0</th>\n",
       "      <th>1</th>\n",
       "      <th>2</th>\n",
       "      <th>3</th>\n",
       "      <th>4</th>\n",
       "      <th>5</th>\n",
       "      <th>6</th>\n",
       "      <th>7</th>\n",
       "      <th>8</th>\n",
       "      <th>9</th>\n",
       "    </tr>\n",
       "    <tr>\n",
       "      <th>Actual label</th>\n",
       "      <th></th>\n",
       "      <th></th>\n",
       "      <th></th>\n",
       "      <th></th>\n",
       "      <th></th>\n",
       "      <th></th>\n",
       "      <th></th>\n",
       "      <th></th>\n",
       "      <th></th>\n",
       "      <th></th>\n",
       "    </tr>\n",
       "  </thead>\n",
       "  <tbody>\n",
       "    <tr>\n",
       "      <th>0</th>\n",
       "      <td>17</td>\n",
       "      <td>0</td>\n",
       "      <td>0</td>\n",
       "      <td>0</td>\n",
       "      <td>0</td>\n",
       "      <td>0</td>\n",
       "      <td>0</td>\n",
       "      <td>0</td>\n",
       "      <td>0</td>\n",
       "      <td>0</td>\n",
       "    </tr>\n",
       "    <tr>\n",
       "      <th>1</th>\n",
       "      <td>0</td>\n",
       "      <td>18</td>\n",
       "      <td>0</td>\n",
       "      <td>0</td>\n",
       "      <td>0</td>\n",
       "      <td>0</td>\n",
       "      <td>0</td>\n",
       "      <td>0</td>\n",
       "      <td>1</td>\n",
       "      <td>0</td>\n",
       "    </tr>\n",
       "    <tr>\n",
       "      <th>2</th>\n",
       "      <td>0</td>\n",
       "      <td>0</td>\n",
       "      <td>18</td>\n",
       "      <td>0</td>\n",
       "      <td>0</td>\n",
       "      <td>0</td>\n",
       "      <td>0</td>\n",
       "      <td>0</td>\n",
       "      <td>0</td>\n",
       "      <td>0</td>\n",
       "    </tr>\n",
       "    <tr>\n",
       "      <th>3</th>\n",
       "      <td>0</td>\n",
       "      <td>0</td>\n",
       "      <td>0</td>\n",
       "      <td>13</td>\n",
       "      <td>0</td>\n",
       "      <td>1</td>\n",
       "      <td>0</td>\n",
       "      <td>1</td>\n",
       "      <td>0</td>\n",
       "      <td>0</td>\n",
       "    </tr>\n",
       "    <tr>\n",
       "      <th>4</th>\n",
       "      <td>0</td>\n",
       "      <td>1</td>\n",
       "      <td>0</td>\n",
       "      <td>0</td>\n",
       "      <td>21</td>\n",
       "      <td>0</td>\n",
       "      <td>0</td>\n",
       "      <td>0</td>\n",
       "      <td>0</td>\n",
       "      <td>0</td>\n",
       "    </tr>\n",
       "    <tr>\n",
       "      <th>5</th>\n",
       "      <td>0</td>\n",
       "      <td>0</td>\n",
       "      <td>0</td>\n",
       "      <td>1</td>\n",
       "      <td>0</td>\n",
       "      <td>20</td>\n",
       "      <td>0</td>\n",
       "      <td>0</td>\n",
       "      <td>0</td>\n",
       "      <td>0</td>\n",
       "    </tr>\n",
       "    <tr>\n",
       "      <th>6</th>\n",
       "      <td>0</td>\n",
       "      <td>0</td>\n",
       "      <td>0</td>\n",
       "      <td>0</td>\n",
       "      <td>0</td>\n",
       "      <td>0</td>\n",
       "      <td>15</td>\n",
       "      <td>0</td>\n",
       "      <td>0</td>\n",
       "      <td>0</td>\n",
       "    </tr>\n",
       "    <tr>\n",
       "      <th>7</th>\n",
       "      <td>0</td>\n",
       "      <td>0</td>\n",
       "      <td>0</td>\n",
       "      <td>0</td>\n",
       "      <td>0</td>\n",
       "      <td>0</td>\n",
       "      <td>0</td>\n",
       "      <td>19</td>\n",
       "      <td>0</td>\n",
       "      <td>1</td>\n",
       "    </tr>\n",
       "    <tr>\n",
       "      <th>8</th>\n",
       "      <td>0</td>\n",
       "      <td>2</td>\n",
       "      <td>0</td>\n",
       "      <td>0</td>\n",
       "      <td>0</td>\n",
       "      <td>0</td>\n",
       "      <td>0</td>\n",
       "      <td>0</td>\n",
       "      <td>12</td>\n",
       "      <td>0</td>\n",
       "    </tr>\n",
       "    <tr>\n",
       "      <th>9</th>\n",
       "      <td>0</td>\n",
       "      <td>0</td>\n",
       "      <td>0</td>\n",
       "      <td>0</td>\n",
       "      <td>0</td>\n",
       "      <td>0</td>\n",
       "      <td>0</td>\n",
       "      <td>0</td>\n",
       "      <td>1</td>\n",
       "      <td>18</td>\n",
       "    </tr>\n",
       "  </tbody>\n",
       "</table>\n",
       "</div>"
      ],
      "text/plain": [
       "Predicted label   0   1   2   3   4   5   6   7   8   9\n",
       "Actual label                                           \n",
       "0                17   0   0   0   0   0   0   0   0   0\n",
       "1                 0  18   0   0   0   0   0   0   1   0\n",
       "2                 0   0  18   0   0   0   0   0   0   0\n",
       "3                 0   0   0  13   0   1   0   1   0   0\n",
       "4                 0   1   0   0  21   0   0   0   0   0\n",
       "5                 0   0   0   1   0  20   0   0   0   0\n",
       "6                 0   0   0   0   0   0  15   0   0   0\n",
       "7                 0   0   0   0   0   0   0  19   0   1\n",
       "8                 0   2   0   0   0   0   0   0  12   0\n",
       "9                 0   0   0   0   0   0   0   0   1  18"
      ]
     },
     "execution_count": 62,
     "metadata": {},
     "output_type": "execute_result"
    }
   ],
   "source": [
    "# Create the confusion matrix\n",
    "conf_dig = conf_matrix(y_dig_test, y_dig_predict)\n",
    "\n",
    "# Output the confusion matrix\n",
    "conf_dig"
   ]
  },
  {
   "cell_type": "code",
   "execution_count": 63,
   "metadata": {
    "collapsed": false
   },
   "outputs": [
    {
     "name": "stdout",
     "output_type": "stream",
     "text": [
      "Logistic Model Error Rate: 0.05\n"
     ]
    }
   ],
   "source": [
    "# When we were wrong, how wrong were we?\n",
    "# Error rate is the mean of how wrong our incorrect predictions were\n",
    "err_rate_dig_lr = (y_dig_predict != y_dig_test).mean()\n",
    "print('Logistic Model Error Rate: %.2f' % err_rate_dig_lr)"
   ]
  },
  {
   "cell_type": "markdown",
   "metadata": {},
   "source": [
    "## Decision Tree\n",
    "\n",
    "The next classifier we will look at is the [Decision Tree](https://en.wikipedia.org/wiki/Decision_tree)."
   ]
  },
  {
   "cell_type": "markdown",
   "metadata": {},
   "source": [
    "### The Iris Dataset"
   ]
  },
  {
   "cell_type": "code",
   "execution_count": 51,
   "metadata": {
    "collapsed": false
   },
   "outputs": [
    {
     "data": {
      "text/plain": [
       "1.0"
      ]
     },
     "execution_count": 51,
     "metadata": {},
     "output_type": "execute_result"
    }
   ],
   "source": [
    "# Import logistic regression library\n",
    "from sklearn import tree\n",
    "\n",
    "# Create the logistic regression model object using information gain\n",
    "decision = tree.DecisionTreeClassifier(criterion='entropy')\n",
    "\n",
    "# Train the model\n",
    "decision.fit(X_train, y_train)\n",
    "\n",
    "# Check the score\n",
    "decision.score(X_train, y_train)"
   ]
  },
  {
   "cell_type": "code",
   "execution_count": 177,
   "metadata": {
    "collapsed": false
   },
   "outputs": [
    {
     "data": {
      "text/plain": [
       "array([ 1.,  2.,  2.,  0.,  1.,  1.,  2.,  1.,  0.,  0.,  0.,  2.,  1.,\n",
       "        2.,  0.])"
      ]
     },
     "execution_count": 177,
     "metadata": {},
     "output_type": "execute_result"
    }
   ],
   "source": [
    "# Predict the class of test set\n",
    "y_predict = decision.predict(X_test)\n",
    "y_predict"
   ]
  },
  {
   "cell_type": "code",
   "execution_count": 92,
   "metadata": {
    "collapsed": false
   },
   "outputs": [
    {
     "data": {
      "text/plain": [
       "array([ 1.,  2.,  2.,  0.,  1.,  1.,  1.,  1.,  0.,  0.,  0.,  2.,  1.,\n",
       "        2.,  0.])"
      ]
     },
     "execution_count": 92,
     "metadata": {},
     "output_type": "execute_result"
    }
   ],
   "source": [
    "# The *actual* class of test set\n",
    "y_test"
   ]
  },
  {
   "cell_type": "code",
   "execution_count": 161,
   "metadata": {
    "collapsed": false
   },
   "outputs": [
    {
     "data": {
      "text/html": [
       "<div>\n",
       "<table border=\"1\" class=\"dataframe\">\n",
       "  <thead>\n",
       "    <tr style=\"text-align: right;\">\n",
       "      <th>Predicted label</th>\n",
       "      <th>0</th>\n",
       "      <th>1</th>\n",
       "      <th>2</th>\n",
       "    </tr>\n",
       "    <tr>\n",
       "      <th>Actual label</th>\n",
       "      <th></th>\n",
       "      <th></th>\n",
       "      <th></th>\n",
       "    </tr>\n",
       "  </thead>\n",
       "  <tbody>\n",
       "    <tr>\n",
       "      <th>0</th>\n",
       "      <td>5</td>\n",
       "      <td>0</td>\n",
       "      <td>0</td>\n",
       "    </tr>\n",
       "    <tr>\n",
       "      <th>1</th>\n",
       "      <td>0</td>\n",
       "      <td>5</td>\n",
       "      <td>1</td>\n",
       "    </tr>\n",
       "    <tr>\n",
       "      <th>2</th>\n",
       "      <td>0</td>\n",
       "      <td>0</td>\n",
       "      <td>4</td>\n",
       "    </tr>\n",
       "  </tbody>\n",
       "</table>\n",
       "</div>"
      ],
      "text/plain": [
       "Predicted label  0  1  2\n",
       "Actual label            \n",
       "0                5  0  0\n",
       "1                0  5  1\n",
       "2                0  0  4"
      ]
     },
     "execution_count": 161,
     "metadata": {},
     "output_type": "execute_result"
    }
   ],
   "source": [
    "# Create the confusion matrix\n",
    "conf = conf_matrix(y_test, y_predict)\n",
    "\n",
    "# Output the confusion matrix\n",
    "conf"
   ]
  },
  {
   "cell_type": "code",
   "execution_count": 95,
   "metadata": {
    "collapsed": false
   },
   "outputs": [
    {
     "name": "stdout",
     "output_type": "stream",
     "text": [
      "Decision Tree Model Error Rate: 0.07\n"
     ]
    }
   ],
   "source": [
    "# When we were wrong, how wrong were we?\n",
    "# Error rate is the mean of how wrong our incorrect predictions were\n",
    "err_rate = (y_predict != y_test).mean()\n",
    "print('Decision Tree Model Error Rate: %.2f' % err_rate)"
   ]
  },
  {
   "cell_type": "markdown",
   "metadata": {},
   "source": [
    "### The Digits Dataset"
   ]
  },
  {
   "cell_type": "code",
   "execution_count": 52,
   "metadata": {
    "collapsed": false
   },
   "outputs": [
    {
     "data": {
      "text/plain": [
       "1.0"
      ]
     },
     "execution_count": 52,
     "metadata": {},
     "output_type": "execute_result"
    }
   ],
   "source": [
    "# Create the logistic regression model object using information gain\n",
    "decision_dig = tree.DecisionTreeClassifier(criterion='entropy')\n",
    "\n",
    "# Train the model\n",
    "decision_dig.fit(X_dig_train, y_dig_train)\n",
    "\n",
    "# Check the score\n",
    "decision_dig.score(X_dig_train, y_dig_train)"
   ]
  },
  {
   "cell_type": "code",
   "execution_count": 53,
   "metadata": {
    "collapsed": false
   },
   "outputs": [
    {
     "data": {
      "text/plain": [
       "array([ 8.,  6.,  1.,  7.,  4.,  1.,  4.,  7.,  0.,  1.,  5.,  6.,  2.,\n",
       "        7.,  8.,  4.,  9.,  0.,  9.,  0.,  5.,  2.,  2.,  4.,  1.,  4.,\n",
       "        8.,  7.,  2.,  9.,  7.,  0.,  0.,  6.,  0.,  5.,  0.,  5.,  1.,\n",
       "        0.,  8.,  6.,  6.,  0.,  3.,  4.,  0.,  3.,  5.,  6.,  9.,  8.,\n",
       "        4.,  8.,  5.,  2.,  7.,  5.,  5.,  1.,  1.,  8.,  9.,  0.,  3.,\n",
       "        6.,  9.,  2.,  9.,  7.,  1.,  7.,  5.,  4.,  1.,  5.,  0.,  7.,\n",
       "        7.,  0.,  1.,  9.,  1.,  2.,  7.,  1.,  2.,  9.,  4.,  9.,  2.,\n",
       "        9.,  3.,  5.,  6.,  2.,  3.,  0.,  4.,  5.,  2.,  5.,  2.,  6.,\n",
       "        1.,  7.,  0.,  2.,  9.,  4.,  2.,  0.,  7.,  4.,  4.,  9.,  0.,\n",
       "        4.,  9.,  6.,  8.,  2.,  6.,  4.,  8.,  9.,  1.,  1.,  4.,  7.,\n",
       "        8.,  8.,  2.,  2.,  5.,  9.,  5.,  4.,  1.,  1.,  4.,  7.,  1.,\n",
       "        5.,  3.,  3.,  6.,  8.,  5.,  8.,  1.,  0.,  9.,  1.,  6.,  9.,\n",
       "        3.,  7.,  7.,  5.,  6.,  3.,  6.,  5.,  2.,  7.,  6.,  1.,  4.,\n",
       "        8.,  1.,  0.,  8.,  4.,  5.,  3.,  3.,  7.,  7.,  8.])"
      ]
     },
     "execution_count": 53,
     "metadata": {},
     "output_type": "execute_result"
    }
   ],
   "source": [
    "# Predict the class of test set\n",
    "y_dig_predict = decision_dig.predict(X_dig_test)\n",
    "y_dig_predict"
   ]
  },
  {
   "cell_type": "code",
   "execution_count": 54,
   "metadata": {
    "collapsed": false
   },
   "outputs": [
    {
     "data": {
      "text/plain": [
       "array([ 8.,  6.,  1.,  7.,  4.,  1.,  4.,  7.,  0.,  1.,  5.,  6.,  2.,\n",
       "        7.,  8.,  4.,  9.,  0.,  9.,  0.,  5.,  2.,  2.,  4.,  1.,  8.,\n",
       "        8.,  7.,  2.,  9.,  7.,  0.,  0.,  6.,  0.,  5.,  0.,  5.,  1.,\n",
       "        0.,  8.,  6.,  6.,  0.,  3.,  4.,  0.,  3.,  5.,  6.,  9.,  8.,\n",
       "        4.,  8.,  5.,  2.,  7.,  5.,  5.,  1.,  1.,  8.,  9.,  0.,  3.,\n",
       "        4.,  9.,  2.,  9.,  3.,  1.,  7.,  5.,  4.,  9.,  5.,  7.,  7.,\n",
       "        7.,  0.,  1.,  9.,  1.,  9.,  7.,  1.,  3.,  9.,  4.,  9.,  2.,\n",
       "        5.,  3.,  5.,  6.,  2.,  3.,  0.,  7.,  3.,  2.,  5.,  2.,  6.,\n",
       "        1.,  7.,  0.,  2.,  9.,  4.,  2.,  0.,  7.,  4.,  4.,  9.,  0.,\n",
       "        4.,  9.,  6.,  8.,  2.,  6.,  4.,  4.,  9.,  1.,  2.,  4.,  7.,\n",
       "        8.,  8.,  2.,  2.,  5.,  9.,  5.,  4.,  3.,  1.,  4.,  7.,  1.,\n",
       "        5.,  3.,  8.,  6.,  5.,  5.,  2.,  1.,  0.,  9.,  1.,  6.,  9.,\n",
       "        3.,  7.,  4.,  5.,  6.,  3.,  6.,  5.,  2.,  7.,  6.,  3.,  4.,\n",
       "        1.,  1.,  4.,  8.,  4.,  5.,  3.,  3.,  7.,  7.,  8.])"
      ]
     },
     "execution_count": 54,
     "metadata": {},
     "output_type": "execute_result"
    }
   ],
   "source": [
    "# The *actual* class of test set\n",
    "y_dig_test"
   ]
  },
  {
   "cell_type": "code",
   "execution_count": 55,
   "metadata": {
    "collapsed": false
   },
   "outputs": [
    {
     "data": {
      "text/html": [
       "<div>\n",
       "<table border=\"1\" class=\"dataframe\">\n",
       "  <thead>\n",
       "    <tr style=\"text-align: right;\">\n",
       "      <th>Predicted label</th>\n",
       "      <th>0</th>\n",
       "      <th>1</th>\n",
       "      <th>2</th>\n",
       "      <th>3</th>\n",
       "      <th>4</th>\n",
       "      <th>5</th>\n",
       "      <th>6</th>\n",
       "      <th>7</th>\n",
       "      <th>8</th>\n",
       "      <th>9</th>\n",
       "    </tr>\n",
       "    <tr>\n",
       "      <th>Actual label</th>\n",
       "      <th></th>\n",
       "      <th></th>\n",
       "      <th></th>\n",
       "      <th></th>\n",
       "      <th></th>\n",
       "      <th></th>\n",
       "      <th></th>\n",
       "      <th></th>\n",
       "      <th></th>\n",
       "      <th></th>\n",
       "    </tr>\n",
       "  </thead>\n",
       "  <tbody>\n",
       "    <tr>\n",
       "      <th>0</th>\n",
       "      <td>17</td>\n",
       "      <td>0</td>\n",
       "      <td>0</td>\n",
       "      <td>0</td>\n",
       "      <td>0</td>\n",
       "      <td>0</td>\n",
       "      <td>0</td>\n",
       "      <td>0</td>\n",
       "      <td>0</td>\n",
       "      <td>0</td>\n",
       "    </tr>\n",
       "    <tr>\n",
       "      <th>1</th>\n",
       "      <td>0</td>\n",
       "      <td>18</td>\n",
       "      <td>0</td>\n",
       "      <td>0</td>\n",
       "      <td>0</td>\n",
       "      <td>0</td>\n",
       "      <td>0</td>\n",
       "      <td>0</td>\n",
       "      <td>1</td>\n",
       "      <td>0</td>\n",
       "    </tr>\n",
       "    <tr>\n",
       "      <th>2</th>\n",
       "      <td>0</td>\n",
       "      <td>1</td>\n",
       "      <td>16</td>\n",
       "      <td>0</td>\n",
       "      <td>0</td>\n",
       "      <td>0</td>\n",
       "      <td>0</td>\n",
       "      <td>0</td>\n",
       "      <td>1</td>\n",
       "      <td>0</td>\n",
       "    </tr>\n",
       "    <tr>\n",
       "      <th>3</th>\n",
       "      <td>0</td>\n",
       "      <td>2</td>\n",
       "      <td>1</td>\n",
       "      <td>10</td>\n",
       "      <td>0</td>\n",
       "      <td>1</td>\n",
       "      <td>0</td>\n",
       "      <td>1</td>\n",
       "      <td>0</td>\n",
       "      <td>0</td>\n",
       "    </tr>\n",
       "    <tr>\n",
       "      <th>4</th>\n",
       "      <td>1</td>\n",
       "      <td>0</td>\n",
       "      <td>0</td>\n",
       "      <td>0</td>\n",
       "      <td>18</td>\n",
       "      <td>0</td>\n",
       "      <td>1</td>\n",
       "      <td>1</td>\n",
       "      <td>1</td>\n",
       "      <td>0</td>\n",
       "    </tr>\n",
       "    <tr>\n",
       "      <th>5</th>\n",
       "      <td>0</td>\n",
       "      <td>0</td>\n",
       "      <td>0</td>\n",
       "      <td>0</td>\n",
       "      <td>0</td>\n",
       "      <td>19</td>\n",
       "      <td>0</td>\n",
       "      <td>0</td>\n",
       "      <td>1</td>\n",
       "      <td>1</td>\n",
       "    </tr>\n",
       "    <tr>\n",
       "      <th>6</th>\n",
       "      <td>0</td>\n",
       "      <td>0</td>\n",
       "      <td>0</td>\n",
       "      <td>0</td>\n",
       "      <td>0</td>\n",
       "      <td>0</td>\n",
       "      <td>15</td>\n",
       "      <td>0</td>\n",
       "      <td>0</td>\n",
       "      <td>0</td>\n",
       "    </tr>\n",
       "    <tr>\n",
       "      <th>7</th>\n",
       "      <td>1</td>\n",
       "      <td>0</td>\n",
       "      <td>0</td>\n",
       "      <td>0</td>\n",
       "      <td>1</td>\n",
       "      <td>0</td>\n",
       "      <td>0</td>\n",
       "      <td>18</td>\n",
       "      <td>0</td>\n",
       "      <td>0</td>\n",
       "    </tr>\n",
       "    <tr>\n",
       "      <th>8</th>\n",
       "      <td>0</td>\n",
       "      <td>0</td>\n",
       "      <td>0</td>\n",
       "      <td>1</td>\n",
       "      <td>1</td>\n",
       "      <td>0</td>\n",
       "      <td>0</td>\n",
       "      <td>0</td>\n",
       "      <td>12</td>\n",
       "      <td>0</td>\n",
       "    </tr>\n",
       "    <tr>\n",
       "      <th>9</th>\n",
       "      <td>0</td>\n",
       "      <td>1</td>\n",
       "      <td>1</td>\n",
       "      <td>0</td>\n",
       "      <td>0</td>\n",
       "      <td>0</td>\n",
       "      <td>0</td>\n",
       "      <td>0</td>\n",
       "      <td>0</td>\n",
       "      <td>17</td>\n",
       "    </tr>\n",
       "  </tbody>\n",
       "</table>\n",
       "</div>"
      ],
      "text/plain": [
       "Predicted label   0   1   2   3   4   5   6   7   8   9\n",
       "Actual label                                           \n",
       "0                17   0   0   0   0   0   0   0   0   0\n",
       "1                 0  18   0   0   0   0   0   0   1   0\n",
       "2                 0   1  16   0   0   0   0   0   1   0\n",
       "3                 0   2   1  10   0   1   0   1   0   0\n",
       "4                 1   0   0   0  18   0   1   1   1   0\n",
       "5                 0   0   0   0   0  19   0   0   1   1\n",
       "6                 0   0   0   0   0   0  15   0   0   0\n",
       "7                 1   0   0   0   1   0   0  18   0   0\n",
       "8                 0   0   0   1   1   0   0   0  12   0\n",
       "9                 0   1   1   0   0   0   0   0   0  17"
      ]
     },
     "execution_count": 55,
     "metadata": {},
     "output_type": "execute_result"
    }
   ],
   "source": [
    "# Create the confusion matrix\n",
    "conf_dig = conf_matrix(y_dig_test, y_dig_predict)\n",
    "\n",
    "# Output the confusion matrix\n",
    "conf_dig"
   ]
  },
  {
   "cell_type": "code",
   "execution_count": 56,
   "metadata": {
    "collapsed": false
   },
   "outputs": [
    {
     "name": "stdout",
     "output_type": "stream",
     "text": [
      "Decision Tree Model Error Rate: 0.11\n"
     ]
    }
   ],
   "source": [
    "# When we were wrong, how wrong were we?\n",
    "# Error rate is the mean of how wrong our incorrect predictions were\n",
    "err_rate_dig_dt = (y_dig_predict != y_dig_test).mean()\n",
    "print('Decision Tree Model Error Rate: %.2f' % err_rate_dig_dt)"
   ]
  },
  {
   "cell_type": "markdown",
   "metadata": {},
   "source": [
    "## Support Vector Machine\n",
    "\n",
    "Using cross-validation."
   ]
  },
  {
   "cell_type": "code",
   "execution_count": 70,
   "metadata": {
    "collapsed": false
   },
   "outputs": [
    {
     "name": "stdout",
     "output_type": "stream",
     "text": [
      "SVM Cross-validation Scores: [ 1.          0.93333333  1.          1.          0.86666667  1.\n",
      "  0.93333333  1.          1.          1.        ]\n"
     ]
    }
   ],
   "source": [
    "# Import SVM library\n",
    "from sklearn import svm\n",
    "\n",
    "# Impot cross-validation functionality\n",
    "from sklearn import cross_validation\n",
    "\n",
    "# Build the (linear) SVM model object\n",
    "clf = svm.SVC(kernel='linear', C=1)\n",
    "\n",
    "# Evaluate using 10-fold cross-validation\n",
    "scores = cross_validation.cross_val_score(clf, iris.data, iris.target, cv=10)\n",
    "\n",
    "# Display the individual CV scores\n",
    "print 'SVM Cross-validation Scores:', scores"
   ]
  },
  {
   "cell_type": "code",
   "execution_count": 71,
   "metadata": {
    "collapsed": false
   },
   "outputs": [
    {
     "data": {
      "image/png": "[encoded data removed]",
      "text/plain": [
       "<matplotlib.figure.Figure at 0x7f2a64036410>"
      ]
     },
     "metadata": {},
     "output_type": "display_data"
    }
   ],
   "source": [
    "# Plot fold scores\n",
    "folds = range(1, 11)\n",
    "folds = np.array(folds)\n",
    "\n",
    "plt.xlabel('Fold')\n",
    "plt.ylabel('Score')\n",
    "plt.ylim([0.8,1.02])\n",
    "plt.xlim([1.0,10.0])\n",
    "\n",
    "plt.scatter(folds, scores, color='red')\n",
    "plt.plot(folds, scores, color='blue')\n",
    "plt.show()"
   ]
  },
  {
   "cell_type": "code",
   "execution_count": 66,
   "metadata": {
    "collapsed": false
   },
   "outputs": [
    {
     "name": "stdout",
     "output_type": "stream",
     "text": [
      "Mean SVM Cross-validation Score: 0.973333333333\n"
     ]
    }
   ],
   "source": [
    "# Mean CV evaluation score\n",
    "print 'Mean SVM Cross-validation Score:', scores.mean()"
   ]
  },
  {
   "cell_type": "markdown",
   "metadata": {
    "collapsed": true
   },
   "source": [
    "### Digits Dataset"
   ]
  },
  {
   "cell_type": "markdown",
   "metadata": {},
   "source": [
    "### Iris Dataset"
   ]
  },
  {
   "cell_type": "code",
   "execution_count": 68,
   "metadata": {
    "collapsed": false
   },
   "outputs": [
    {
     "name": "stdout",
     "output_type": "stream",
     "text": [
      "SVM Cross-validation Scores: [ 0.93513514  0.99453552  0.9281768   0.96111111  0.96089385  0.98882682\n",
      "  0.96648045  0.97752809  0.93220339  0.96590909]\n"
     ]
    }
   ],
   "source": [
    "# Build the (linear) SVM model object\n",
    "clf_dig = svm.SVC(kernel='linear', C=1)\n",
    "\n",
    "# Evaluate using 10-fold cross-validation\n",
    "scores_dig = cross_validation.cross_val_score(clf_dig, digits.data, digits.target, cv=10)\n",
    "\n",
    "# Display the individual CV scores\n",
    "print 'SVM Cross-validation Scores:', scores"
   ]
  },
  {
   "cell_type": "code",
   "execution_count": 72,
   "metadata": {
    "collapsed": false
   },
   "outputs": [
    {
     "data": {
      "image/png": "[encoded data removed]",
      "text/plain": [
       "<matplotlib.figure.Figure at 0x7f2a64066110>"
      ]
     },
     "metadata": {},
     "output_type": "display_data"
    }
   ],
   "source": [
    "# Plot fold scores\n",
    "folds_dig = range(1, 11)\n",
    "folds_dig = np.array(folds_dig)\n",
    "\n",
    "plt.xlabel('Fold')\n",
    "plt.ylabel('Score')\n",
    "plt.ylim([0.8,1.02])\n",
    "plt.xlim([1.0,10.0])\n",
    "\n",
    "plt.scatter(folds_dig, scores_dig, color='red')\n",
    "plt.plot(folds_dig, scores_dig, color='blue')\n",
    "plt.show()"
   ]
  },
  {
   "cell_type": "code",
   "execution_count": 69,
   "metadata": {
    "collapsed": false
   },
   "outputs": [
    {
     "name": "stdout",
     "output_type": "stream",
     "text": [
      "Mean SVM Cross-validation Score: 0.96108002489\n"
     ]
    }
   ],
   "source": [
    "# Mean CV evaluation score\n",
    "print 'Mean SVM Cross-validation Score:', scores_dig.mean()"
   ]
  },
  {
   "cell_type": "markdown",
   "metadata": {},
   "source": [
    "## Naive Bayes\n",
    "\n",
    "Next we look at the [Naive Bayes](https://en.wikipedia.org/wiki/Naive_Bayes_classifier) classifier."
   ]
  },
  {
   "cell_type": "markdown",
   "metadata": {},
   "source": [
    "### Iris Dataset"
   ]
  },
  {
   "cell_type": "code",
   "execution_count": 73,
   "metadata": {
    "collapsed": false
   },
   "outputs": [
    {
     "data": {
      "text/plain": [
       "0.96296296296296291"
      ]
     },
     "execution_count": 73,
     "metadata": {},
     "output_type": "execute_result"
    }
   ],
   "source": [
    "# Import Naive Bayes library\n",
    "from sklearn.naive_bayes import GaussianNB\n",
    "\n",
    "# Create the Naive Bayes model object\n",
    "nb = GaussianNB()\n",
    "\n",
    "# Train the model\n",
    "nb.fit(X_train, y_train)\n",
    "\n",
    "# Check the score\n",
    "nb.score(X_train, y_train)"
   ]
  },
  {
   "cell_type": "code",
   "execution_count": 155,
   "metadata": {
    "collapsed": false
   },
   "outputs": [
    {
     "data": {
      "text/plain": [
       "array([ 1.,  2.,  2.,  0.,  1.,  1.,  2.,  1.,  0.,  0.,  0.,  2.,  1.,\n",
       "        2.,  0.])"
      ]
     },
     "execution_count": 155,
     "metadata": {},
     "output_type": "execute_result"
    }
   ],
   "source": [
    "# Predict the class of test set\n",
    "y_predict = nb.predict(X_test)\n",
    "y_predict"
   ]
  },
  {
   "cell_type": "code",
   "execution_count": 156,
   "metadata": {
    "collapsed": false
   },
   "outputs": [
    {
     "data": {
      "text/plain": [
       "array([ 1.,  2.,  2.,  0.,  1.,  1.,  1.,  1.,  0.,  0.,  0.,  2.,  1.,\n",
       "        2.,  0.])"
      ]
     },
     "execution_count": 156,
     "metadata": {},
     "output_type": "execute_result"
    }
   ],
   "source": [
    "# The *actual* class of test set\n",
    "y_test"
   ]
  },
  {
   "cell_type": "code",
   "execution_count": 160,
   "metadata": {
    "collapsed": false
   },
   "outputs": [
    {
     "data": {
      "text/html": [
       "<div>\n",
       "<table border=\"1\" class=\"dataframe\">\n",
       "  <thead>\n",
       "    <tr style=\"text-align: right;\">\n",
       "      <th>Predicted label</th>\n",
       "      <th>0</th>\n",
       "      <th>1</th>\n",
       "      <th>2</th>\n",
       "    </tr>\n",
       "    <tr>\n",
       "      <th>Actual label</th>\n",
       "      <th></th>\n",
       "      <th></th>\n",
       "      <th></th>\n",
       "    </tr>\n",
       "  </thead>\n",
       "  <tbody>\n",
       "    <tr>\n",
       "      <th>0</th>\n",
       "      <td>5</td>\n",
       "      <td>0</td>\n",
       "      <td>0</td>\n",
       "    </tr>\n",
       "    <tr>\n",
       "      <th>1</th>\n",
       "      <td>0</td>\n",
       "      <td>5</td>\n",
       "      <td>1</td>\n",
       "    </tr>\n",
       "    <tr>\n",
       "      <th>2</th>\n",
       "      <td>0</td>\n",
       "      <td>0</td>\n",
       "      <td>4</td>\n",
       "    </tr>\n",
       "  </tbody>\n",
       "</table>\n",
       "</div>"
      ],
      "text/plain": [
       "Predicted label  0  1  2\n",
       "Actual label            \n",
       "0                5  0  0\n",
       "1                0  5  1\n",
       "2                0  0  4"
      ]
     },
     "execution_count": 160,
     "metadata": {},
     "output_type": "execute_result"
    }
   ],
   "source": [
    "# Create the confusion matrix\n",
    "conf = conf_matrix(y_test, y_predict)\n",
    "\n",
    "# Output the confusion matrix\n",
    "conf"
   ]
  },
  {
   "cell_type": "code",
   "execution_count": 162,
   "metadata": {
    "collapsed": false
   },
   "outputs": [
    {
     "name": "stdout",
     "output_type": "stream",
     "text": [
      "Naive Bayes Model Error Rate: 0.07\n"
     ]
    }
   ],
   "source": [
    "# When we were wrong, how wrong were we?\n",
    "# Error rate is the mean of how wrong our incorrect predictions were\n",
    "err_rate = (y_predict != y_test).mean()\n",
    "print('Naive Bayes Model Error Rate: %.2f' % err_rate)"
   ]
  },
  {
   "cell_type": "markdown",
   "metadata": {},
   "source": [
    "### Digits Dataset"
   ]
  },
  {
   "cell_type": "code",
   "execution_count": 75,
   "metadata": {
    "collapsed": false
   },
   "outputs": [
    {
     "data": {
      "text/plain": [
       "0.83240568954854666"
      ]
     },
     "execution_count": 75,
     "metadata": {},
     "output_type": "execute_result"
    }
   ],
   "source": [
    "# Create the Naive Bayes model object\n",
    "nb_dig = GaussianNB()\n",
    "\n",
    "# Train the model\n",
    "nb_dig.fit(X_dig_train, y_dig_train)\n",
    "\n",
    "# Check the score\n",
    "nb_dig.score(X_dig_train, y_dig_train)"
   ]
  },
  {
   "cell_type": "code",
   "execution_count": 76,
   "metadata": {
    "collapsed": false
   },
   "outputs": [
    {
     "data": {
      "text/plain": [
       "array([ 8.,  6.,  1.,  7.,  4.,  1.,  7.,  7.,  0.,  1.,  5.,  6.,  8.,\n",
       "        7.,  8.,  4.,  7.,  0.,  1.,  0.,  5.,  2.,  8.,  7.,  1.,  8.,\n",
       "        8.,  7.,  8.,  8.,  7.,  0.,  0.,  6.,  0.,  5.,  0.,  5.,  1.,\n",
       "        0.,  1.,  6.,  6.,  0.,  3.,  4.,  0.,  8.,  5.,  6.,  8.,  8.,\n",
       "        4.,  8.,  5.,  2.,  7.,  5.,  5.,  1.,  1.,  8.,  9.,  0.,  8.,\n",
       "        4.,  9.,  2.,  9.,  7.,  1.,  7.,  5.,  4.,  1.,  5.,  7.,  7.,\n",
       "        7.,  0.,  1.,  8.,  1.,  8.,  7.,  8.,  3.,  7.,  4.,  9.,  8.,\n",
       "        7.,  3.,  5.,  6.,  1.,  3.,  0.,  7.,  8.,  1.,  5.,  8.,  6.,\n",
       "        1.,  7.,  0.,  8.,  8.,  4.,  2.,  0.,  7.,  2.,  4.,  9.,  0.,\n",
       "        4.,  9.,  6.,  8.,  2.,  6.,  4.,  8.,  9.,  1.,  8.,  4.,  7.,\n",
       "        8.,  1.,  8.,  2.,  5.,  9.,  5.,  4.,  3.,  1.,  4.,  7.,  1.,\n",
       "        5.,  8.,  8.,  6.,  5.,  5.,  8.,  1.,  0.,  9.,  1.,  6.,  9.,\n",
       "        8.,  7.,  1.,  5.,  6.,  3.,  6.,  5.,  2.,  7.,  6.,  2.,  4.,\n",
       "        1.,  8.,  4.,  8.,  4.,  5.,  8.,  3.,  7.,  7.,  8.])"
      ]
     },
     "execution_count": 76,
     "metadata": {},
     "output_type": "execute_result"
    }
   ],
   "source": [
    "# Predict the class of test set\n",
    "y_dig_predict = nb_dig.predict(X_dig_test)\n",
    "y_dig_predict"
   ]
  },
  {
   "cell_type": "code",
   "execution_count": 77,
   "metadata": {
    "collapsed": false
   },
   "outputs": [
    {
     "data": {
      "text/plain": [
       "array([ 8.,  6.,  1.,  7.,  4.,  1.,  4.,  7.,  0.,  1.,  5.,  6.,  2.,\n",
       "        7.,  8.,  4.,  9.,  0.,  9.,  0.,  5.,  2.,  2.,  4.,  1.,  8.,\n",
       "        8.,  7.,  2.,  9.,  7.,  0.,  0.,  6.,  0.,  5.,  0.,  5.,  1.,\n",
       "        0.,  8.,  6.,  6.,  0.,  3.,  4.,  0.,  3.,  5.,  6.,  9.,  8.,\n",
       "        4.,  8.,  5.,  2.,  7.,  5.,  5.,  1.,  1.,  8.,  9.,  0.,  3.,\n",
       "        4.,  9.,  2.,  9.,  3.,  1.,  7.,  5.,  4.,  9.,  5.,  7.,  7.,\n",
       "        7.,  0.,  1.,  9.,  1.,  9.,  7.,  1.,  3.,  9.,  4.,  9.,  2.,\n",
       "        5.,  3.,  5.,  6.,  2.,  3.,  0.,  7.,  3.,  2.,  5.,  2.,  6.,\n",
       "        1.,  7.,  0.,  2.,  9.,  4.,  2.,  0.,  7.,  4.,  4.,  9.,  0.,\n",
       "        4.,  9.,  6.,  8.,  2.,  6.,  4.,  4.,  9.,  1.,  2.,  4.,  7.,\n",
       "        8.,  8.,  2.,  2.,  5.,  9.,  5.,  4.,  3.,  1.,  4.,  7.,  1.,\n",
       "        5.,  3.,  8.,  6.,  5.,  5.,  2.,  1.,  0.,  9.,  1.,  6.,  9.,\n",
       "        3.,  7.,  4.,  5.,  6.,  3.,  6.,  5.,  2.,  7.,  6.,  3.,  4.,\n",
       "        1.,  1.,  4.,  8.,  4.,  5.,  3.,  3.,  7.,  7.,  8.])"
      ]
     },
     "execution_count": 77,
     "metadata": {},
     "output_type": "execute_result"
    }
   ],
   "source": [
    "# The *actual* class of test set\n",
    "y_dig_test"
   ]
  },
  {
   "cell_type": "code",
   "execution_count": 78,
   "metadata": {
    "collapsed": false
   },
   "outputs": [
    {
     "data": {
      "text/html": [
       "<div>\n",
       "<table border=\"1\" class=\"dataframe\">\n",
       "  <thead>\n",
       "    <tr style=\"text-align: right;\">\n",
       "      <th>Predicted label</th>\n",
       "      <th>0</th>\n",
       "      <th>1</th>\n",
       "      <th>2</th>\n",
       "      <th>3</th>\n",
       "      <th>4</th>\n",
       "      <th>5</th>\n",
       "      <th>6</th>\n",
       "      <th>7</th>\n",
       "      <th>8</th>\n",
       "      <th>9</th>\n",
       "    </tr>\n",
       "    <tr>\n",
       "      <th>Actual label</th>\n",
       "      <th></th>\n",
       "      <th></th>\n",
       "      <th></th>\n",
       "      <th></th>\n",
       "      <th></th>\n",
       "      <th></th>\n",
       "      <th></th>\n",
       "      <th></th>\n",
       "      <th></th>\n",
       "      <th></th>\n",
       "    </tr>\n",
       "  </thead>\n",
       "  <tbody>\n",
       "    <tr>\n",
       "      <th>0</th>\n",
       "      <td>17</td>\n",
       "      <td>0</td>\n",
       "      <td>0</td>\n",
       "      <td>0</td>\n",
       "      <td>0</td>\n",
       "      <td>0</td>\n",
       "      <td>0</td>\n",
       "      <td>0</td>\n",
       "      <td>0</td>\n",
       "      <td>0</td>\n",
       "    </tr>\n",
       "    <tr>\n",
       "      <th>1</th>\n",
       "      <td>0</td>\n",
       "      <td>17</td>\n",
       "      <td>0</td>\n",
       "      <td>0</td>\n",
       "      <td>0</td>\n",
       "      <td>0</td>\n",
       "      <td>0</td>\n",
       "      <td>0</td>\n",
       "      <td>2</td>\n",
       "      <td>0</td>\n",
       "    </tr>\n",
       "    <tr>\n",
       "      <th>2</th>\n",
       "      <td>0</td>\n",
       "      <td>2</td>\n",
       "      <td>7</td>\n",
       "      <td>0</td>\n",
       "      <td>0</td>\n",
       "      <td>0</td>\n",
       "      <td>0</td>\n",
       "      <td>0</td>\n",
       "      <td>9</td>\n",
       "      <td>0</td>\n",
       "    </tr>\n",
       "    <tr>\n",
       "      <th>3</th>\n",
       "      <td>0</td>\n",
       "      <td>0</td>\n",
       "      <td>1</td>\n",
       "      <td>7</td>\n",
       "      <td>0</td>\n",
       "      <td>0</td>\n",
       "      <td>0</td>\n",
       "      <td>1</td>\n",
       "      <td>6</td>\n",
       "      <td>0</td>\n",
       "    </tr>\n",
       "    <tr>\n",
       "      <th>4</th>\n",
       "      <td>0</td>\n",
       "      <td>1</td>\n",
       "      <td>1</td>\n",
       "      <td>0</td>\n",
       "      <td>17</td>\n",
       "      <td>0</td>\n",
       "      <td>0</td>\n",
       "      <td>2</td>\n",
       "      <td>1</td>\n",
       "      <td>0</td>\n",
       "    </tr>\n",
       "    <tr>\n",
       "      <th>5</th>\n",
       "      <td>0</td>\n",
       "      <td>0</td>\n",
       "      <td>0</td>\n",
       "      <td>0</td>\n",
       "      <td>0</td>\n",
       "      <td>20</td>\n",
       "      <td>0</td>\n",
       "      <td>1</td>\n",
       "      <td>0</td>\n",
       "      <td>0</td>\n",
       "    </tr>\n",
       "    <tr>\n",
       "      <th>6</th>\n",
       "      <td>0</td>\n",
       "      <td>0</td>\n",
       "      <td>0</td>\n",
       "      <td>0</td>\n",
       "      <td>0</td>\n",
       "      <td>0</td>\n",
       "      <td>15</td>\n",
       "      <td>0</td>\n",
       "      <td>0</td>\n",
       "      <td>0</td>\n",
       "    </tr>\n",
       "    <tr>\n",
       "      <th>7</th>\n",
       "      <td>0</td>\n",
       "      <td>0</td>\n",
       "      <td>0</td>\n",
       "      <td>0</td>\n",
       "      <td>0</td>\n",
       "      <td>0</td>\n",
       "      <td>0</td>\n",
       "      <td>20</td>\n",
       "      <td>0</td>\n",
       "      <td>0</td>\n",
       "    </tr>\n",
       "    <tr>\n",
       "      <th>8</th>\n",
       "      <td>0</td>\n",
       "      <td>2</td>\n",
       "      <td>0</td>\n",
       "      <td>0</td>\n",
       "      <td>0</td>\n",
       "      <td>0</td>\n",
       "      <td>0</td>\n",
       "      <td>0</td>\n",
       "      <td>12</td>\n",
       "      <td>0</td>\n",
       "    </tr>\n",
       "    <tr>\n",
       "      <th>9</th>\n",
       "      <td>0</td>\n",
       "      <td>2</td>\n",
       "      <td>0</td>\n",
       "      <td>0</td>\n",
       "      <td>0</td>\n",
       "      <td>0</td>\n",
       "      <td>0</td>\n",
       "      <td>2</td>\n",
       "      <td>5</td>\n",
       "      <td>10</td>\n",
       "    </tr>\n",
       "  </tbody>\n",
       "</table>\n",
       "</div>"
      ],
      "text/plain": [
       "Predicted label   0   1  2  3   4   5   6   7   8   9\n",
       "Actual label                                         \n",
       "0                17   0  0  0   0   0   0   0   0   0\n",
       "1                 0  17  0  0   0   0   0   0   2   0\n",
       "2                 0   2  7  0   0   0   0   0   9   0\n",
       "3                 0   0  1  7   0   0   0   1   6   0\n",
       "4                 0   1  1  0  17   0   0   2   1   0\n",
       "5                 0   0  0  0   0  20   0   1   0   0\n",
       "6                 0   0  0  0   0   0  15   0   0   0\n",
       "7                 0   0  0  0   0   0   0  20   0   0\n",
       "8                 0   2  0  0   0   0   0   0  12   0\n",
       "9                 0   2  0  0   0   0   0   2   5  10"
      ]
     },
     "execution_count": 78,
     "metadata": {},
     "output_type": "execute_result"
    }
   ],
   "source": [
    "# Create the confusion matrix\n",
    "conf_dig = conf_matrix(y_dig_test, y_dig_predict)\n",
    "\n",
    "# Output the confusion matrix\n",
    "conf_dig"
   ]
  },
  {
   "cell_type": "code",
   "execution_count": 81,
   "metadata": {
    "collapsed": false
   },
   "outputs": [
    {
     "name": "stdout",
     "output_type": "stream",
     "text": [
      "Naive Bayes Model Error Rate: 0.21\n"
     ]
    }
   ],
   "source": [
    "# When we were wrong, how wrong were we?\n",
    "# Error rate is the mean of how wrong our incorrect predictions were\n",
    "err_rate_dig_nb = (y_dig_predict != y_dig_test).mean()\n",
    "print('Naive Bayes Model Error Rate: %.2f' % err_rate_dig_nb)"
   ]
  },
  {
   "cell_type": "markdown",
   "metadata": {},
   "source": [
    "## _k_-nearest Neighbors\n",
    "\n",
    "The next classifier is [k-nearest Neighbors](https://en.wikipedia.org/wiki/K-nearest_neighbors_algorithm)."
   ]
  },
  {
   "cell_type": "markdown",
   "metadata": {},
   "source": [
    "### Iris Dataset"
   ]
  },
  {
   "cell_type": "code",
   "execution_count": 82,
   "metadata": {
    "collapsed": false
   },
   "outputs": [
    {
     "data": {
      "text/plain": [
       "0.97037037037037033"
      ]
     },
     "execution_count": 82,
     "metadata": {},
     "output_type": "execute_result"
    }
   ],
   "source": [
    "# Import k-nearest neighbors library\n",
    "from sklearn.neighbors import KNeighborsClassifier\n",
    "\n",
    "# Create the knn model object with 5 neighbors\n",
    "knn = KNeighborsClassifier(n_neighbors=5)\n",
    "\n",
    "# Train the model\n",
    "knn.fit(X_train, y_train)\n",
    "\n",
    "# Check the score\n",
    "knn.score(X_train, y_train)"
   ]
  },
  {
   "cell_type": "code",
   "execution_count": 83,
   "metadata": {
    "collapsed": false
   },
   "outputs": [
    {
     "data": {
      "text/plain": [
       "array([ 1.,  2.,  2.,  0.,  1.,  1.,  2.,  1.,  0.,  0.,  0.,  2.,  1.,\n",
       "        2.,  0.])"
      ]
     },
     "execution_count": 83,
     "metadata": {},
     "output_type": "execute_result"
    }
   ],
   "source": [
    "# Predict the class of test set\n",
    "y_predict = knn.predict(X_test)\n",
    "y_predict"
   ]
  },
  {
   "cell_type": "code",
   "execution_count": 84,
   "metadata": {
    "collapsed": false
   },
   "outputs": [
    {
     "data": {
      "text/plain": [
       "array([ 1.,  2.,  2.,  0.,  1.,  1.,  1.,  1.,  0.,  0.,  0.,  2.,  1.,\n",
       "        2.,  0.])"
      ]
     },
     "execution_count": 84,
     "metadata": {},
     "output_type": "execute_result"
    }
   ],
   "source": [
    "# The *actual* class of test set\n",
    "y_test"
   ]
  },
  {
   "cell_type": "code",
   "execution_count": 85,
   "metadata": {
    "collapsed": false
   },
   "outputs": [
    {
     "data": {
      "text/html": [
       "<div>\n",
       "<table border=\"1\" class=\"dataframe\">\n",
       "  <thead>\n",
       "    <tr style=\"text-align: right;\">\n",
       "      <th>Predicted label</th>\n",
       "      <th>0</th>\n",
       "      <th>1</th>\n",
       "      <th>2</th>\n",
       "    </tr>\n",
       "    <tr>\n",
       "      <th>Actual label</th>\n",
       "      <th></th>\n",
       "      <th></th>\n",
       "      <th></th>\n",
       "    </tr>\n",
       "  </thead>\n",
       "  <tbody>\n",
       "    <tr>\n",
       "      <th>0</th>\n",
       "      <td>5</td>\n",
       "      <td>0</td>\n",
       "      <td>0</td>\n",
       "    </tr>\n",
       "    <tr>\n",
       "      <th>1</th>\n",
       "      <td>0</td>\n",
       "      <td>5</td>\n",
       "      <td>1</td>\n",
       "    </tr>\n",
       "    <tr>\n",
       "      <th>2</th>\n",
       "      <td>0</td>\n",
       "      <td>0</td>\n",
       "      <td>4</td>\n",
       "    </tr>\n",
       "  </tbody>\n",
       "</table>\n",
       "</div>"
      ],
      "text/plain": [
       "Predicted label  0  1  2\n",
       "Actual label            \n",
       "0                5  0  0\n",
       "1                0  5  1\n",
       "2                0  0  4"
      ]
     },
     "execution_count": 85,
     "metadata": {},
     "output_type": "execute_result"
    }
   ],
   "source": [
    "# Create the confusion matrix\n",
    "conf = conf_matrix(y_test, y_predict)\n",
    "\n",
    "# Output the confusion matrix\n",
    "conf"
   ]
  },
  {
   "cell_type": "code",
   "execution_count": 86,
   "metadata": {
    "collapsed": false
   },
   "outputs": [
    {
     "name": "stdout",
     "output_type": "stream",
     "text": [
      "Naive Bayes Model Error Rate: 0.07\n"
     ]
    }
   ],
   "source": [
    "# When we were wrong, how wrong were we?\n",
    "# Error rate is the mean of how wrong our incorrect predictions were\n",
    "err_rate = (y_predict != y_test).mean()\n",
    "print('Naive Bayes Model Error Rate: %.2f' % err_rate)"
   ]
  },
  {
   "cell_type": "markdown",
   "metadata": {},
   "source": [
    "Let's try running KNN with K values 1 to 10, measuring testing accuracy for each K and plotting results.\n",
    "\n",
    "Inspiration: https://github.com/justmarkham/scikit-learn-videos/blob/master/05_model_evaluation.ipynb"
   ]
  },
  {
   "cell_type": "code",
   "execution_count": 87,
   "metadata": {
    "collapsed": false
   },
   "outputs": [
    {
     "data": {
      "image/png": "[encoded data removed]",
      "text/plain": [
       "<matplotlib.figure.Figure at 0x7f2a668ec950>"
      ]
     },
     "metadata": {},
     "output_type": "display_data"
    }
   ],
   "source": [
    "# Import metrics library\n",
    "from sklearn import metrics\n",
    "\n",
    "# Increase k from 1 to 10\n",
    "k_range = range(1, 11)\n",
    "scores = []\n",
    "for k in k_range:\n",
    "    knn = KNeighborsClassifier(n_neighbors=k)\n",
    "    knn.fit(X_train, y_train)\n",
    "    y_predict = knn.predict(X_test)\n",
    "    scores.append(metrics.accuracy_score(y_test, y_predict))\n",
    "\n",
    "# Plot results\n",
    "plt.plot(k_range, scores, color='blue')\n",
    "plt.scatter(k_range, scores, color='red')\n",
    "\n",
    "plt.ylim([0.8,1.02])\n",
    "plt.xlim([1.0,10.0])\n",
    "plt.xlabel('K Neighbors')\n",
    "plt.ylabel('Testing Accuracy')\n",
    "\n",
    "plt.show()"
   ]
  },
  {
   "cell_type": "markdown",
   "metadata": {},
   "source": [
    "### Digits Dataset"
   ]
  },
  {
   "cell_type": "code",
   "execution_count": 88,
   "metadata": {
    "collapsed": false
   },
   "outputs": [
    {
     "data": {
      "text/plain": [
       "0.99010513296227587"
      ]
     },
     "execution_count": 88,
     "metadata": {},
     "output_type": "execute_result"
    }
   ],
   "source": [
    "# Create the knn model object with 5 neighbors\n",
    "knn_dig = KNeighborsClassifier(n_neighbors=5)\n",
    "\n",
    "# Train the model\n",
    "knn_dig.fit(X_dig_train, y_dig_train)\n",
    "\n",
    "# Check the score\n",
    "knn_dig.score(X_dig_train, y_dig_train)"
   ]
  },
  {
   "cell_type": "code",
   "execution_count": 93,
   "metadata": {
    "collapsed": false
   },
   "outputs": [
    {
     "data": {
      "text/plain": [
       "array([ 8.,  6.,  1.,  7.,  4.,  1.,  4.,  7.,  0.,  1.,  5.,  6.,  2.,\n",
       "        7.,  8.,  4.,  9.,  0.,  9.,  0.,  5.,  2.,  2.,  4.,  1.,  8.,\n",
       "        8.,  7.,  2.,  9.,  7.,  0.,  0.,  6.,  0.,  5.,  0.,  5.,  1.,\n",
       "        0.,  8.,  6.,  6.,  0.,  3.,  4.,  0.,  3.,  5.,  6.,  9.,  8.,\n",
       "        4.,  8.,  5.,  2.,  7.,  5.,  5.,  1.,  1.,  8.,  9.,  0.,  3.,\n",
       "        4.,  9.,  2.,  9.,  7.,  1.,  7.,  5.,  4.,  9.,  5.,  7.,  7.,\n",
       "        7.,  0.,  1.,  9.,  1.,  9.,  7.,  1.,  3.,  9.,  4.,  9.,  2.,\n",
       "        5.,  3.,  5.,  6.,  2.,  3.,  0.,  7.,  3.,  2.,  5.,  2.,  6.,\n",
       "        1.,  7.,  0.,  2.,  9.,  4.,  2.,  0.,  7.,  4.,  4.,  9.,  0.,\n",
       "        4.,  9.,  6.,  8.,  2.,  6.,  4.,  4.,  9.,  1.,  2.,  4.,  7.,\n",
       "        8.,  8.,  2.,  2.,  5.,  9.,  5.,  4.,  3.,  1.,  4.,  7.,  1.,\n",
       "        5.,  3.,  8.,  6.,  5.,  5.,  2.,  1.,  0.,  9.,  1.,  6.,  9.,\n",
       "        3.,  7.,  4.,  5.,  6.,  3.,  6.,  5.,  2.,  7.,  6.,  3.,  4.,\n",
       "        1.,  1.,  4.,  8.,  4.,  5.,  3.,  3.,  7.,  7.,  8.])"
      ]
     },
     "execution_count": 93,
     "metadata": {},
     "output_type": "execute_result"
    }
   ],
   "source": [
    "# Predict the class of test set\n",
    "y_dig_predict = knn_dig.predict(X_dig_test)\n",
    "y_dig_predict"
   ]
  },
  {
   "cell_type": "code",
   "execution_count": 94,
   "metadata": {
    "collapsed": false
   },
   "outputs": [
    {
     "data": {
      "text/plain": [
       "array([ 8.,  6.,  1.,  7.,  4.,  1.,  4.,  7.,  0.,  1.,  5.,  6.,  2.,\n",
       "        7.,  8.,  4.,  9.,  0.,  9.,  0.,  5.,  2.,  2.,  4.,  1.,  8.,\n",
       "        8.,  7.,  2.,  9.,  7.,  0.,  0.,  6.,  0.,  5.,  0.,  5.,  1.,\n",
       "        0.,  8.,  6.,  6.,  0.,  3.,  4.,  0.,  3.,  5.,  6.,  9.,  8.,\n",
       "        4.,  8.,  5.,  2.,  7.,  5.,  5.,  1.,  1.,  8.,  9.,  0.,  3.,\n",
       "        4.,  9.,  2.,  9.,  3.,  1.,  7.,  5.,  4.,  9.,  5.,  7.,  7.,\n",
       "        7.,  0.,  1.,  9.,  1.,  9.,  7.,  1.,  3.,  9.,  4.,  9.,  2.,\n",
       "        5.,  3.,  5.,  6.,  2.,  3.,  0.,  7.,  3.,  2.,  5.,  2.,  6.,\n",
       "        1.,  7.,  0.,  2.,  9.,  4.,  2.,  0.,  7.,  4.,  4.,  9.,  0.,\n",
       "        4.,  9.,  6.,  8.,  2.,  6.,  4.,  4.,  9.,  1.,  2.,  4.,  7.,\n",
       "        8.,  8.,  2.,  2.,  5.,  9.,  5.,  4.,  3.,  1.,  4.,  7.,  1.,\n",
       "        5.,  3.,  8.,  6.,  5.,  5.,  2.,  1.,  0.,  9.,  1.,  6.,  9.,\n",
       "        3.,  7.,  4.,  5.,  6.,  3.,  6.,  5.,  2.,  7.,  6.,  3.,  4.,\n",
       "        1.,  1.,  4.,  8.,  4.,  5.,  3.,  3.,  7.,  7.,  8.])"
      ]
     },
     "execution_count": 94,
     "metadata": {},
     "output_type": "execute_result"
    }
   ],
   "source": [
    "# The *actual* class of test set\n",
    "y_dig_test"
   ]
  },
  {
   "cell_type": "code",
   "execution_count": 95,
   "metadata": {
    "collapsed": false
   },
   "outputs": [
    {
     "data": {
      "text/html": [
       "<div>\n",
       "<table border=\"1\" class=\"dataframe\">\n",
       "  <thead>\n",
       "    <tr style=\"text-align: right;\">\n",
       "      <th>Predicted label</th>\n",
       "      <th>0</th>\n",
       "      <th>1</th>\n",
       "      <th>2</th>\n",
       "      <th>3</th>\n",
       "      <th>4</th>\n",
       "      <th>5</th>\n",
       "      <th>6</th>\n",
       "      <th>7</th>\n",
       "      <th>8</th>\n",
       "      <th>9</th>\n",
       "    </tr>\n",
       "    <tr>\n",
       "      <th>Actual label</th>\n",
       "      <th></th>\n",
       "      <th></th>\n",
       "      <th></th>\n",
       "      <th></th>\n",
       "      <th></th>\n",
       "      <th></th>\n",
       "      <th></th>\n",
       "      <th></th>\n",
       "      <th></th>\n",
       "      <th></th>\n",
       "    </tr>\n",
       "  </thead>\n",
       "  <tbody>\n",
       "    <tr>\n",
       "      <th>0</th>\n",
       "      <td>17</td>\n",
       "      <td>0</td>\n",
       "      <td>0</td>\n",
       "      <td>0</td>\n",
       "      <td>0</td>\n",
       "      <td>0</td>\n",
       "      <td>0</td>\n",
       "      <td>0</td>\n",
       "      <td>0</td>\n",
       "      <td>0</td>\n",
       "    </tr>\n",
       "    <tr>\n",
       "      <th>1</th>\n",
       "      <td>0</td>\n",
       "      <td>19</td>\n",
       "      <td>0</td>\n",
       "      <td>0</td>\n",
       "      <td>0</td>\n",
       "      <td>0</td>\n",
       "      <td>0</td>\n",
       "      <td>0</td>\n",
       "      <td>0</td>\n",
       "      <td>0</td>\n",
       "    </tr>\n",
       "    <tr>\n",
       "      <th>2</th>\n",
       "      <td>0</td>\n",
       "      <td>0</td>\n",
       "      <td>18</td>\n",
       "      <td>0</td>\n",
       "      <td>0</td>\n",
       "      <td>0</td>\n",
       "      <td>0</td>\n",
       "      <td>0</td>\n",
       "      <td>0</td>\n",
       "      <td>0</td>\n",
       "    </tr>\n",
       "    <tr>\n",
       "      <th>3</th>\n",
       "      <td>0</td>\n",
       "      <td>0</td>\n",
       "      <td>0</td>\n",
       "      <td>14</td>\n",
       "      <td>0</td>\n",
       "      <td>0</td>\n",
       "      <td>0</td>\n",
       "      <td>1</td>\n",
       "      <td>0</td>\n",
       "      <td>0</td>\n",
       "    </tr>\n",
       "    <tr>\n",
       "      <th>4</th>\n",
       "      <td>0</td>\n",
       "      <td>0</td>\n",
       "      <td>0</td>\n",
       "      <td>0</td>\n",
       "      <td>22</td>\n",
       "      <td>0</td>\n",
       "      <td>0</td>\n",
       "      <td>0</td>\n",
       "      <td>0</td>\n",
       "      <td>0</td>\n",
       "    </tr>\n",
       "    <tr>\n",
       "      <th>5</th>\n",
       "      <td>0</td>\n",
       "      <td>0</td>\n",
       "      <td>0</td>\n",
       "      <td>0</td>\n",
       "      <td>0</td>\n",
       "      <td>21</td>\n",
       "      <td>0</td>\n",
       "      <td>0</td>\n",
       "      <td>0</td>\n",
       "      <td>0</td>\n",
       "    </tr>\n",
       "    <tr>\n",
       "      <th>6</th>\n",
       "      <td>0</td>\n",
       "      <td>0</td>\n",
       "      <td>0</td>\n",
       "      <td>0</td>\n",
       "      <td>0</td>\n",
       "      <td>0</td>\n",
       "      <td>15</td>\n",
       "      <td>0</td>\n",
       "      <td>0</td>\n",
       "      <td>0</td>\n",
       "    </tr>\n",
       "    <tr>\n",
       "      <th>7</th>\n",
       "      <td>0</td>\n",
       "      <td>0</td>\n",
       "      <td>0</td>\n",
       "      <td>0</td>\n",
       "      <td>0</td>\n",
       "      <td>0</td>\n",
       "      <td>0</td>\n",
       "      <td>20</td>\n",
       "      <td>0</td>\n",
       "      <td>0</td>\n",
       "    </tr>\n",
       "    <tr>\n",
       "      <th>8</th>\n",
       "      <td>0</td>\n",
       "      <td>0</td>\n",
       "      <td>0</td>\n",
       "      <td>0</td>\n",
       "      <td>0</td>\n",
       "      <td>0</td>\n",
       "      <td>0</td>\n",
       "      <td>0</td>\n",
       "      <td>14</td>\n",
       "      <td>0</td>\n",
       "    </tr>\n",
       "    <tr>\n",
       "      <th>9</th>\n",
       "      <td>0</td>\n",
       "      <td>0</td>\n",
       "      <td>0</td>\n",
       "      <td>0</td>\n",
       "      <td>0</td>\n",
       "      <td>0</td>\n",
       "      <td>0</td>\n",
       "      <td>0</td>\n",
       "      <td>0</td>\n",
       "      <td>19</td>\n",
       "    </tr>\n",
       "  </tbody>\n",
       "</table>\n",
       "</div>"
      ],
      "text/plain": [
       "Predicted label   0   1   2   3   4   5   6   7   8   9\n",
       "Actual label                                           \n",
       "0                17   0   0   0   0   0   0   0   0   0\n",
       "1                 0  19   0   0   0   0   0   0   0   0\n",
       "2                 0   0  18   0   0   0   0   0   0   0\n",
       "3                 0   0   0  14   0   0   0   1   0   0\n",
       "4                 0   0   0   0  22   0   0   0   0   0\n",
       "5                 0   0   0   0   0  21   0   0   0   0\n",
       "6                 0   0   0   0   0   0  15   0   0   0\n",
       "7                 0   0   0   0   0   0   0  20   0   0\n",
       "8                 0   0   0   0   0   0   0   0  14   0\n",
       "9                 0   0   0   0   0   0   0   0   0  19"
      ]
     },
     "execution_count": 95,
     "metadata": {},
     "output_type": "execute_result"
    }
   ],
   "source": [
    "# Create the confusion matrix\n",
    "conf_dig = conf_matrix(y_dig_test, y_dig_predict)\n",
    "\n",
    "# Output the confusion matrix\n",
    "conf_dig"
   ]
  },
  {
   "cell_type": "code",
   "execution_count": 96,
   "metadata": {
    "collapsed": false
   },
   "outputs": [
    {
     "name": "stdout",
     "output_type": "stream",
     "text": [
      "Naive Bayes Model Error Rate: 0.01\n"
     ]
    }
   ],
   "source": [
    "# When we were wrong, how wrong were we?\n",
    "# Error rate is the mean of how wrong our incorrect predictions were\n",
    "err_rate_dig_nb = (y_dig_predict != y_dig_test).mean()\n",
    "print('Naive Bayes Model Error Rate: %.2f' % err_rate_dig_nb)"
   ]
  },
  {
   "cell_type": "markdown",
   "metadata": {},
   "source": [
    "Let's try running KNN with K values 1 to 10, measuring testing accuracy for each K and plotting results.\n",
    "\n",
    "Inspiration: https://github.com/justmarkham/scikit-learn-videos/blob/master/05_model_evaluation.ipynb"
   ]
  },
  {
   "cell_type": "code",
   "execution_count": 100,
   "metadata": {
    "collapsed": false
   },
   "outputs": [
    {
     "data": {
      "image/png": "[encoded data removed]",
      "text/plain": [
       "<matplotlib.figure.Figure at 0x7f2a65a94b90>"
      ]
     },
     "metadata": {},
     "output_type": "display_data"
    }
   ],
   "source": [
    "# Import metrics library\n",
    "from sklearn import metrics\n",
    "\n",
    "# Increase k from 1 to 10\n",
    "k_range = range(1, 11)\n",
    "scores_dig = []\n",
    "for k in k_range:\n",
    "    knn_dig = KNeighborsClassifier(n_neighbors=k)\n",
    "    knn_dig.fit(X_dig_train, y_dig_train)\n",
    "    y_dig_predict = knn_dig.predict(X_dig_test)\n",
    "    scores_dig.append(metrics.accuracy_score(y_dig_test, y_dig_predict))\n",
    "\n",
    "# Plot results\n",
    "plt.plot(k_range, scores_dig, color='blue')\n",
    "plt.scatter(k_range, scores_dig, color='red')\n",
    "\n",
    "plt.ylim([0.95,1.02])\n",
    "plt.xlim([1.0,10.0])\n",
    "plt.xlabel('K Neighbors')\n",
    "plt.ylabel('Testing Accuracy')\n",
    "\n",
    "plt.show()"
   ]
  },
  {
   "cell_type": "markdown",
   "metadata": {},
   "source": [
    "## Random Forests\n",
    "\n",
    "Finally, we will consider the [Random Forests](https://en.wikipedia.org/wiki/Random_forest) ensemble classifier."
   ]
  },
  {
   "cell_type": "code",
   "execution_count": 101,
   "metadata": {
    "collapsed": false
   },
   "outputs": [
    {
     "name": "stdout",
     "output_type": "stream",
     "text": [
      "Random Forest Cross-validation Scores: [ 1.          0.93333333  1.          0.93333333  0.93333333  1.\n",
      "  0.86666667  0.93333333  1.          1.        ]\n"
     ]
    }
   ],
   "source": [
    "# Import the Random Forests library\n",
    "from sklearn.ensemble import RandomForestClassifier\n",
    "\n",
    "# Create the Random Forest model object with 5 neighbors\n",
    "rf = RandomForestClassifier()\n",
    "\n",
    "# Evaluate using 10-fold cross-validation\n",
    "scores = cross_validation.cross_val_score(rf, iris.data, iris.target, cv=10)\n",
    "\n",
    "# Display the individual CV scores\n",
    "print 'Random Forest Cross-validation Scores:', scores"
   ]
  },
  {
   "cell_type": "code",
   "execution_count": 102,
   "metadata": {
    "collapsed": false
   },
   "outputs": [
    {
     "data": {
      "image/png": "[encoded data removed]",
      "text/plain": [
       "<matplotlib.figure.Figure at 0x7f2a5c645950>"
      ]
     },
     "metadata": {},
     "output_type": "display_data"
    }
   ],
   "source": [
    "# Plot fold scores\n",
    "folds = range(1, 11)\n",
    "folds = np.array(folds)\n",
    "\n",
    "plt.xlabel('Fold')\n",
    "plt.ylabel('Score')\n",
    "plt.ylim([0.8,1.02])\n",
    "plt.xlim([1.0,10.0])\n",
    "\n",
    "plt.scatter(folds, scores, color='red')\n",
    "plt.plot(folds, scores, color='blue')\n",
    "plt.show()"
   ]
  },
  {
   "cell_type": "code",
   "execution_count": 103,
   "metadata": {
    "collapsed": false
   },
   "outputs": [
    {
     "name": "stdout",
     "output_type": "stream",
     "text": [
      "Mean SVM Cross-validation Score: 0.96\n"
     ]
    }
   ],
   "source": [
    "# Mean CV evaluation score\n",
    "print 'Mean SVM Cross-validation Score:', scores.mean()"
   ]
  },
  {
   "cell_type": "markdown",
   "metadata": {
    "collapsed": true
   },
   "source": [
    "### Digits Dataset"
   ]
  },
  {
   "cell_type": "code",
   "execution_count": 105,
   "metadata": {
    "collapsed": false
   },
   "outputs": [
    {
     "name": "stdout",
     "output_type": "stream",
     "text": [
      "Random Forest Cross-validation Scores: [ 0.85405405  0.94535519  0.91160221  0.89444444  0.91061453  0.95530726\n",
      "  0.93854749  0.9494382   0.91525424  0.90340909]\n"
     ]
    }
   ],
   "source": [
    "# Create the Random Forest model object with 5 neighbors\n",
    "rf_dig = RandomForestClassifier()\n",
    "\n",
    "# Evaluate using 10-fold cross-validation\n",
    "scores_dig = cross_validation.cross_val_score(rf_dig, digits.data, digits.target, cv=10)\n",
    "\n",
    "# Display the individual CV scores\n",
    "print 'Random Forest Cross-validation Scores:', scores_dig"
   ]
  },
  {
   "cell_type": "code",
   "execution_count": 106,
   "metadata": {
    "collapsed": false
   },
   "outputs": [
    {
     "data": {
      "image/png": "[encoded data removed]",
      "text/plain": [
       "<matplotlib.figure.Figure at 0x7f2a5c1affd0>"
      ]
     },
     "metadata": {},
     "output_type": "display_data"
    }
   ],
   "source": [
    "# Plot fold scores\n",
    "folds_dig = range(1, 11)\n",
    "folds_dig = np.array(folds)\n",
    "\n",
    "plt.xlabel('Fold')\n",
    "plt.ylabel('Score')\n",
    "plt.ylim([0.8,1.02])\n",
    "plt.xlim([1.0,10.0])\n",
    "\n",
    "plt.scatter(folds_dig, scores_dig, color='red')\n",
    "plt.plot(folds_dig, scores_dig, color='blue')\n",
    "plt.show()"
   ]
  },
  {
   "cell_type": "code",
   "execution_count": 107,
   "metadata": {
    "collapsed": false
   },
   "outputs": [
    {
     "name": "stdout",
     "output_type": "stream",
     "text": [
      "Mean SVM Cross-validation Score: 0.917802670389\n"
     ]
    }
   ],
   "source": [
    "# Mean CV evaluation score\n",
    "print 'Mean SVM Cross-validation Score:', scores_dig.mean()"
   ]
  },
  {
   "cell_type": "markdown",
   "metadata": {},
   "source": [
    "And that's it.\n",
    "\n",
    "If you are interested, you could go back and change code to better evaluate the accuracy (relative and absolute) of the models, but I'll leave that for another time.\n",
    "\n",
    "Cheers!"
   ]
  },
  {
   "cell_type": "code",
   "execution_count": null,
   "metadata": {
    "collapsed": true
   },
   "outputs": [],
   "source": []
  }
 ],
 "metadata": {
  "kernelspec": {
   "display_name": "Python 2",
   "language": "python",
   "name": "python2"
  },
  "language_info": {
   "codemirror_mode": {
    "name": "ipython",
    "version": 2
   },
   "file_extension": ".py",
   "mimetype": "text/x-python",
   "name": "python",
   "nbconvert_exporter": "python",
   "pygments_lexer": "ipython2",
   "version": "2.7.10"
  }
 },
 "nbformat": 4,
 "nbformat_minor": 0
}
