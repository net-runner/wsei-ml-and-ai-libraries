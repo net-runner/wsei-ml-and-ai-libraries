{
 "cells": [
  {
   "cell_type": "markdown",
   "metadata": {},
   "source": [
    "# ZADANIE\n",
    "\n",
    "Wybierz zbiór danych i zdefiniuj problem klasyfikacyjny, określając zmienną docelową i cechy.\n",
    "1. Przeprowadź przygotowanie danych, obejmujące usunięcie duplikatów, obsługę braków,\n",
    "kodowanie zmiennych kategorycznych oraz detekcję wartości odstających.\n",
    "\n",
    "2. Zastosuj odpowiednie techniki balansowania zbioru. Podziel dane na zbiór treningowy i testowy.\n",
    "Jeśli to konieczne, dokonaj skalowania zmiennych numerycznych.\n",
    "\n",
    "3. Zbuduj model regresji logistycznej, przeprowadź predykcję i ocenę jakości modelu."
   ]
  },
  {
   "cell_type": "code",
   "execution_count": null,
   "metadata": {},
   "outputs": [],
   "source": [
    "import pandas as pd\n",
    "import numpy as np\n",
    "from sklearn.model_selection import train_test_split\n",
    "from sklearn.preprocessing import StandardScaler\n",
    "from sklearn.linear_model import LogisticRegression\n",
    "from sklearn.metrics import accuracy_score, precision_score, recall_score, f1_score, roc_auc_score, confusion_matrix\n",
    "from imblearn.over_sampling import SMOTE\n",
    "import matplotlib.pyplot as plt\n",
    "import seaborn as sns\n",
    "\n",
    "from sklearn.datasets import load_diabetes"
   ]
  },
  {
   "cell_type": "code",
   "execution_count": null,
   "metadata": {},
   "outputs": [
    {
     "name": "stdout",
     "output_type": "stream",
     "text": [
      "--- Dane początkowe ---\n",
      "   Pregnancies  Glucose  BloodPressure  SkinThickness  Insulin   BMI  \\\n",
      "0            6      148             72             35        0  33.6   \n",
      "1            1       85             66             29        0  26.6   \n",
      "2            8      183             64              0        0  23.3   \n",
      "3            1       89             66             23       94  28.1   \n",
      "4            0      137             40             35      168  43.1   \n",
      "\n",
      "   DiabetesPedigreeFunction  Age  Outcome  \n",
      "0                     0.627   50        1  \n",
      "1                     0.351   31        0  \n",
      "2                     0.672   32        1  \n",
      "3                     0.167   21        0  \n",
      "4                     2.288   33        1  \n",
      "\n",
      "Kształt danych: (768, 9)\n",
      "\n",
      "Informacje o typach danych i brakach:\n",
      "<class 'pandas.core.frame.DataFrame'>\n",
      "RangeIndex: 768 entries, 0 to 767\n",
      "Data columns (total 9 columns):\n",
      " #   Column                    Non-Null Count  Dtype  \n",
      "---  ------                    --------------  -----  \n",
      " 0   Pregnancies               768 non-null    int64  \n",
      " 1   Glucose                   768 non-null    int64  \n",
      " 2   BloodPressure             768 non-null    int64  \n",
      " 3   SkinThickness             768 non-null    int64  \n",
      " 4   Insulin                   768 non-null    int64  \n",
      " 5   BMI                       768 non-null    float64\n",
      " 6   DiabetesPedigreeFunction  768 non-null    float64\n",
      " 7   Age                       768 non-null    int64  \n",
      " 8   Outcome                   768 non-null    int64  \n",
      "dtypes: float64(2), int64(7)\n",
      "memory usage: 54.1 KB\n",
      "None\n"
     ]
    }
   ],
   "source": [
    "# Ładowanie datasetu\n",
    "\n",
    "try:\n",
    "    df = pd.read_csv('https://raw.githubusercontent.com/plotly/datasets/master/diabetes.csv')\n",
    "except Exception as e:\n",
    "    print(f\"Nie udało się pobrać pliku z URL, spróbuj pobrać ręcznie diabetes.csv i umieścić w katalogu. Błąd: {e}\")\n",
    "    # Przykładowe stworzenie DataFrame w przypadku braku dostępu\n",
    "    data = {\n",
    "        'Pregnancies': [6, 1, 8, 1, 0, 5, 3, 10, 2, 8],\n",
    "        'Glucose': [148, 85, 183, 89, 137, 116, 78, 115, 197, 125],\n",
    "        'BloodPressure': [72, 66, 64, 66, 40, 74, 50, 0, 70, 96],\n",
    "        'SkinThickness': [35, 29, 0, 23, 35, 0, 32, 0, 45, 0],\n",
    "        'Insulin': [0, 0, 0, 94, 168, 0, 88, 0, 543, 0],\n",
    "        'BMI': [33.6, 26.6, 23.3, 28.1, 43.1, 25.6, 31.0, 35.3, 30.5, 0],\n",
    "        'DiabetesPedigreeFunction': [0.627, 0.351, 0.672, 0.167, 2.288, 0.201, 0.248, 0.134, 0.158, 0.232],\n",
    "        'Age': [50, 31, 32, 21, 33, 30, 26, 29, 53, 54],\n",
    "        'Outcome': [1, 0, 1, 0, 1, 0, 1, 0, 1, 1]\n",
    "    }\n",
    "    df = pd.DataFrame(data)\n",
    "\n",
    "\n",
    "print(\"--- Dane początkowe ---\")\n",
    "print(df.head())\n",
    "print(\"\\nKształt danych:\", df.shape)\n",
    "print(\"\\nInformacje o typach danych i brakach:\")\n",
    "print(df.info())\n"
   ]
  },
  {
   "cell_type": "code",
   "execution_count": 5,
   "metadata": {},
   "outputs": [
    {
     "name": "stdout",
     "output_type": "stream",
     "text": [
      "Kształt po usunięciu duplikatów: (768, 9)\n"
     ]
    }
   ],
   "source": [
    "# Usuwanie duplikatów\n",
    "\n",
    "df.drop_duplicates(inplace=True)\n",
    "print(\"Kształt po usunięciu duplikatów:\", df.shape)"
   ]
  },
  {
   "cell_type": "code",
   "execution_count": 6,
   "metadata": {},
   "outputs": [
    {
     "name": "stdout",
     "output_type": "stream",
     "text": [
      "\n",
      "Liczba braków po zastąpieniu 0 wartością NaN:\n",
      "Pregnancies                   0\n",
      "Glucose                       5\n",
      "BloodPressure                35\n",
      "SkinThickness               227\n",
      "Insulin                     374\n",
      "BMI                          11\n",
      "DiabetesPedigreeFunction      0\n",
      "Age                           0\n",
      "Outcome                       0\n",
      "dtype: int64\n"
     ]
    }
   ],
   "source": [
    "cols_with_zeros_as_nan = ['Glucose', 'BloodPressure', 'SkinThickness', 'Insulin', 'BMI']\n",
    "for col in cols_with_zeros_as_nan:\n",
    "    df[col] = df[col].replace(0, np.nan)\n",
    "\n",
    "print(\"\\nLiczba braków po zastąpieniu 0 wartością NaN:\")\n",
    "print(df.isnull().sum())"
   ]
  },
  {
   "cell_type": "code",
   "execution_count": 7,
   "metadata": {},
   "outputs": [
    {
     "name": "stdout",
     "output_type": "stream",
     "text": [
      "\n",
      "Liczba braków po uzupełnieniu medianą:\n",
      "Pregnancies                 0\n",
      "Glucose                     0\n",
      "BloodPressure               0\n",
      "SkinThickness               0\n",
      "Insulin                     0\n",
      "BMI                         0\n",
      "DiabetesPedigreeFunction    0\n",
      "Age                         0\n",
      "Outcome                     0\n",
      "dtype: int64\n"
     ]
    },
    {
     "name": "stderr",
     "output_type": "stream",
     "text": [
      "C:\\Users\\Jan\\AppData\\Local\\Temp\\ipykernel_24844\\1025645175.py:3: FutureWarning: A value is trying to be set on a copy of a DataFrame or Series through chained assignment using an inplace method.\n",
      "The behavior will change in pandas 3.0. This inplace method will never work because the intermediate object on which we are setting values always behaves as a copy.\n",
      "\n",
      "For example, when doing 'df[col].method(value, inplace=True)', try using 'df.method({col: value}, inplace=True)' or df[col] = df[col].method(value) instead, to perform the operation inplace on the original object.\n",
      "\n",
      "\n",
      "  df[col].fillna(median_val, inplace=True)\n",
      "C:\\Users\\Jan\\AppData\\Local\\Temp\\ipykernel_24844\\1025645175.py:3: FutureWarning: A value is trying to be set on a copy of a DataFrame or Series through chained assignment using an inplace method.\n",
      "The behavior will change in pandas 3.0. This inplace method will never work because the intermediate object on which we are setting values always behaves as a copy.\n",
      "\n",
      "For example, when doing 'df[col].method(value, inplace=True)', try using 'df.method({col: value}, inplace=True)' or df[col] = df[col].method(value) instead, to perform the operation inplace on the original object.\n",
      "\n",
      "\n",
      "  df[col].fillna(median_val, inplace=True)\n",
      "C:\\Users\\Jan\\AppData\\Local\\Temp\\ipykernel_24844\\1025645175.py:3: FutureWarning: A value is trying to be set on a copy of a DataFrame or Series through chained assignment using an inplace method.\n",
      "The behavior will change in pandas 3.0. This inplace method will never work because the intermediate object on which we are setting values always behaves as a copy.\n",
      "\n",
      "For example, when doing 'df[col].method(value, inplace=True)', try using 'df.method({col: value}, inplace=True)' or df[col] = df[col].method(value) instead, to perform the operation inplace on the original object.\n",
      "\n",
      "\n",
      "  df[col].fillna(median_val, inplace=True)\n",
      "C:\\Users\\Jan\\AppData\\Local\\Temp\\ipykernel_24844\\1025645175.py:3: FutureWarning: A value is trying to be set on a copy of a DataFrame or Series through chained assignment using an inplace method.\n",
      "The behavior will change in pandas 3.0. This inplace method will never work because the intermediate object on which we are setting values always behaves as a copy.\n",
      "\n",
      "For example, when doing 'df[col].method(value, inplace=True)', try using 'df.method({col: value}, inplace=True)' or df[col] = df[col].method(value) instead, to perform the operation inplace on the original object.\n",
      "\n",
      "\n",
      "  df[col].fillna(median_val, inplace=True)\n",
      "C:\\Users\\Jan\\AppData\\Local\\Temp\\ipykernel_24844\\1025645175.py:3: FutureWarning: A value is trying to be set on a copy of a DataFrame or Series through chained assignment using an inplace method.\n",
      "The behavior will change in pandas 3.0. This inplace method will never work because the intermediate object on which we are setting values always behaves as a copy.\n",
      "\n",
      "For example, when doing 'df[col].method(value, inplace=True)', try using 'df.method({col: value}, inplace=True)' or df[col] = df[col].method(value) instead, to perform the operation inplace on the original object.\n",
      "\n",
      "\n",
      "  df[col].fillna(median_val, inplace=True)\n"
     ]
    }
   ],
   "source": [
    "for col in cols_with_zeros_as_nan:\n",
    "    median_val = df[col].median()\n",
    "    df[col].fillna(median_val, inplace=True)\n",
    "print(\"\\nLiczba braków po uzupełnieniu medianą:\")\n",
    "print(df.isnull().sum())\n"
   ]
  },
  {
   "cell_type": "code",
   "execution_count": 8,
   "metadata": {},
   "outputs": [
    {
     "name": "stdout",
     "output_type": "stream",
     "text": [
      "\n",
      "--- Detekcja wartości odstających (przykładowo dla Glucose i BMI) ---\n"
     ]
    },
    {
     "data": {
      "image/png": "[encoded data removed]",
      "text/plain": [
       "<Figure size 1200x500 with 2 Axes>"
      ]
     },
     "metadata": {},
     "output_type": "display_data"
    }
   ],
   "source": [
    "print(\"\\n--- Detekcja wartości odstających (przykładowo dla Glucose i BMI) ---\")\n",
    "plt.figure(figsize=(12, 5))\n",
    "plt.subplot(1, 2, 1)\n",
    "sns.boxplot(y=df['Glucose'])\n",
    "plt.title('Rozkład Glucose')\n",
    "\n",
    "plt.subplot(1, 2, 2)\n",
    "sns.boxplot(y=df['BMI'])\n",
    "plt.title('Rozkład BMI')\n",
    "plt.tight_layout()\n",
    "plt.show()"
   ]
  },
  {
   "cell_type": "code",
   "execution_count": 9,
   "metadata": {},
   "outputs": [],
   "source": [
    "# Funkcja do identyfikacji wartości odstających za pomocą IQR\n",
    "def find_outliers_iqr(df, column):\n",
    "    Q1 = df[column].quantile(0.25)\n",
    "    Q3 = df[column].quantile(0.75)\n",
    "    IQR = Q3 - Q1\n",
    "    lower_bound = Q1 - 1.5 * IQR\n",
    "    upper_bound = Q3 + 1.5 * IQR\n",
    "    outliers = df[(df[column] < lower_bound) | (df[column] > upper_bound)]\n",
    "    return outliers"
   ]
  },
  {
   "cell_type": "code",
   "execution_count": 10,
   "metadata": {},
   "outputs": [
    {
     "name": "stdout",
     "output_type": "stream",
     "text": [
      "\n",
      "Wartości odstające dla Glucose (IQR):\n",
      "0 odstających\n",
      "\n",
      "Wartości odstające dla BMI (IQR):\n",
      "8 odstających\n"
     ]
    }
   ],
   "source": [
    "print(\"\\nWartości odstające dla Glucose (IQR):\")\n",
    "print(find_outliers_iqr(df, 'Glucose').shape[0], \"odstających\")\n",
    "print(\"\\nWartości odstające dla BMI (IQR):\")\n",
    "print(find_outliers_iqr(df, 'BMI').shape[0], \"odstających\")"
   ]
  },
  {
   "cell_type": "code",
   "execution_count": 15,
   "metadata": {},
   "outputs": [
    {
     "name": "stdout",
     "output_type": "stream",
     "text": [
      "Rozkład zmiennej 'Outcome' przed balansowaniem:\n",
      "Outcome\n",
      "0    500\n",
      "1    268\n",
      "Name: count, dtype: int64\n",
      "Outcome\n",
      "0    0.651042\n",
      "1    0.348958\n",
      "Name: proportion, dtype: float64\n"
     ]
    }
   ],
   "source": [
    "# Balansowanie\n",
    "print(\"Rozkład zmiennej 'Outcome' przed balansowaniem:\")\n",
    "print(df['Outcome'].value_counts())\n",
    "print(df['Outcome'].value_counts(normalize=True))"
   ]
  },
  {
   "cell_type": "code",
   "execution_count": 14,
   "metadata": {},
   "outputs": [],
   "source": [
    "def smote(df, column):\n",
    "    if df[column].value_counts()[0] / df[column].value_counts()[1] > 2 or \\\n",
    "    df[column].value_counts()[1] / df[column].value_counts()[0] > 2:\n",
    "        print(\"\\nZbiór jest niezbalansowany, stosuję SMOTE...\")\n",
    "        smote = SMOTE(random_state=42)\n",
    "        X_resampled, y_resampled = smote.fit_resample(X, y)\n",
    "        print(f\"Rozkład zmiennej {column} po zastosowaniu SMOTE:\")\n",
    "        print(y_resampled.value_counts())\n",
    "        X = X_resampled\n",
    "        y = y_resampled\n",
    "    else:\n",
    "        print(\"\\nZbiór jest wystarczająco zbalansowany, pomijam SMOTE.\")"
   ]
  },
  {
   "cell_type": "code",
   "execution_count": 16,
   "metadata": {},
   "outputs": [
    {
     "name": "stdout",
     "output_type": "stream",
     "text": [
      "\n",
      "Zbiór jest wystarczająco zbalansowany, pomijam SMOTE.\n"
     ]
    }
   ],
   "source": [
    "X = df.drop('Outcome', axis=1)\n",
    "y = df['Outcome']\n",
    "\n",
    "\n",
    "smote(df,'Outcome')"
   ]
  },
  {
   "cell_type": "code",
   "execution_count": 17,
   "metadata": {},
   "outputs": [
    {
     "name": "stdout",
     "output_type": "stream",
     "text": [
      "Kształt zbioru treningowego X: (576, 8), y: (576,)\n",
      "Kształt zbioru testowego X: (192, 8), y: (192,)\n"
     ]
    }
   ],
   "source": [
    "# Podział danych\n",
    "X_train, X_test, y_train, y_test = train_test_split(X, y, test_size=0.25, random_state=42, stratify=y)\n",
    "print(f\"Kształt zbioru treningowego X: {X_train.shape}, y: {y_train.shape}\")\n",
    "print(f\"Kształt zbioru testowego X: {X_test.shape}, y: {y_test.shape}\")\n"
   ]
  },
  {
   "cell_type": "code",
   "execution_count": 19,
   "metadata": {},
   "outputs": [
    {
     "name": "stdout",
     "output_type": "stream",
     "text": [
      "\n",
      "Przykładowe dane po skalowaniu (pierwsze 5 wierszy zbioru treningowego):\n",
      "   Pregnancies   Glucose  BloodPressure  SkinThickness   Insulin       BMI  \\\n",
      "0    -0.855471 -0.019266       0.486075       1.124727 -0.803010  0.954719   \n",
      "1     2.467805 -1.115725       0.159569       1.238125 -1.057352  0.405410   \n",
      "2    -0.855471 -0.451205      -0.983204       1.918513  0.519569  0.435102   \n",
      "3    -1.157587 -0.550883       1.465594      -0.009253 -0.154438 -0.440824   \n",
      "4    -0.855471 -0.152171      -0.983204      -0.689641 -0.396063  0.182717   \n",
      "\n",
      "   DiabetesPedigreeFunction       Age  \n",
      "0                 -0.658457 -0.466486  \n",
      "1                 -0.306999  1.218656  \n",
      "2                 -0.195854 -0.803514  \n",
      "3                 -0.850708  1.050142  \n",
      "4                 -0.042655 -0.550743  \n"
     ]
    }
   ],
   "source": [
    "# Skalowanie zmiennych\n",
    "scaler = StandardScaler()\n",
    "X_train_scaled = scaler.fit_transform(X_train)\n",
    "X_test_scaled = scaler.transform(X_test)\n",
    "\n",
    "X_train_scaled_df = pd.DataFrame(X_train_scaled, columns=X_train.columns)\n",
    "X_test_scaled_df = pd.DataFrame(X_test_scaled, columns=X_test.columns)\n",
    "\n",
    "print(\"\\nPrzykładowe dane po skalowaniu (pierwsze 5 wierszy zbioru treningowego):\")\n",
    "print(X_train_scaled_df.head())\n"
   ]
  },
  {
   "cell_type": "code",
   "execution_count": 20,
   "metadata": {},
   "outputs": [
    {
     "name": "stdout",
     "output_type": "stream",
     "text": [
      "\n",
      "Metryki oceny modelu:\n",
      "Accuracy: 0.7292\n",
      "Precision: 0.6364\n",
      "Recall: 0.5224\n",
      "F1-Score: 0.5738\n",
      "ROC AUC Score: 0.8239\n",
      "\n",
      "Macierz konfuzji:\n",
      "[[105  20]\n",
      " [ 32  35]]\n"
     ]
    },
    {
     "data": {
      "image/png": "[encoded data removed]",
      "text/plain": [
       "<Figure size 600x400 with 1 Axes>"
      ]
     },
     "metadata": {},
     "output_type": "display_data"
    }
   ],
   "source": [
    "# Regresja i ocena\n",
    "\n",
    "model = LogisticRegression(random_state=42, solver='liblinear') # liblinear dla małych zbiorów i L1/L2\n",
    "model.fit(X_train_scaled, y_train)\n",
    "\n",
    "# Predykcja na zbiorze testowym\n",
    "y_pred = model.predict(X_test_scaled)\n",
    "y_pred_proba = model.predict_proba(X_test_scaled)[:, 1] # Prawdopodobieństwo klasy pozytywnej\n",
    "\n",
    "# Ocena jakości modelu\n",
    "print(\"\\nMetryki oceny modelu:\")\n",
    "print(f\"Accuracy: {accuracy_score(y_test, y_pred):.4f}\")\n",
    "print(f\"Precision: {precision_score(y_test, y_pred):.4f}\")\n",
    "print(f\"Recall: {recall_score(y_test, y_pred):.4f}\")\n",
    "print(f\"F1-Score: {f1_score(y_test, y_pred):.4f}\")\n",
    "print(f\"ROC AUC Score: {roc_auc_score(y_test, y_pred_proba):.4f}\")\n",
    "\n",
    "# Macierz konfuzji\n",
    "print(\"\\nMacierz konfuzji:\")\n",
    "cm = confusion_matrix(y_test, y_pred)\n",
    "print(cm)\n",
    "\n",
    "plt.figure(figsize=(6, 4))\n",
    "sns.heatmap(cm, annot=True, fmt='d', cmap='Blues', cbar=False,\n",
    "            xticklabels=['Predicted 0', 'Predicted 1'],\n",
    "            yticklabels=['Actual 0', 'Actual 1'])\n",
    "plt.title('Macierz Konfuzji')\n",
    "plt.xlabel('Predykcja')\n",
    "plt.ylabel('Rzeczywistość')\n",
    "plt.show()"
   ]
  }
 ],
 "metadata": {
  "kernelspec": {
   "display_name": "Python 3",
   "language": "python",
   "name": "python3"
  },
  "language_info": {
   "codemirror_mode": {
    "name": "ipython",
    "version": 3
   },
   "file_extension": ".py",
   "mimetype": "text/x-python",
   "name": "python",
   "nbconvert_exporter": "python",
   "pygments_lexer": "ipython3",
   "version": "3.11.5"
  }
 },
 "nbformat": 4,
 "nbformat_minor": 2
}
